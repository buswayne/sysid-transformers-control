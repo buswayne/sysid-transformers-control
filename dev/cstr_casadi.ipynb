{
 "cells": [
  {
   "cell_type": "code",
   "execution_count": 3,
   "id": "initial_id",
   "metadata": {
    "collapsed": true,
    "ExecuteTime": {
     "end_time": "2023-10-03T03:59:54.390253Z",
     "start_time": "2023-10-03T03:59:53.346190100Z"
    }
   },
   "outputs": [],
   "source": [
    "import numpy as np\n",
    "import pandas as pd\n",
    "import matplotlib.pyplot as plt\n",
    "import casadi as ca\n",
    "import casadi.tools as ct"
   ]
  },
  {
   "cell_type": "code",
   "execution_count": 4,
   "outputs": [],
   "source": [
    "def problem_data():\n",
    "    \"\"\" Problem data, numeric constants,...\n",
    "    \"\"\"\n",
    "\n",
    "    data = {}\n",
    "    data['a'] = 0.5616\n",
    "    data['b'] = 0.3126\n",
    "    data['c'] = 48.43\n",
    "    data['d'] = 0.507\n",
    "    data['e'] = 55.0\n",
    "    data['f'] = 0.1538\n",
    "    data['g'] = 90.0\n",
    "    data['h'] = 0.16\n",
    "\n",
    "    data['M'] = 20.0\n",
    "    data['C'] = 4.0\n",
    "    data['UA2'] = 6.84\n",
    "    data['Cp'] = 0.07\n",
    "    data['lam'] = 38.5\n",
    "    data['lams'] = 36.6\n",
    "    data['F1'] = 10.0\n",
    "    data['X1'] = 5.0\n",
    "    data['F3'] = 50.0\n",
    "    data['T1'] = 40.0\n",
    "    data['T200'] = 25.0\n",
    "\n",
    "    return data\n",
    "\n",
    "def intermediate_vars(x, u, data):\n",
    "\n",
    "    \"\"\" Intermediate model variables\n",
    "    \"\"\"\n",
    "\n",
    "    data['T2'] = data['a']*x['P2'] + data['b']*x['X2'] + data['c']\n",
    "    data['T3'] = data['d']*x['P2'] + data['e']\n",
    "    data['T100'] = data['f']*u['P100'] + data['g'] # added noise\n",
    "    data['UA1'] = data['h']*(data['F1']+data['F3'])\n",
    "    data['Q100'] = data['UA1']*(data['T100'] - data['T2'])\n",
    "    data['F100'] = data['Q100']/data['lams']\n",
    "    data['Q200'] = data['UA2']*(data['T3']-data['T200'])/(1.0 + data['UA2']/(2.0*data['Cp']*u['F200']))\n",
    "    data['F5'] = data['Q200']/data['lam']\n",
    "    data['F4'] = (data['Q100']-data['F1']*data['Cp']*(data['T2']-data['T1']))/data['lam']\n",
    "    data['F2'] = (data['F1'] - data['F4'])\n",
    "    return data\n",
    "\n",
    "def intermediate_vars_noisy(x, u, data):\n",
    "\n",
    "    \"\"\" Intermediate model variables\n",
    "    \"\"\"\n",
    "    # Add noise to X1, F2, T1, T200\n",
    "    data['X1'] += u['X1_noise']\n",
    "    data['T1'] += u['T1_noise']\n",
    "    data['T200'] += u['T200_noise']\n",
    "\n",
    "    data['T2'] = data['a']*x['P2'] + data['b']*x['X2'] + data['c']\n",
    "    data['T3'] = data['d']*x['P2'] + data['e']\n",
    "    data['T100'] = data['f']*u['P100'] + data['g'] # added noise\n",
    "    data['UA1'] = data['h']*(data['F1']+data['F3'])\n",
    "    data['Q100'] = data['UA1']*(data['T100'] - data['T2'])\n",
    "    data['F100'] = data['Q100']/data['lams']\n",
    "    data['Q200'] = data['UA2']*(data['T3']-data['T200'])/(1.0 + data['UA2']/(2.0*data['Cp']*u['F200']))\n",
    "    data['F5'] = data['Q200']/data['lam']\n",
    "    data['F4'] = (data['Q100']-data['F1']*data['Cp']*(data['T2']-data['T1']))/data['lam']\n",
    "    data['F2'] = (data['F1'] - data['F4'])\n",
    "    data['F2'] += u['F2_noise']\n",
    "    return data"
   ],
   "metadata": {
    "collapsed": false,
    "ExecuteTime": {
     "end_time": "2023-10-03T04:00:14.768006800Z",
     "start_time": "2023-10-03T04:00:14.759985Z"
    }
   },
   "id": "d5471f59d8de01e1"
  },
  {
   "cell_type": "code",
   "execution_count": 5,
   "outputs": [],
   "source": [
    "def dynamics(x, u, data):\n",
    "\n",
    "    \"\"\" System dynamics function (discrete time)\n",
    "    \"\"\"\n",
    "\n",
    "    # state derivative expression\n",
    "    xdot = ca.vertcat(\n",
    "        (data['F1']*data['X1'] - data['F2']*x['X2'])/data['M'],\n",
    "        (data['F4'] - data['F5'])/data['C']\n",
    "        )\n",
    "\n",
    "    # create ode for integrator\n",
    "    ode = {'x':x, 'p':u,'ode': xdot}\n",
    "\n",
    "    return [ca.integrator('F','collocation',ode,{'tf':1}), ode]\n",
    "\n",
    "def vars():\n",
    "\n",
    "    \"\"\" System states and controls\n",
    "    \"\"\"\n",
    "\n",
    "    x = ct.struct_symMX(['X2','P2'])\n",
    "    u = ct.struct_symMX(['P100','F200'])\n",
    "\n",
    "    return x, u\n",
    "\n",
    "def vars_noisy():\n",
    "\n",
    "    \"\"\" System states and controls\n",
    "    \"\"\"\n",
    "\n",
    "    x = ct.struct_symMX(['X2','P2'])\n",
    "    u = ct.struct_symMX(['P100','F200','X1_noise','F2_noise','T1_noise','T200_noise'])\n",
    "\n",
    "    return x, u\n",
    "\n",
    "def objective(x, u, data):\n",
    "\n",
    "    \"\"\" Economic objective function\n",
    "    \"\"\"\n",
    "    \n",
    "    # cost definition\n",
    "    obj = 10.09*(data['F2']+data['F3']) + 600.0*data['F100'] + 0.6*u['F200']\n",
    "\n",
    "    return ca.Function('economic_cost',[x,u],[obj])\n",
    "\n",
    "def constraints(x, u, data):\n",
    "    \n",
    "    \"\"\" Path inequality constraints function (convention h(x,u) >= 0)\n",
    "    \"\"\"\n",
    "\n",
    "    constr = ca.vertcat(\n",
    "        x['X2'] - 25.0,\n",
    "        x['P2'] - 40.0,\n",
    "        100.0 - x['X2'],\n",
    "        80.0 - x['P2'],\n",
    "        400.0 - u['P100'],\n",
    "        400.0 - u['F200'],\n",
    "    )\n",
    "\n",
    "    return ca.Function('h', [x,u], [constr])"
   ],
   "metadata": {
    "collapsed": false,
    "ExecuteTime": {
     "end_time": "2023-10-03T04:00:25.119088800Z",
     "start_time": "2023-10-03T04:00:25.093140600Z"
    }
   },
   "id": "e4cff8e0fa7c25ff"
  },
  {
   "cell_type": "code",
   "execution_count": 6,
   "outputs": [
    {
     "name": "stderr",
     "output_type": "stream",
     "text": [
      "CasADi - 2023-10-03 06:00:44 WARNING(\"The options 't0', 'tf', 'grid' and 'output_t0' have been deprecated.\n",
      "The same functionality is provided by providing additional input arguments to the 'integrator' function, in particular:\n",
      " * Call integrator(..., t0, tf, options) for a single output time, or\n",
      " * Call integrator(..., t0, grid, options) for multiple grid points.\n",
      "The legacy 'output_t0' option can be emulated by including or excluding 't0' in 'grid'.\n",
      "Backwards compatibility is provided in this release only.\") [.../casadi/core/integrator.cpp:515]\n"
     ]
    }
   ],
   "source": [
    "# set-up system\n",
    "x, u = vars()\n",
    "data = intermediate_vars(x, u, problem_data())\n",
    "f = dynamics(x, u, data)[0]\n",
    "l = objective(x, u, data)\n",
    "h = constraints(x, u, data)\n",
    "# set-up noisy system\n",
    "x, u_noisy = vars_noisy()\n",
    "data_noisy = intermediate_vars_noisy(x, u_noisy, problem_data())\n",
    "f_noisy = dynamics(x, u_noisy, data_noisy)[0]\n",
    "l_noisy = objective(x, u_noisy, data_noisy)\n",
    "h_noisy = constraints(x, u_noisy, data_noisy)"
   ],
   "metadata": {
    "collapsed": false,
    "ExecuteTime": {
     "end_time": "2023-10-03T04:00:44.554604400Z",
     "start_time": "2023-10-03T04:00:44.532869300Z"
    }
   },
   "id": "f4479263d8e3e4e3"
  },
  {
   "cell_type": "code",
   "execution_count": 7,
   "outputs": [],
   "source": [
    "res = f(x0=x, p=u)\n",
    "x_next = res['xf'] # Access x_next as the DAE symbolic solution\n",
    "# Define function F to simplify mapping between symbolic (x,u) --> (x_next)\n",
    "F = ca.Function('F',[x,u],[x_next],['x','u'],['x_next'])\n",
    "\n",
    "res_noisy = f_noisy(x0=x, p=u_noisy)\n",
    "x_next_noisy = res_noisy['xf']\n",
    "F_noisy = ca.Function('F_noisy',[x,u_noisy],[x_next_noisy],['x','u_noisy'],['x_next'])"
   ],
   "metadata": {
    "collapsed": false,
    "ExecuteTime": {
     "end_time": "2023-10-03T04:01:02.727290500Z",
     "start_time": "2023-10-03T04:01:02.711842400Z"
    }
   },
   "id": "32929222dd2f622c"
  },
  {
   "cell_type": "code",
   "execution_count": 16,
   "outputs": [
    {
     "name": "stdout",
     "output_type": "stream",
     "text": [
      "[25, 49.743]\n"
     ]
    }
   ],
   "source": [
    "T = 300\n",
    "Ts = 1\n",
    "N = 10\n",
    "x_s = [25.0, 49.743]\n",
    "u_s = [191.713, 215.888]\n",
    "# Test steady state validity\n",
    "print(F(x_s, u_s))"
   ],
   "metadata": {
    "collapsed": false,
    "ExecuteTime": {
     "end_time": "2023-10-03T04:04:57.978069800Z",
     "start_time": "2023-10-03T04:04:57.964456Z"
    }
   },
   "id": "58b0639ab41d1860"
  },
  {
   "cell_type": "code",
   "execution_count": 39,
   "outputs": [],
   "source": [
    "t = np.arange(0,T,Ts)\n",
    "u = 10*np.random.randn(*t.shape, 2)"
   ],
   "metadata": {
    "collapsed": false,
    "ExecuteTime": {
     "end_time": "2023-10-03T04:13:45.057099700Z",
     "start_time": "2023-10-03T04:13:45.034551500Z"
    }
   },
   "id": "c8a7094e655c4699"
  },
  {
   "cell_type": "code",
   "execution_count": 45,
   "outputs": [
    {
     "data": {
      "text/plain": "(0.086222, 0.026125, 0.542658, 1.0)"
     },
     "execution_count": 45,
     "metadata": {},
     "output_type": "execute_result"
    }
   ],
   "source": [
    "cmap = plt.get_cmap('plasma')"
   ],
   "metadata": {
    "collapsed": false,
    "ExecuteTime": {
     "end_time": "2023-10-03T04:35:03.341342300Z",
     "start_time": "2023-10-03T04:35:03.328855100Z"
    }
   },
   "id": "d225c43297ae5840"
  },
  {
   "cell_type": "code",
   "execution_count": 41,
   "outputs": [
    {
     "data": {
      "text/plain": "[<matplotlib.lines.Line2D at 0x1928a1434d0>]"
     },
     "execution_count": 41,
     "metadata": {},
     "output_type": "execute_result"
    },
    {
     "data": {
      "text/plain": "<Figure size 640x480 with 1 Axes>",
      "image/png": "[encoded data removed]"
     },
     "metadata": {},
     "output_type": "display_data"
    }
   ],
   "source": [
    "X_log = np.empty((2,0))\n",
    "U_log = np.empty((2,0))\n",
    "\n",
    "x_0 = np.array(x_s)\n",
    "u_0 = np.array(u_s)\n",
    "\n",
    "noisy = False\n",
    "\n",
    "for i in range(300):\n",
    "    # print(i)\n",
    "    s = x_0\n",
    "    a = u[i,:]\n",
    "    \n",
    "    if noisy:\n",
    "        a = ca.vertcat(a,\n",
    "               np.random.normal(loc=.0, scale=1),\n",
    "               np.random.normal(loc=.0, scale=2),\n",
    "               np.random.normal(loc=.0, scale=8),\n",
    "               np.random.normal(loc=.0, scale=5))\n",
    "        s_next = F_noisy(s, a)\n",
    "    else:\n",
    "        s_next = F(s, a)\n",
    "\n",
    "    x_0 = np.array(s_next).flatten()\n",
    "\n",
    "    U_log = np.column_stack((U_log, a[:2]))\n",
    "    X_log = np.column_stack((X_log, x_0))\n",
    "    \n",
    "plt.plot(X_log[0,:])\n",
    "plt.plot(X_log[1,:])"
   ],
   "metadata": {
    "collapsed": false,
    "ExecuteTime": {
     "end_time": "2023-10-03T04:17:28.063538500Z",
     "start_time": "2023-10-03T04:17:27.661546700Z"
    }
   },
   "id": "18f37fbdb60d6a2c"
  },
  {
   "cell_type": "code",
   "execution_count": null,
   "outputs": [],
   "source": [],
   "metadata": {
    "collapsed": false
   },
   "id": "99f9157cf3ef0c52"
  }
 ],
 "metadata": {
  "kernelspec": {
   "display_name": "Python 3",
   "language": "python",
   "name": "python3"
  },
  "language_info": {
   "codemirror_mode": {
    "name": "ipython",
    "version": 2
   },
   "file_extension": ".py",
   "mimetype": "text/x-python",
   "name": "python",
   "nbconvert_exporter": "python",
   "pygments_lexer": "ipython2",
   "version": "2.7.6"
  }
 },
 "nbformat": 4,
 "nbformat_minor": 5
}
