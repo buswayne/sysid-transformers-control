{
 "cells": [
  {
   "cell_type": "code",
   "execution_count": 5,
   "outputs": [],
   "source": [
    "import numpy as np\n",
    "import pandas as pd\n",
    "\n",
    "from campi_example_1 import simulate_campi_example_1\n",
    "import matplotlib.pyplot as plt\n",
    "from control.matlab import *\n",
    "plt.rcParams[\"font.family\"] = \"Times New Roman\"\n",
    "plt.rcParams[\"mathtext.fontset\"] = \"cm\"\n",
    "plt.rcParams['axes.labelsize']=14\n",
    "plt.rcParams['xtick.labelsize']=11\n",
    "plt.rcParams['ytick.labelsize']=11\n",
    "plt.rcParams['axes.grid']=True\n",
    "plt.rcParams['axes.xmargin']=0"
   ],
   "metadata": {
    "collapsed": false,
    "ExecuteTime": {
     "end_time": "2024-01-10T17:02:17.711029200Z",
     "start_time": "2024-01-10T17:02:17.696023Z"
    }
   },
   "id": "c4aac27de79c3bcd"
  },
  {
   "cell_type": "code",
   "execution_count": 6,
   "outputs": [],
   "source": [
    "N = 50 # n. of test experiments\n",
    "\n",
    "data_test = [None] * N\n",
    "\n",
    "for i in range(N): # generate N I/O sets of data \n",
    "    # Perturbation factor for initial conditions\n",
    "    perturbation = 0.8\n",
    "\n",
    "    # Simulate the system trajectory using the model\n",
    "    t, x, u, y, data = simulate_campi_example_1(perturbation=perturbation)\n",
    "    \n",
    "    data_test[i] = dict(data)"
   ],
   "metadata": {
    "collapsed": false,
    "ExecuteTime": {
     "end_time": "2024-01-10T17:02:18.608686200Z",
     "start_time": "2024-01-10T17:02:17.701041900Z"
    }
   },
   "id": "9577df627c76dc2a"
  },
  {
   "cell_type": "code",
   "execution_count": 7,
   "outputs": [],
   "source": [
    "import pickle as pkl\n",
    "from typing import Dict\n",
    "\n",
    "test_set = {'data_test': data_test}\n",
    "with open('../data/control/test_set_campi_example_1.pkl', 'wb') as f:\n",
    "    pkl.dump(test_set, f)"
   ],
   "metadata": {
    "collapsed": false,
    "ExecuteTime": {
     "end_time": "2024-01-10T17:02:18.621172400Z",
     "start_time": "2024-01-10T17:02:18.610688200Z"
    }
   },
   "id": "48142a6935889c24"
  }
 ],
 "metadata": {
  "kernelspec": {
   "display_name": "Python 3",
   "language": "python",
   "name": "python3"
  },
  "language_info": {
   "codemirror_mode": {
    "name": "ipython",
    "version": 2
   },
   "file_extension": ".py",
   "mimetype": "text/x-python",
   "name": "python",
   "nbconvert_exporter": "python",
   "pygments_lexer": "ipython2",
   "version": "2.7.6"
  }
 },
 "nbformat": 4,
 "nbformat_minor": 5
}
