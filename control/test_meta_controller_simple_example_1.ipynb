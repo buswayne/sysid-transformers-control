{
 "cells": [
  {
   "cell_type": "code",
   "execution_count": 163,
   "outputs": [],
   "source": [
    "import time\n",
    "import numpy as np\n",
    "import pandas as pd\n",
    "import matplotlib.pyplot as plt\n",
    "import pickle as pkl\n",
    "from numba import float32, float64, jit, NumbaPerformanceWarning\n",
    "import warnings\n",
    "import os\n",
    "\n",
    "warnings.simplefilter('ignore', category=NumbaPerformanceWarning)\n",
    "\n",
    "from utils import simulate_onestep_campi_example_1\n",
    "\n",
    "plt.rcParams[\"font.family\"] = \"Times New Roman\"\n",
    "plt.rcParams[\"mathtext.fontset\"] = \"cm\"\n",
    "plt.rcParams['axes.labelsize']=14\n",
    "plt.rcParams['xtick.labelsize']=11\n",
    "plt.rcParams['ytick.labelsize']=11\n",
    "plt.rcParams['axes.grid']=True\n",
    "plt.rcParams['axes.xmargin']=0"
   ],
   "metadata": {
    "collapsed": false,
    "ExecuteTime": {
     "end_time": "2024-02-16T14:17:38.038147400Z",
     "start_time": "2024-02-16T14:17:37.922521500Z"
    }
   },
   "id": "f1843b5eb255e7ec"
  },
  {
   "cell_type": "code",
   "execution_count": 164,
   "id": "df653a7d",
   "metadata": {
    "ExecuteTime": {
     "end_time": "2024-02-16T14:17:38.040143600Z",
     "start_time": "2024-02-16T14:17:37.930966600Z"
    }
   },
   "outputs": [],
   "source": [
    "from pathlib import Path\n",
    "import time\n",
    "import torch\n",
    "import numpy as np\n",
    "import pandas as pd\n",
    "from torch.utils.data import DataLoader\n",
    "import matplotlib.pyplot as plt\n",
    "from transformer_onestep import GPTConfig, GPT\n",
    "import tqdm\n",
    "import argparse\n",
    "import metrics\n",
    "from control.matlab import *"
   ]
  },
  {
   "cell_type": "code",
   "execution_count": 165,
   "id": "e4a8b43d",
   "metadata": {
    "ExecuteTime": {
     "end_time": "2024-02-16T14:17:38.040143600Z",
     "start_time": "2024-02-16T14:17:38.037150300Z"
    }
   },
   "outputs": [],
   "source": [
    "fig_path = Path(\"fig\")\n",
    "fig_path.mkdir(exist_ok=True)"
   ]
  },
  {
   "cell_type": "code",
   "execution_count": 166,
   "id": "1d446d6d",
   "metadata": {
    "ExecuteTime": {
     "end_time": "2024-02-16T14:17:38.040143600Z",
     "start_time": "2024-02-16T14:17:38.037150300Z"
    }
   },
   "outputs": [],
   "source": [
    "# Fix all random sources to make script fully reproducible\n",
    "torch.manual_seed(420)\n",
    "np.random.seed(430)\n",
    "system_seed = 430 # Controls the system generation\n",
    "data_seed = 0 # Control the input generation"
   ]
  },
  {
   "cell_type": "code",
   "execution_count": 167,
   "id": "6a235fd7",
   "metadata": {
    "ExecuteTime": {
     "end_time": "2024-02-16T14:17:38.040143600Z",
     "start_time": "2024-02-16T14:17:38.037150300Z"
    }
   },
   "outputs": [],
   "source": [
    "# Overall settings\n",
    "out_dir = \"out\"\n",
    "\n",
    "# System settings\n",
    "nu = 1\n",
    "ny = 1\n",
    "#seq_len = 600\n",
    "batch_size = 50 # 256\n",
    "\n",
    "# Compute settings\n",
    "cuda_device = \"cuda:1\"\n",
    "no_cuda = True\n",
    "threads = 10\n",
    "compile = False\n",
    "\n",
    "# Configure compute\n",
    "torch.set_num_threads(threads) \n",
    "use_cuda = not no_cuda and torch.cuda.is_available()\n",
    "device_name  = cuda_device if use_cuda else \"cpu\"\n",
    "device = torch.device(device_name)\n",
    "device_type = 'cuda' if 'cuda' in device_name else 'cpu' # for later use in torch.autocast\n",
    "torch.set_float32_matmul_precision(\"high\")\n",
    "#torch.backends.cuda.matmul.allow_tf32 = True # allow tf32 on matmul\n",
    "#torch.backends.cudnn.allow_tf32 = True # allow tf32 on cudnn"
   ]
  },
  {
   "cell_type": "code",
   "execution_count": 168,
   "id": "69ad2d3e",
   "metadata": {
    "ExecuteTime": {
     "end_time": "2024-02-16T14:17:38.040143600Z",
     "start_time": "2024-02-16T14:17:38.037150300Z"
    }
   },
   "outputs": [],
   "source": [
    "# Create out dir\n",
    "out_dir = Path(out_dir)\n",
    "exp_data = torch.load(out_dir/\"ckpt_controller_simple_example_seq50.pt\", map_location=device)"
   ]
  },
  {
   "cell_type": "code",
   "execution_count": 169,
   "id": "0c029f10",
   "metadata": {
    "ExecuteTime": {
     "end_time": "2024-02-16T14:17:38.041140600Z",
     "start_time": "2024-02-16T14:17:38.037150300Z"
    }
   },
   "outputs": [],
   "source": [
    "seq_len = exp_data[\"cfg\"].seq_len\n",
    "nx = exp_data[\"cfg\"].nx"
   ]
  },
  {
   "cell_type": "code",
   "execution_count": 170,
   "id": "34332c1a",
   "metadata": {
    "ExecuteTime": {
     "end_time": "2024-02-16T14:17:38.106200400Z",
     "start_time": "2024-02-16T14:17:38.041140600Z"
    }
   },
   "outputs": [
    {
     "name": "stdout",
     "output_type": "stream",
     "text": [
      "number of parameters: 2.37M\n"
     ]
    }
   ],
   "source": [
    "model_args = exp_data[\"model_args\"]\n",
    "gptconf = GPTConfig(**model_args)\n",
    "model = GPT(gptconf).to(device)\n",
    "\n",
    "\n",
    "state_dict = exp_data[\"model\"]\n",
    "unwanted_prefix = '_orig_mod.'\n",
    "for k,v in list(state_dict.items()):\n",
    "    if k.startswith(unwanted_prefix):\n",
    "        state_dict[k[len(unwanted_prefix):]] = state_dict.pop(k)\n",
    "model.load_state_dict(state_dict);"
   ]
  },
  {
   "cell_type": "code",
   "execution_count": 171,
   "outputs": [],
   "source": [
    "import pickle as pkl\n",
    "\n",
    "with open('data/test_set_simple_example_1.pkl', 'rb') as f:\n",
    "    test_set = pkl.load(f)\n",
    "\n",
    "data_test = test_set['data_test']"
   ],
   "metadata": {
    "collapsed": false,
    "ExecuteTime": {
     "end_time": "2024-02-16T14:17:38.135916300Z",
     "start_time": "2024-02-16T14:17:38.087939800Z"
    }
   },
   "id": "b84f563fe08bd4bc"
  },
  {
   "cell_type": "code",
   "execution_count": 172,
   "outputs": [
    {
     "name": "stderr",
     "output_type": "stream",
     "text": [
      "/home/rbusetto/.conda/envs/transformers-control/lib/python3.10/site-packages/control/timeresp.py:940: UserWarning: return_x specified for a transfer function system. Internal conversion to state space used; results may meaningless.\n",
      "  warnings.warn(\n"
     ]
    }
   ],
   "source": [
    "from dataset_simple_example_1 import SimpleExample1Dataset\n",
    "test_ds = SimpleExample1Dataset(seq_len=50, normalize=True)\n",
    "# train_ds = LinearDynamicalDataset(nx=5, nu=2, ny=3, seq_len=1000)\n",
    "test_dl = DataLoader(test_ds, batch_size=50)\n",
    "batch_y, batch_u = next(iter(test_dl))"
   ],
   "metadata": {
    "collapsed": false,
    "ExecuteTime": {
     "end_time": "2024-02-16T14:17:39.560223500Z",
     "start_time": "2024-02-16T14:17:38.132468300Z"
    }
   },
   "id": "c64214d934d313ea"
  },
  {
   "cell_type": "code",
   "execution_count": 173,
   "outputs": [],
   "source": [
    "with torch.no_grad():\n",
    "    batch_y_pred, loss = model(batch_u, batch_y)\n",
    "    batch_y_pred = batch_y_pred.detach().numpy()\n",
    "    batch_y = batch_y.detach().numpy()\n",
    "    batch_u = batch_u.detach().numpy()"
   ],
   "metadata": {
    "collapsed": false,
    "ExecuteTime": {
     "end_time": "2024-02-16T14:17:39.609857400Z",
     "start_time": "2024-02-16T14:17:39.550464200Z"
    }
   },
   "id": "ae286987c87596e1"
  },
  {
   "cell_type": "code",
   "execution_count": 174,
   "outputs": [],
   "source": [
    "batch_y_target = batch_y[:, 1:, :] # target @ time k: y_{k+1}\n",
    "batch_y_pred = batch_y_pred[:, :-1, :] # prediction @ time k: y_{k+1|k}\n",
    "batch_y_pred_dummy = batch_y[:, :-1, :] # dummy estimator: y_{k+1} \\approx y_{k}\n",
    "batch_pred_err = batch_y_target - batch_y_pred\n",
    "batch_pred_err_dummy = batch_y_target - batch_y_pred_dummy"
   ],
   "metadata": {
    "collapsed": false,
    "ExecuteTime": {
     "end_time": "2024-02-16T14:17:39.610856200Z",
     "start_time": "2024-02-16T14:17:39.607862600Z"
    }
   },
   "id": "5ad72310042dba74"
  },
  {
   "cell_type": "code",
   "execution_count": 175,
   "outputs": [
    {
     "name": "stderr",
     "output_type": "stream",
     "text": [
      "findfont: Font family 'Times New Roman' not found.\n",
      "findfont: Font family 'Times New Roman' not found.\n",
      "findfont: Font family 'Times New Roman' not found.\n",
      "findfont: Font family 'Times New Roman' not found.\n",
      "findfont: Font family 'Times New Roman' not found.\n",
      "findfont: Font family 'Times New Roman' not found.\n",
      "findfont: Font family 'Times New Roman' not found.\n",
      "findfont: Font family 'Times New Roman' not found.\n",
      "findfont: Font family 'Times New Roman' not found.\n",
      "findfont: Font family 'Times New Roman' not found.\n",
      "findfont: Font family 'Times New Roman' not found.\n",
      "findfont: Font family 'Times New Roman' not found.\n",
      "findfont: Font family 'Times New Roman' not found.\n",
      "findfont: Font family 'Times New Roman' not found.\n",
      "findfont: Font family 'Times New Roman' not found.\n",
      "findfont: Font family 'Times New Roman' not found.\n",
      "findfont: Font family 'Times New Roman' not found.\n",
      "findfont: Font family 'Times New Roman' not found.\n",
      "findfont: Font family 'Times New Roman' not found.\n",
      "findfont: Font family 'Times New Roman' not found.\n",
      "findfont: Font family 'Times New Roman' not found.\n",
      "findfont: Font family 'Times New Roman' not found.\n",
      "findfont: Font family 'Times New Roman' not found.\n",
      "findfont: Font family 'Times New Roman' not found.\n",
      "findfont: Font family 'Times New Roman' not found.\n",
      "findfont: Font family 'Times New Roman' not found.\n",
      "findfont: Font family 'Times New Roman' not found.\n",
      "findfont: Font family 'Times New Roman' not found.\n",
      "findfont: Font family 'Times New Roman' not found.\n",
      "findfont: Font family 'Times New Roman' not found.\n",
      "findfont: Font family 'Times New Roman' not found.\n",
      "findfont: Font family 'Times New Roman' not found.\n",
      "findfont: Font family 'Times New Roman' not found.\n",
      "findfont: Font family 'Times New Roman' not found.\n",
      "findfont: Font family 'Times New Roman' not found.\n",
      "findfont: Font family 'Times New Roman' not found.\n",
      "findfont: Font family 'Times New Roman' not found.\n",
      "findfont: Font family 'Times New Roman' not found.\n",
      "findfont: Font family 'Times New Roman' not found.\n",
      "findfont: Font family 'Times New Roman' not found.\n",
      "findfont: Font family 'Times New Roman' not found.\n",
      "findfont: Font family 'Times New Roman' not found.\n",
      "findfont: Font family 'Times New Roman' not found.\n",
      "findfont: Font family 'Times New Roman' not found.\n",
      "findfont: Font family 'Times New Roman' not found.\n",
      "findfont: Font family 'Times New Roman' not found.\n",
      "findfont: Font family 'Times New Roman' not found.\n",
      "findfont: Font family 'Times New Roman' not found.\n",
      "findfont: Font family 'Times New Roman' not found.\n",
      "findfont: Font family 'Times New Roman' not found.\n",
      "findfont: Font family 'Times New Roman' not found.\n",
      "findfont: Font family 'Times New Roman' not found.\n",
      "findfont: Font family 'Times New Roman' not found.\n",
      "findfont: Font family 'Times New Roman' not found.\n",
      "findfont: Font family 'Times New Roman' not found.\n",
      "findfont: Font family 'Times New Roman' not found.\n",
      "findfont: Font family 'Times New Roman' not found.\n",
      "findfont: Font family 'Times New Roman' not found.\n",
      "findfont: Font family 'Times New Roman' not found.\n",
      "findfont: Font family 'Times New Roman' not found.\n",
      "findfont: Font family 'Times New Roman' not found.\n",
      "findfont: Font family 'Times New Roman' not found.\n",
      "findfont: Font family 'Times New Roman' not found.\n",
      "findfont: Font family 'Times New Roman' not found.\n",
      "findfont: Font family 'Times New Roman' not found.\n",
      "findfont: Font family 'Times New Roman' not found.\n",
      "findfont: Font family 'Times New Roman' not found.\n",
      "findfont: Font family 'Times New Roman' not found.\n",
      "findfont: Font family 'Times New Roman' not found.\n",
      "findfont: Font family 'Times New Roman' not found.\n",
      "findfont: Font family 'Times New Roman' not found.\n",
      "findfont: Font family 'Times New Roman' not found.\n",
      "findfont: Font family 'Times New Roman' not found.\n",
      "findfont: Font family 'Times New Roman' not found.\n",
      "findfont: Font family 'Times New Roman' not found.\n",
      "findfont: Font family 'Times New Roman' not found.\n",
      "findfont: Font family 'Times New Roman' not found.\n",
      "findfont: Font family 'Times New Roman' not found.\n",
      "findfont: Font family 'Times New Roman' not found.\n",
      "findfont: Font family 'Times New Roman' not found.\n",
      "findfont: Font family 'Times New Roman' not found.\n",
      "findfont: Font family 'Times New Roman' not found.\n",
      "findfont: Font family 'Times New Roman' not found.\n",
      "findfont: Font family 'Times New Roman' not found.\n",
      "findfont: Font family 'Times New Roman' not found.\n",
      "findfont: Font family 'Times New Roman' not found.\n",
      "findfont: Font family 'Times New Roman' not found.\n",
      "findfont: Font family 'Times New Roman' not found.\n",
      "findfont: Font family 'Times New Roman' not found.\n",
      "findfont: Font family 'Times New Roman' not found.\n",
      "findfont: Font family 'Times New Roman' not found.\n",
      "findfont: Font family 'Times New Roman' not found.\n",
      "findfont: Font family 'Times New Roman' not found.\n",
      "findfont: Font family 'Times New Roman' not found.\n",
      "findfont: Font family 'Times New Roman' not found.\n",
      "findfont: Font family 'Times New Roman' not found.\n",
      "findfont: Font family 'Times New Roman' not found.\n",
      "findfont: Font family 'Times New Roman' not found.\n"
     ]
    },
    {
     "data": {
      "text/plain": "<Figure size 500x250 with 1 Axes>",
      "image/png": "[encoded data removed]"
     },
     "metadata": {},
     "output_type": "display_data"
    }
   ],
   "source": [
    "t = np.arange(1, batch_y.shape[1])\n",
    "plt.figure(figsize=(5, 2.5))\n",
    "\n",
    "idx = 45\n",
    "plt.plot(t, batch_y_target[idx], 'k', label=\"$u$\")\n",
    "plt.plot(t, batch_y_pred[idx], 'b', label=\"$\\hat{u}$\")\n",
    "#plt.plot(batch_y_pred_dummy[idx], 'm', label=\"Pred dummy\")\n",
    "plt.plot(t, batch_y_target[idx] - batch_y_pred[idx], 'r', label=\"$u - \\hat{u}$\")\n",
    "#plt.plot(batch_y_target[idx] - batch_y_pred_dummy[idx], 'm', label=\"Err dummy\")\n",
    "#plt.legend(loc=\"upper right\")\n",
    "plt.legend(bbox_to_anchor=(1.05, 1), loc=2, borderaxespad=0.)\n",
    "plt.grid()\n",
    "#plt.xlim([0, 50]);\n",
    "#plt.ylim([-3, 3]);\n",
    "plt.xlabel(\"time step (-)\")\n",
    "plt.tight_layout()"
   ],
   "metadata": {
    "collapsed": false,
    "ExecuteTime": {
     "end_time": "2024-02-16T14:17:39.918309800Z",
     "start_time": "2024-02-16T14:17:39.622611Z"
    }
   },
   "id": "73a15b8070814463"
  },
  {
   "cell_type": "code",
   "execution_count": 176,
   "outputs": [],
   "source": [
    "# reference\n",
    "Ts = 1e-2\n",
    "\n",
    "step_reference = True\n",
    "\n",
    "# Desired variable to be controlled is x1 = \\theta. Let's compute virtual error\n",
    "s = tf('s')\n",
    "tau = 0.05  # s\n",
    "M = 1 / (1 + (tau / (2 * np.pi)) * s)\n",
    "M = M * (1 + 1e-2 * (tau / (2 * np.pi)) * s)  # add a high freq zero for inversion\n",
    "\n",
    "if step_reference:\n",
    "    t_CL = np.arange(0, 20, Ts)\n",
    "    r = np.zeros(t_CL.shape)\n",
    "    r[t_CL < 2.5] = 20\n",
    "    r[(t_CL >= 2.5) & (t_CL < 5)] = -20\n",
    "    r[(t_CL >= 5) & (t_CL < 7.5)] = 20\n",
    "    r[(t_CL >= 7.5) & (t_CL < 10)] = -20\n",
    "    r[(t_CL >= 10) & (t_CL < 12.5)] = 20\n",
    "    r[(t_CL >= 12.5) & (t_CL < 15)] = -20\n",
    "    r[(t_CL >= 15) & (t_CL < 17.5)] = 20\n",
    "    r[(t_CL >= 17.5) & (t_CL < 20)] = -20\n",
    "    \n",
    "else:\n",
    "    tmp_ds = SimpleExample1Dataset(seq_len=500, normalize=False, return_y=True)\n",
    "    tmp_dl = DataLoader(tmp_ds, batch_size=1)\n",
    "    batch_u, batch_e_v, batch_y = next(iter(tmp_dl))\n",
    "    y = batch_y.numpy().flatten()\n",
    "    t_CL = np.arange(0,len(y))*Ts\n",
    "    r = lsim(M**(-1), y, t_CL)[0]\n",
    "    \n",
    "y_d = lsim(M, r, t_CL)[0]"
   ],
   "metadata": {
    "collapsed": false,
    "ExecuteTime": {
     "end_time": "2024-02-16T14:17:39.918309800Z",
     "start_time": "2024-02-16T14:17:39.862647400Z"
    }
   },
   "id": "e32471b8052e8f27"
  },
  {
   "cell_type": "code",
   "execution_count": 178,
   "outputs": [
    {
     "name": "stdout",
     "output_type": "stream",
     "text": [
      "0\n",
      "tensor([[[ 3.3333, -2.6729,  1.9458, -3.5720,  1.2486, -4.3380,  0.4132,\n",
      "          -4.6680,  0.1438, -4.4659,  0.4437]]])\n",
      "tensor([[[ 1.0000e-09,  3.9744e+00, -2.9332e+00,  3.6805e+00, -3.0472e+00,\n",
      "           3.7415e+00, -2.9843e+00,  3.4256e+00, -3.0161e+00,  3.1208e+00,\n",
      "          -3.0833e+00]]])\n"
     ]
    }
   ],
   "source": [
    "n_testing = 0\n",
    "H = 50\n",
    "\n",
    "# e = torch.Tensor([[[]]])\n",
    "# u = torch.Tensor([[[]]])\n",
    "\n",
    "\n",
    "y_log = np.zeros((len(data_test),len(t_CL)))\n",
    "e_log = np.zeros((len(data_test),len(t_CL)))\n",
    "u_log = np.zeros((len(data_test),len(t_CL)))\n",
    "u_prev_log = np.zeros((len(data_test),len(t_CL)))\n",
    "\n",
    "Ts = 1e-2; Fs = 1 / Ts\n",
    "s = tf('s')\n",
    "# problem data\n",
    "\n",
    "\n",
    "with torch.no_grad():\n",
    "    for n_testing in range(1):#len(data_test)):\n",
    "        \n",
    "        print(n_testing)\n",
    "        \n",
    "        e = torch.Tensor([[[]]])\n",
    "        u = torch.Tensor([[[]]])\n",
    "        \n",
    "        x_i = np.array([1e-6, 1e-6, 1e-6, 1e-6])\n",
    "        y_i = x_i[0]\n",
    "        u_i = 1e-6\n",
    "        \n",
    "        data = data_test[n_testing]\n",
    "        # system\n",
    "        num = [data['num_1'], data['num_2']]\n",
    "        den = [data['den_1'], data['den_2'], data['den_3']]\n",
    "        P = tf(num, den)\n",
    "        \n",
    "        for i in range(len(t_CL)-1):#batch_u.shape[0]): # for each system\n",
    "    \n",
    "            # normalize\n",
    "            u_i /= 1000\n",
    "            e_i = (r[i] - y_i)/6\n",
    "            \n",
    "            u_i_prev = torch.Tensor([[[u_i]]]) \n",
    "            e_i = torch.Tensor([[[e_i]]])\n",
    "            \n",
    "            y_log[n_testing,i] = y_i\n",
    "            e_log[n_testing,i] = e_i*6\n",
    "            #u_prev_log[n_testing,i] = u_i_prev\n",
    "    \n",
    "            e = torch.cat((e,e_i),2)\n",
    "            u = torch.cat((u,u_i_prev),2)\n",
    "            \n",
    "            if i == 10:\n",
    "               print(e)\n",
    "               print(u)\n",
    "\n",
    "            #print(e.shape)\n",
    "            # e = e_i\n",
    "            # u = torch.Tensor([[[u_i]]])\n",
    "    \n",
    "            # Controller\n",
    "\n",
    "            if i < H:\n",
    "                pred, _ = model(e.reshape(1,-1,1), u.reshape(1,-1,1))\n",
    "            else:\n",
    "                e_tmp = e.reshape(1,-1,1)\n",
    "                u_tmp = u.reshape(1,-1,1)\n",
    "                pred, _ = model(e_tmp[:,-H:,:], u_tmp[:,-H:,:])\n",
    "    \n",
    "            u_i = pred[:,-1,:].item() * 1000\n",
    "            #u_i = batch_u.numpy().flatten()[i+1]\n",
    "            u_log[n_testing,i] = u_i\n",
    "    \n",
    "            # simulation\n",
    "            y_i_old = y_i\n",
    "            y_i, _, x_i = lsim(P, u_i, np.array([0.0, Ts]), x_i[-1])\n",
    "            y_i = y_i[-1]\n",
    "        "
   ],
   "metadata": {
    "collapsed": false,
    "ExecuteTime": {
     "end_time": "2024-02-16T14:22:46.014936500Z",
     "start_time": "2024-02-16T14:22:32.649712Z"
    }
   },
   "id": "7d9e1d6347d417f6"
  },
  {
   "cell_type": "code",
   "execution_count": 179,
   "outputs": [
    {
     "name": "stderr",
     "output_type": "stream",
     "text": [
      "findfont: Font family 'Times New Roman' not found.\n",
      "findfont: Font family 'Times New Roman' not found.\n",
      "findfont: Font family 'Times New Roman' not found.\n",
      "findfont: Font family 'Times New Roman' not found.\n",
      "findfont: Font family 'Times New Roman' not found.\n",
      "findfont: Font family 'Times New Roman' not found.\n",
      "findfont: Font family 'Times New Roman' not found.\n",
      "findfont: Font family 'Times New Roman' not found.\n",
      "findfont: Font family 'Times New Roman' not found.\n",
      "findfont: Font family 'Times New Roman' not found.\n",
      "findfont: Font family 'Times New Roman' not found.\n",
      "findfont: Font family 'Times New Roman' not found.\n",
      "findfont: Font family 'Times New Roman' not found.\n",
      "findfont: Font family 'Times New Roman' not found.\n",
      "findfont: Font family 'Times New Roman' not found.\n",
      "findfont: Font family 'Times New Roman' not found.\n",
      "findfont: Font family 'Times New Roman' not found.\n",
      "findfont: Font family 'Times New Roman' not found.\n",
      "findfont: Font family 'Times New Roman' not found.\n",
      "findfont: Font family 'Times New Roman' not found.\n",
      "findfont: Font family 'Times New Roman' not found.\n",
      "findfont: Font family 'Times New Roman' not found.\n",
      "findfont: Font family 'Times New Roman' not found.\n",
      "findfont: Font family 'Times New Roman' not found.\n",
      "findfont: Font family 'Times New Roman' not found.\n",
      "findfont: Font family 'Times New Roman' not found.\n",
      "findfont: Font family 'Times New Roman' not found.\n",
      "findfont: Font family 'Times New Roman' not found.\n",
      "findfont: Font family 'Times New Roman' not found.\n",
      "findfont: Font family 'Times New Roman' not found.\n",
      "findfont: Font family 'Times New Roman' not found.\n",
      "findfont: Font family 'Times New Roman' not found.\n",
      "findfont: Font family 'Times New Roman' not found.\n",
      "findfont: Font family 'Times New Roman' not found.\n",
      "findfont: Font family 'Times New Roman' not found.\n",
      "findfont: Font family 'Times New Roman' not found.\n",
      "findfont: Font family 'Times New Roman' not found.\n",
      "findfont: Font family 'Times New Roman' not found.\n",
      "findfont: Font family 'Times New Roman' not found.\n",
      "findfont: Font family 'Times New Roman' not found.\n",
      "findfont: Font family 'Times New Roman' not found.\n",
      "findfont: Font family 'Times New Roman' not found.\n",
      "findfont: Font family 'Times New Roman' not found.\n",
      "findfont: Font family 'Times New Roman' not found.\n",
      "findfont: Font family 'Times New Roman' not found.\n",
      "findfont: Font family 'Times New Roman' not found.\n",
      "findfont: Font family 'Times New Roman' not found.\n",
      "findfont: Font family 'Times New Roman' not found.\n",
      "findfont: Font family 'Times New Roman' not found.\n",
      "findfont: Font family 'Times New Roman' not found.\n",
      "findfont: Font family 'Times New Roman' not found.\n",
      "findfont: Font family 'Times New Roman' not found.\n",
      "findfont: Font family 'Times New Roman' not found.\n",
      "findfont: Font family 'Times New Roman' not found.\n",
      "findfont: Font family 'Times New Roman' not found.\n",
      "findfont: Font family 'Times New Roman' not found.\n",
      "findfont: Font family 'Times New Roman' not found.\n",
      "findfont: Font family 'Times New Roman' not found.\n",
      "findfont: Font family 'Times New Roman' not found.\n",
      "findfont: Font family 'Times New Roman' not found.\n",
      "findfont: Font family 'Times New Roman' not found.\n",
      "findfont: Font family 'Times New Roman' not found.\n",
      "findfont: Font family 'Times New Roman' not found.\n",
      "findfont: Font family 'Times New Roman' not found.\n",
      "findfont: Font family 'Times New Roman' not found.\n",
      "findfont: Font family 'Times New Roman' not found.\n",
      "findfont: Font family 'Times New Roman' not found.\n",
      "findfont: Font family 'Times New Roman' not found.\n",
      "findfont: Font family 'Times New Roman' not found.\n",
      "findfont: Font family 'Times New Roman' not found.\n",
      "findfont: Font family 'Times New Roman' not found.\n",
      "findfont: Font family 'Times New Roman' not found.\n",
      "findfont: Font family 'Times New Roman' not found.\n",
      "findfont: Font family 'Times New Roman' not found.\n",
      "findfont: Font family 'Times New Roman' not found.\n",
      "findfont: Font family 'Times New Roman' not found.\n",
      "findfont: Font family 'Times New Roman' not found.\n",
      "findfont: Font family 'Times New Roman' not found.\n",
      "findfont: Font family 'Times New Roman' not found.\n",
      "findfont: Font family 'Times New Roman' not found.\n",
      "findfont: Font family 'Times New Roman' not found.\n",
      "findfont: Font family 'Times New Roman' not found.\n",
      "findfont: Font family 'Times New Roman' not found.\n",
      "findfont: Font family 'Times New Roman' not found.\n",
      "findfont: Font family 'Times New Roman' not found.\n",
      "findfont: Font family 'Times New Roman' not found.\n",
      "findfont: Font family 'Times New Roman' not found.\n",
      "findfont: Font family 'Times New Roman' not found.\n",
      "findfont: Font family 'Times New Roman' not found.\n",
      "findfont: Font family 'Times New Roman' not found.\n",
      "findfont: Font family 'Times New Roman' not found.\n",
      "findfont: Font family 'Times New Roman' not found.\n",
      "findfont: Font family 'Times New Roman' not found.\n",
      "findfont: Font family 'Times New Roman' not found.\n",
      "findfont: Font family 'Times New Roman' not found.\n",
      "findfont: Font family 'Times New Roman' not found.\n",
      "findfont: Font family 'Times New Roman' not found.\n",
      "findfont: Font family 'Times New Roman' not found.\n",
      "findfont: Font family 'Times New Roman' not found.\n",
      "findfont: Font family 'Times New Roman' not found.\n",
      "findfont: Font family 'Times New Roman' not found.\n",
      "findfont: Font family 'Times New Roman' not found.\n",
      "findfont: Font family 'Times New Roman' not found.\n",
      "findfont: Font family 'Times New Roman' not found.\n",
      "findfont: Font family 'Times New Roman' not found.\n",
      "findfont: Font family 'Times New Roman' not found.\n",
      "findfont: Font family 'Times New Roman' not found.\n",
      "findfont: Font family 'Times New Roman' not found.\n",
      "findfont: Font family 'Times New Roman' not found.\n",
      "findfont: Font family 'Times New Roman' not found.\n",
      "findfont: Font family 'Times New Roman' not found.\n",
      "findfont: Font family 'Times New Roman' not found.\n"
     ]
    },
    {
     "data": {
      "text/plain": "<Figure size 700x500 with 3 Axes>",
      "image/png": "[encoded data removed]"
     },
     "metadata": {},
     "output_type": "display_data"
    }
   ],
   "source": [
    "fig = plt.figure(figsize=(7, 5))\n",
    "ax1 = plt.subplot(311)\n",
    "#plt.plot(t_CL, r)\n",
    "plt.plot(t_CL, y_log[0,:].T, label=\"$y$\", c='tab:blue', alpha=1)\n",
    "plt.plot(t_CL, r, label=\"$r$\", c='tab:orange')\n",
    "plt.plot(t_CL, y_d, label=\"$y_d$\", c='tab:red')\n",
    "plt.legend()\n",
    "#plt.xlim([0, 0.5])\n",
    "plt.tick_params('x', labelbottom=False)\n",
    "\n",
    "ax2 = plt.subplot(312, sharex=ax1)\n",
    "plt.plot(t_CL, u_log[0,:].T, c='tab:blue', alpha=1)\n",
    "plt.legend(['$u$'])\n",
    "plt.tick_params('x', labelbottom=False)\n",
    "\n",
    "ax3 = plt.subplot(313, sharex=ax1)\n",
    "plt.plot(t_CL, e_log[0,:].T, c='tab:blue', alpha=1)\n",
    "plt.xlabel('$t$ [s]')\n",
    "plt.legend(['$e$'])\n",
    "\n",
    "# plt.savefig('transformer_controller.pdf')\n",
    "\n",
    "plt.show()"
   ],
   "metadata": {
    "collapsed": false,
    "ExecuteTime": {
     "end_time": "2024-02-16T14:22:51.753935300Z",
     "start_time": "2024-02-16T14:22:51.259284500Z"
    }
   },
   "id": "fd288b5a3f7dc31d"
  },
  {
   "cell_type": "code",
   "execution_count": null,
   "outputs": [],
   "source": [
    "from sklearn.metrics import mean_squared_error as mse\n",
    "np.sqrt(mse(r, y_log[0,:]))"
   ],
   "metadata": {
    "collapsed": false,
    "ExecuteTime": {
     "start_time": "2024-02-16T14:17:40.571025Z"
    }
   },
   "id": "a32914aafd305fed"
  },
  {
   "cell_type": "code",
   "execution_count": null,
   "outputs": [],
   "source": [
    "plt.subplot(211)\n",
    "plt.plot(t_CL, e_log[0,:].T, c='tab:blue', alpha=1, label='$e_v$ (CL)')\n",
    "plt.plot(t_CL, batch_e_v.numpy().flatten(), c='tab:orange', label='$e_v$')\n",
    "plt.legend()\n",
    "plt.subplot(212)\n",
    "plt.plot(t_CL, u_log[0,:].T, c='tab:blue', alpha=1, label='$u$ (CL)')\n",
    "plt.plot(t_CL, batch_u.numpy().flatten(), c='tab:orange', label='$u$')\n",
    "plt.legend()"
   ],
   "metadata": {
    "collapsed": false,
    "ExecuteTime": {
     "start_time": "2024-02-16T14:17:40.571025Z"
    }
   },
   "id": "4fcbd26530b08fa8"
  },
  {
   "cell_type": "code",
   "execution_count": null,
   "outputs": [],
   "source": [],
   "metadata": {
    "collapsed": false,
    "ExecuteTime": {
     "start_time": "2024-02-16T14:17:40.571025Z"
    }
   },
   "id": "71c67a20b2c96553"
  }
 ],
 "metadata": {
  "kernelspec": {
   "display_name": "Python 3 (ipykernel)",
   "language": "python",
   "name": "python3"
  },
  "language_info": {
   "codemirror_mode": {
    "name": "ipython",
    "version": 3
   },
   "file_extension": ".py",
   "mimetype": "text/x-python",
   "name": "python",
   "nbconvert_exporter": "python",
   "pygments_lexer": "ipython3",
   "version": "3.11.0"
  }
 },
 "nbformat": 4,
 "nbformat_minor": 5
}
