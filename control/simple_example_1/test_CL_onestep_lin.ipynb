{
 "cells": [
  {
   "cell_type": "code",
   "source": [
    "import copy\n",
    "import time\n",
    "import numpy as np\n",
    "import pandas as pd\n",
    "import matplotlib.pyplot as plt\n",
    "import pickle as pkl\n",
    "from numba import float32, float64, jit, NumbaPerformanceWarning\n",
    "import warnings\n",
    "import os\n",
    "import yaml\n",
    "\n",
    "warnings.simplefilter('ignore', category=NumbaPerformanceWarning)\n",
    "\n",
    "from utils import simulate_onestep_campi_example_1\n",
    "\n",
    "# plt.rcParams['pdf.fonttype'] = 42\n",
    "# plt.rcParams['ps.fonttype'] = 42\n",
    "# plt.rcParams[\"font.family\"] = \"Times New Roman\"\n",
    "# plt.rcParams[\"mathtext.fontset\"] = \"cm\"\n",
    "# plt.rcParams['axes.labelsize']=14\n",
    "# plt.rcParams['xtick.labelsize']=11\n",
    "# plt.rcParams['ytick.labelsize']=11\n",
    "# plt.rcParams['axes.grid']=True\n",
    "# plt.rcParams['axes.xmargin']=0\n",
    "\n",
    "from dataset_simple_example_1 import SimpleExample1Dataset"
   ],
   "metadata": {
    "collapsed": false,
    "ExecuteTime": {
     "end_time": "2024-07-26T18:41:53.130941Z",
     "start_time": "2024-07-26T18:41:50.071342Z"
    }
   },
   "id": "f1843b5eb255e7ec",
   "outputs": [],
   "execution_count": 1
  },
  {
   "cell_type": "code",
   "id": "df653a7d",
   "metadata": {
    "ExecuteTime": {
     "end_time": "2024-07-26T18:41:53.138207Z",
     "start_time": "2024-07-26T18:41:53.132941Z"
    }
   },
   "source": [
    "from pathlib import Path\n",
    "import time\n",
    "import torch\n",
    "import numpy as np\n",
    "import pandas as pd\n",
    "from torch.utils.data import DataLoader\n",
    "import matplotlib.pyplot as plt\n",
    "from transformer_onestep import GPTConfig, GPT\n",
    "import tqdm\n",
    "import argparse\n",
    "import metrics"
   ],
   "outputs": [],
   "execution_count": 2
  },
  {
   "cell_type": "code",
   "id": "e4a8b43d",
   "metadata": {
    "ExecuteTime": {
     "end_time": "2024-07-26T18:41:53.142507Z",
     "start_time": "2024-07-26T18:41:53.139523Z"
    }
   },
   "source": [
    "fig_path = Path(\"fig\")\n",
    "fig_path.mkdir(exist_ok=True)"
   ],
   "outputs": [],
   "execution_count": 3
  },
  {
   "cell_type": "code",
   "id": "1d446d6d",
   "metadata": {
    "ExecuteTime": {
     "end_time": "2024-07-26T18:41:53.148396Z",
     "start_time": "2024-07-26T18:41:53.144451Z"
    }
   },
   "source": [
    "# Fix all random sources to make script fully reproducible\n",
    "torch.manual_seed(420)\n",
    "np.random.seed(430)\n",
    "system_seed = 430 # Controls the system generation\n",
    "data_seed = 0 # Control the input generation"
   ],
   "outputs": [],
   "execution_count": 4
  },
  {
   "cell_type": "code",
   "id": "6a235fd7",
   "metadata": {
    "ExecuteTime": {
     "end_time": "2024-07-26T18:41:53.240168Z",
     "start_time": "2024-07-26T18:41:53.149632Z"
    }
   },
   "source": [
    "# Overall settings\n",
    "out_dir = \"../out\"\n",
    "\n",
    "# System settings\n",
    "nu = 1\n",
    "ny = 1\n",
    "#seq_len = 600\n",
    "batch_size = 50 # 256\n",
    "\n",
    "# Compute settings\n",
    "cuda_device = \"cuda:0\"\n",
    "no_cuda = False\n",
    "threads = 10\n",
    "compile = False\n",
    "\n",
    "# Configure compute\n",
    "torch.set_num_threads(threads) \n",
    "use_cuda = not no_cuda and torch.cuda.is_available()\n",
    "device_name  = cuda_device if use_cuda else \"cpu\"\n",
    "device = torch.device(device_name)\n",
    "device_type = 'cuda' if 'cuda' in device_name else 'cpu' # for later use in torch.autocast\n",
    "torch.set_float32_matmul_precision(\"high\")\n",
    "#torch.backends.cuda.matmul.allow_tf32 = True # allow tf32 on matmul\n",
    "#torch.backends.cudnn.allow_tf32 = True # allow tf32 on cudnn"
   ],
   "outputs": [],
   "execution_count": 5
  },
  {
   "metadata": {
    "ExecuteTime": {
     "end_time": "2024-07-26T18:41:53.246114Z",
     "start_time": "2024-07-26T18:41:53.241092Z"
    }
   },
   "cell_type": "code",
   "source": "torch.cuda.is_available()",
   "id": "4abe4c4e9fde259c",
   "outputs": [
    {
     "data": {
      "text/plain": [
       "True"
      ]
     },
     "execution_count": 6,
     "metadata": {},
     "output_type": "execute_result"
    }
   ],
   "execution_count": 6
  },
  {
   "cell_type": "code",
   "id": "69ad2d3e",
   "metadata": {
    "ExecuteTime": {
     "end_time": "2024-07-26T18:42:02.379277Z",
     "start_time": "2024-07-26T18:41:53.247076Z"
    }
   },
   "source": [
    "# Create out dir\n",
    "out_dir = Path(out_dir)\n",
    "exp_data = torch.load(out_dir/\"ckpt_controller_simple_example_1.70.pt\", map_location=device)"
   ],
   "outputs": [],
   "execution_count": 7
  },
  {
   "cell_type": "code",
   "id": "0c029f10",
   "metadata": {
    "ExecuteTime": {
     "end_time": "2024-07-26T18:42:02.385307Z",
     "start_time": "2024-07-26T18:42:02.381352Z"
    }
   },
   "source": [
    "seq_len = exp_data[\"cfg\"].seq_len\n",
    "nx = exp_data[\"cfg\"].nx"
   ],
   "outputs": [],
   "execution_count": 8
  },
  {
   "metadata": {
    "ExecuteTime": {
     "end_time": "2024-07-26T18:42:02.389591Z",
     "start_time": "2024-07-26T18:42:02.386597Z"
    }
   },
   "cell_type": "code",
   "source": "# del exp_data[\"model_args\"]['use_pi']",
   "id": "5a19bddafa792798",
   "outputs": [],
   "execution_count": 9
  },
  {
   "cell_type": "code",
   "id": "34332c1a",
   "metadata": {
    "ExecuteTime": {
     "end_time": "2024-07-26T18:42:04.453666Z",
     "start_time": "2024-07-26T18:42:02.391865Z"
    }
   },
   "source": [
    "model_args = exp_data[\"model_args\"]\n",
    "# model_args['use_p'] = True\n",
    "# model_args['use_i'] = True\n",
    "# model_args['use_d'] = False\n",
    "gptconf = GPTConfig(**model_args)\n",
    "model = GPT(gptconf).to(device)\n",
    "\n",
    "\n",
    "state_dict = exp_data[\"model\"]\n",
    "unwanted_prefix = '_orig_mod.'\n",
    "for k,v in list(state_dict.items()):\n",
    "    if k.startswith(unwanted_prefix):\n",
    "        state_dict[k[len(unwanted_prefix):]] = state_dict.pop(k)\n",
    "model.load_state_dict(state_dict);"
   ],
   "outputs": [
    {
     "name": "stdout",
     "output_type": "stream",
     "text": [
      "number of parameters: 0.41M\n"
     ]
    }
   ],
   "execution_count": 10
  },
  {
   "metadata": {
    "ExecuteTime": {
     "end_time": "2024-07-26T18:42:04.859404Z",
     "start_time": "2024-07-26T18:42:04.454867Z"
    }
   },
   "cell_type": "code",
   "source": [
    "from control_torch import drss, set_seed, forced_response, tf2ss, c2d\n",
    "set_seed(42)\n",
    "\n",
    "seq_len = 300\n",
    "nx = 2\n",
    "nu = 1\n",
    "ny = 1\n",
    "\n",
    "# define settings\n",
    "ts = 1e-2\n",
    "\n",
    "# define nominal model\n",
    "G = drss(nx, nu, ny, device=device)"
   ],
   "id": "ef51add4403cf6bd",
   "outputs": [],
   "execution_count": 11
  },
  {
   "metadata": {
    "ExecuteTime": {
     "end_time": "2024-07-26T18:42:06.729663Z",
     "start_time": "2024-07-26T18:42:04.861100Z"
    }
   },
   "cell_type": "code",
   "source": [
    "T = 20\n",
    "t = torch.arange(0, T, ts, device=device, dtype=torch.float32).view(-1, 1)\n",
    "r = torch.ones_like(t, device=device, dtype=torch.float32)\n",
    "# r[t_CL < 1] = -5\n",
    "# r[(t_CL >= 1) & (t_CL < 2)] = 5\n",
    "# r[(t_CL >= 2) & (t_CL < 3)] = 0\n",
    "r[(t < 2.5)] = 10\n",
    "r[(t >= 2.5) & (t < 5)] = -10\n",
    "r[(t >= 5.0) & (t < 7.5)] = 0\n",
    "r[(t >= 7.5) & (t < 10)] = 5\n",
    "r[(t >= 10.) & (t < 12.5)] = -5\n",
    "r[(t >= 12.5) & (t < 15.)] = 20\n",
    "r[(t >= 15.0) & (t < 17.5)] = 0\n",
    "r[(t >= 17.5) & (t < 20.0)] = -20\n",
    "\n",
    "tau = 1\n",
    "M_num = torch.tensor([0.01, 1], device=device, dtype=torch.float32)  # Numerator coefficients\n",
    "M_den = torch.tensor([tau/4, 1], device=device, dtype=torch.float32)  # Denominator coefficients\n",
    "M = tf2ss(M_num, M_den, device=device)\n",
    "M_d = c2d(*M, ts, device=device)\n",
    "y_d = forced_response(*M_d, r)\n",
    "\n",
    "plt.plot(t.cpu().numpy(), r.cpu().numpy())\n",
    "plt.plot(t.cpu().numpy(), y_d.cpu().numpy())"
   ],
   "id": "b86707e8821d0dce",
   "outputs": [
    {
     "data": {
      "text/plain": [
       "[<matplotlib.lines.Line2D at 0x7f8334bdc3d0>]"
      ]
     },
     "execution_count": 12,
     "metadata": {},
     "output_type": "execute_result"
    },
    {
     "name": "stderr",
     "output_type": "stream",
     "text": [
      "findfont: Font family 'Times New Roman' not found.\n",
      "findfont: Font family 'Times New Roman' not found.\n",
      "findfont: Font family 'Times New Roman' not found.\n",
      "findfont: Font family 'Times New Roman' not found.\n",
      "findfont: Font family 'Times New Roman' not found.\n",
      "findfont: Font family 'Times New Roman' not found.\n",
      "findfont: Font family 'Times New Roman' not found.\n",
      "findfont: Font family 'Times New Roman' not found.\n",
      "findfont: Font family 'Times New Roman' not found.\n",
      "findfont: Font family 'Times New Roman' not found.\n",
      "findfont: Font family 'Times New Roman' not found.\n",
      "findfont: Font family 'Times New Roman' not found.\n",
      "findfont: Font family 'Times New Roman' not found.\n",
      "findfont: Font family 'Times New Roman' not found.\n",
      "findfont: Font family 'Times New Roman' not found.\n",
      "findfont: Font family 'Times New Roman' not found.\n",
      "findfont: Font family 'Times New Roman' not found.\n",
      "findfont: Font family 'Times New Roman' not found.\n",
      "findfont: Font family 'Times New Roman' not found.\n",
      "findfont: Font family 'Times New Roman' not found.\n",
      "findfont: Font family 'Times New Roman' not found.\n",
      "findfont: Font family 'Times New Roman' not found.\n",
      "findfont: Font family 'Times New Roman' not found.\n",
      "findfont: Font family 'Times New Roman' not found.\n",
      "findfont: Font family 'Times New Roman' not found.\n",
      "findfont: Font family 'Times New Roman' not found.\n",
      "findfont: Font family 'Times New Roman' not found.\n",
      "findfont: Font family 'Times New Roman' not found.\n",
      "findfont: Font family 'Times New Roman' not found.\n",
      "findfont: Font family 'Times New Roman' not found.\n",
      "findfont: Font family 'Times New Roman' not found.\n",
      "findfont: Font family 'Times New Roman' not found.\n",
      "findfont: Font family 'Times New Roman' not found.\n",
      "findfont: Font family 'Times New Roman' not found.\n",
      "findfont: Font family 'Times New Roman' not found.\n",
      "findfont: Font family 'Times New Roman' not found.\n",
      "findfont: Font family 'Times New Roman' not found.\n",
      "findfont: Font family 'Times New Roman' not found.\n",
      "findfont: Font family 'Times New Roman' not found.\n",
      "findfont: Font family 'Times New Roman' not found.\n",
      "findfont: Font family 'Times New Roman' not found.\n",
      "findfont: Font family 'Times New Roman' not found.\n",
      "findfont: Font family 'Times New Roman' not found.\n",
      "findfont: Font family 'Times New Roman' not found.\n",
      "findfont: Font family 'Times New Roman' not found.\n",
      "findfont: Font family 'Times New Roman' not found.\n",
      "findfont: Font family 'Times New Roman' not found.\n",
      "findfont: Font family 'Times New Roman' not found.\n",
      "findfont: Font family 'Times New Roman' not found.\n",
      "findfont: Font family 'Times New Roman' not found.\n",
      "findfont: Font family 'Times New Roman' not found.\n",
      "findfont: Font family 'Times New Roman' not found.\n",
      "findfont: Font family 'Times New Roman' not found.\n",
      "findfont: Font family 'Times New Roman' not found.\n",
      "findfont: Font family 'Times New Roman' not found.\n",
      "findfont: Font family 'Times New Roman' not found.\n",
      "findfont: Font family 'Times New Roman' not found.\n",
      "findfont: Font family 'Times New Roman' not found.\n",
      "findfont: Font family 'Times New Roman' not found.\n",
      "findfont: Font family 'Times New Roman' not found.\n",
      "findfont: Font family 'Times New Roman' not found.\n",
      "findfont: Font family 'Times New Roman' not found.\n",
      "findfont: Font family 'Times New Roman' not found.\n",
      "findfont: Font family 'Times New Roman' not found.\n",
      "findfont: Font family 'Times New Roman' not found.\n",
      "findfont: Font family 'Times New Roman' not found.\n",
      "findfont: Font family 'Times New Roman' not found.\n",
      "findfont: Font family 'Times New Roman' not found.\n",
      "findfont: Font family 'Times New Roman' not found.\n",
      "findfont: Font family 'Times New Roman' not found.\n"
     ]
    },
    {
     "data": {
      "text/plain": [
       "<Figure size 640x480 with 1 Axes>"
      ],
      "image/png": "[encoded data removed]"
     },
     "metadata": {},
     "output_type": "display_data"
    }
   ],
   "execution_count": 12
  },
  {
   "metadata": {
    "ExecuteTime": {
     "end_time": "2024-07-26T18:42:07.152352Z",
     "start_time": "2024-07-26T18:42:06.730965Z"
    }
   },
   "cell_type": "code",
   "source": [
    "print(model.proportional_coefficient)\n",
    "print(model.integral_coefficient)\n",
    "print(model.derivative_coefficient)"
   ],
   "id": "a5aa0b623c311257",
   "outputs": [
    {
     "name": "stdout",
     "output_type": "stream",
     "text": [
      "Parameter containing:\n",
      "tensor([0.4312], device='cuda:0', requires_grad=True)\n",
      "Parameter containing:\n",
      "tensor([0.9640], device='cuda:0', requires_grad=True)\n",
      "Parameter containing:\n",
      "tensor([0.0501], device='cuda:0', requires_grad=True)\n"
     ]
    }
   ],
   "execution_count": 13
  },
  {
   "metadata": {
    "ExecuteTime": {
     "end_time": "2024-07-26T18:45:49.780127Z",
     "start_time": "2024-07-26T18:45:43.481551Z"
    }
   },
   "cell_type": "code",
   "source": [
    "H = 300\n",
    "\n",
    "E = torch.empty_like(t, device=device, dtype=torch.float32).reshape(1,-1,1)\n",
    "U = torch.empty(t.size(0)+1, device=device, dtype=torch.float32).reshape(1,-1,1)\n",
    "Y = torch.empty_like(t, device=device, dtype=torch.float32).reshape(1,-1,1)\n",
    "\n",
    "with torch.no_grad():\n",
    "    # initial\n",
    "    U[0,0,0] = 0\n",
    "    y_i = 0\n",
    "    x_i = torch.zeros(nx, device=device, dtype=torch.float32)\n",
    "    \n",
    "    for i in range(len(t)):\n",
    "        \n",
    "        # start the loop with error\n",
    "        e_i = r[i] - y_i\n",
    "            \n",
    "        Y[0,i,0] = y_i\n",
    "        E[0,i,0] = e_i\n",
    "        \n",
    "        # Controller u(t) = C(e(t),u(t-1))\n",
    "        if i < H:\n",
    "            pred, _ = model(E[:, :i+1, :], U[:, :i+1, :])\n",
    "        else:\n",
    "            pred, _ = model(E[:, i-H+1:i+1, :], U[:, i-H+1:i+1, :])\n",
    "            \n",
    "        U[0,i+1,0] = pred[0,-1,0] # just for coherence, it could be directly be u_i_prev\n",
    "        \n",
    "        y, x_i = forced_response(*G, U[0,i:i+2,:], return_x=True, x0=x_i)\n",
    "        \n",
    "        y_i = y[-1]"
   ],
   "id": "675a2901cb94884a",
   "outputs": [],
   "execution_count": 18
  },
  {
   "metadata": {
    "ExecuteTime": {
     "end_time": "2024-07-26T18:50:52.154993Z",
     "start_time": "2024-07-26T18:50:51.754337Z"
    }
   },
   "cell_type": "code",
   "source": [
    "fig = plt.figure(figsize=(9, 5))\n",
    "ax1 = plt.subplot(311)\n",
    "#plt.plot(t_CL, r)\n",
    "plt.plot(t.cpu().numpy(), r.cpu().numpy(), label=\"$r$\", c='tab:orange')\n",
    "plt.plot(t.cpu().numpy(), Y[0,:,0].cpu().numpy(), label=\"$y$\", c='tab:blue', alpha=1)\n",
    "plt.plot(t.cpu().numpy(), y_d.cpu().numpy(), label=\"$y_d$\", c='tab:red', alpha=1, linestyle='--')\n",
    "plt.legend(['$r$','$y$','$y_d$'])\n",
    "# plt.xlim([0, 0.43])\n",
    "# plt.ylim([0, 10])\n",
    "plt.tick_params('x', labelbottom=False)\n",
    "\n",
    "ax2 = plt.subplot(312, sharex=ax1)\n",
    "plt.plot(t.cpu().numpy(), U[0,1:,0].cpu().numpy(), c='tab:blue', alpha=1)\n",
    "# plt.plot(t_CL[:-1], batch_u[0,1:,0] * u_std, c='tab:green', alpha=1)\n",
    "plt.legend(['$u$', '$u_{ideal}$'])\n",
    "# plt.xlim([10, 12])\n",
    "plt.tick_params('x', labelbottom=False)\n",
    "\n",
    "ax3 = plt.subplot(313, sharex=ax1)\n",
    "plt.plot(t.cpu().numpy(), E[0,:,0].cpu().numpy(), c='tab:blue', alpha=1)\n",
    "# plt.plot(t_CL, batch_e[0,:,0] * e_std, c='tab:green', alpha=1)\n",
    "plt.xlabel('$t$ [s]')\n",
    "# plt.ylim([0, 4])\n",
    "plt.legend(['$e$', '$e_{ideal}$'])\n",
    "\n",
    "# plt.savefig('transformer_controller.pdf')\n",
    "\n",
    "plt.show()"
   ],
   "id": "e38964c9e3150788",
   "outputs": [
    {
     "name": "stderr",
     "output_type": "stream",
     "text": [
      "findfont: Font family 'Times New Roman' not found.\n",
      "findfont: Font family 'Times New Roman' not found.\n",
      "findfont: Font family 'Times New Roman' not found.\n",
      "findfont: Font family 'Times New Roman' not found.\n",
      "findfont: Font family 'Times New Roman' not found.\n",
      "findfont: Font family 'Times New Roman' not found.\n",
      "findfont: Font family 'Times New Roman' not found.\n",
      "findfont: Font family 'Times New Roman' not found.\n",
      "findfont: Font family 'Times New Roman' not found.\n",
      "findfont: Font family 'Times New Roman' not found.\n",
      "findfont: Font family 'Times New Roman' not found.\n",
      "findfont: Font family 'Times New Roman' not found.\n",
      "findfont: Font family 'Times New Roman' not found.\n",
      "findfont: Font family 'Times New Roman' not found.\n",
      "findfont: Font family 'Times New Roman' not found.\n",
      "findfont: Font family 'Times New Roman' not found.\n",
      "findfont: Font family 'Times New Roman' not found.\n",
      "findfont: Font family 'Times New Roman' not found.\n",
      "findfont: Font family 'Times New Roman' not found.\n",
      "findfont: Font family 'Times New Roman' not found.\n",
      "findfont: Font family 'Times New Roman' not found.\n",
      "findfont: Font family 'Times New Roman' not found.\n",
      "findfont: Font family 'Times New Roman' not found.\n",
      "findfont: Font family 'Times New Roman' not found.\n",
      "findfont: Font family 'Times New Roman' not found.\n",
      "findfont: Font family 'Times New Roman' not found.\n",
      "findfont: Font family 'Times New Roman' not found.\n",
      "findfont: Font family 'Times New Roman' not found.\n",
      "findfont: Font family 'Times New Roman' not found.\n",
      "findfont: Font family 'Times New Roman' not found.\n",
      "findfont: Font family 'Times New Roman' not found.\n",
      "findfont: Font family 'Times New Roman' not found.\n",
      "findfont: Font family 'Times New Roman' not found.\n",
      "findfont: Font family 'Times New Roman' not found.\n",
      "findfont: Font family 'Times New Roman' not found.\n",
      "findfont: Font family 'Times New Roman' not found.\n",
      "findfont: Font family 'Times New Roman' not found.\n",
      "findfont: Font family 'Times New Roman' not found.\n",
      "findfont: Font family 'Times New Roman' not found.\n",
      "findfont: Font family 'Times New Roman' not found.\n",
      "findfont: Font family 'Times New Roman' not found.\n",
      "findfont: Font family 'Times New Roman' not found.\n",
      "findfont: Font family 'Times New Roman' not found.\n",
      "findfont: Font family 'Times New Roman' not found.\n",
      "findfont: Font family 'Times New Roman' not found.\n",
      "findfont: Font family 'Times New Roman' not found.\n",
      "findfont: Font family 'Times New Roman' not found.\n",
      "findfont: Font family 'Times New Roman' not found.\n",
      "findfont: Font family 'Times New Roman' not found.\n",
      "findfont: Font family 'Times New Roman' not found.\n",
      "findfont: Font family 'Times New Roman' not found.\n",
      "findfont: Font family 'Times New Roman' not found.\n",
      "findfont: Font family 'Times New Roman' not found.\n",
      "findfont: Font family 'Times New Roman' not found.\n",
      "findfont: Font family 'Times New Roman' not found.\n",
      "findfont: Font family 'Times New Roman' not found.\n",
      "findfont: Font family 'Times New Roman' not found.\n",
      "findfont: Font family 'Times New Roman' not found.\n",
      "findfont: Font family 'Times New Roman' not found.\n",
      "findfont: Font family 'Times New Roman' not found.\n",
      "findfont: Font family 'Times New Roman' not found.\n",
      "findfont: Font family 'Times New Roman' not found.\n",
      "findfont: Font family 'Times New Roman' not found.\n",
      "findfont: Font family 'Times New Roman' not found.\n",
      "findfont: Font family 'Times New Roman' not found.\n",
      "findfont: Font family 'Times New Roman' not found.\n",
      "findfont: Font family 'Times New Roman' not found.\n",
      "findfont: Font family 'Times New Roman' not found.\n",
      "findfont: Font family 'Times New Roman' not found.\n",
      "findfont: Font family 'Times New Roman' not found.\n",
      "findfont: Font family 'Times New Roman' not found.\n",
      "findfont: Font family 'Times New Roman' not found.\n",
      "findfont: Font family 'Times New Roman' not found.\n",
      "findfont: Font family 'Times New Roman' not found.\n",
      "findfont: Font family 'Times New Roman' not found.\n",
      "findfont: Font family 'Times New Roman' not found.\n",
      "findfont: Font family 'Times New Roman' not found.\n",
      "findfont: Font family 'Times New Roman' not found.\n",
      "findfont: Font family 'Times New Roman' not found.\n",
      "findfont: Font family 'Times New Roman' not found.\n",
      "findfont: Font family 'Times New Roman' not found.\n",
      "findfont: Font family 'Times New Roman' not found.\n",
      "findfont: Font family 'Times New Roman' not found.\n",
      "findfont: Font family 'Times New Roman' not found.\n",
      "findfont: Font family 'Times New Roman' not found.\n",
      "findfont: Font family 'Times New Roman' not found.\n",
      "findfont: Font family 'Times New Roman' not found.\n",
      "findfont: Font family 'Times New Roman' not found.\n",
      "findfont: Font family 'Times New Roman' not found.\n",
      "findfont: Font family 'Times New Roman' not found.\n",
      "findfont: Font family 'Times New Roman' not found.\n",
      "findfont: Font family 'Times New Roman' not found.\n",
      "findfont: Font family 'Times New Roman' not found.\n",
      "findfont: Font family 'Times New Roman' not found.\n",
      "findfont: Font family 'Times New Roman' not found.\n",
      "findfont: Font family 'Times New Roman' not found.\n",
      "findfont: Font family 'Times New Roman' not found.\n",
      "findfont: Font family 'Times New Roman' not found.\n",
      "findfont: Font family 'Times New Roman' not found.\n",
      "findfont: Font family 'Times New Roman' not found.\n",
      "findfont: Font family 'Times New Roman' not found.\n",
      "findfont: Font family 'Times New Roman' not found.\n",
      "findfont: Font family 'Times New Roman' not found.\n",
      "findfont: Font family 'Times New Roman' not found.\n"
     ]
    },
    {
     "data": {
      "text/plain": [
       "<Figure size 900x500 with 3 Axes>"
      ],
      "image/png": "[encoded data removed]"
     },
     "metadata": {},
     "output_type": "display_data"
    }
   ],
   "execution_count": 21
  },
  {
   "metadata": {},
   "cell_type": "code",
   "source": "",
   "id": "5f1e13bdb3fcb36b",
   "outputs": [],
   "execution_count": null
  }
 ],
 "metadata": {
  "kernelspec": {
   "display_name": "Python 3 (ipykernel)",
   "language": "python",
   "name": "python3"
  },
  "language_info": {
   "codemirror_mode": {
    "name": "ipython",
    "version": 3
   },
   "file_extension": ".py",
   "mimetype": "text/x-python",
   "name": "python",
   "nbconvert_exporter": "python",
   "pygments_lexer": "ipython3",
   "version": "3.11.0"
  }
 },
 "nbformat": 4,
 "nbformat_minor": 5
}
