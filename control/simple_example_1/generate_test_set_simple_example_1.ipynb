{
 "cells": [
  {
   "cell_type": "code",
   "source": [
    "import numpy as np\n",
    "import pandas as pd\n",
    "\n",
    "from simple_example_1 import simulate_simple_example_1\n",
    "import matplotlib.pyplot as plt\n",
    "from control.matlab import *\n",
    "plt.rcParams[\"font.family\"] = \"Times New Roman\"\n",
    "plt.rcParams[\"mathtext.fontset\"] = \"cm\"\n",
    "plt.rcParams['axes.labelsize']=14\n",
    "plt.rcParams['xtick.labelsize']=11\n",
    "plt.rcParams['ytick.labelsize']=11\n",
    "plt.rcParams['axes.grid']=True\n",
    "plt.rcParams['axes.xmargin']=0"
   ],
   "metadata": {
    "collapsed": false,
    "ExecuteTime": {
     "end_time": "2024-07-25T07:31:15.634206Z",
     "start_time": "2024-07-25T07:31:13.959605Z"
    }
   },
   "id": "c4aac27de79c3bcd",
   "outputs": [],
   "execution_count": 1
  },
  {
   "cell_type": "code",
   "source": [
    "N = 10 # n. of test experiments\n",
    "\n",
    "data_test = [None] * N\n",
    "\n",
    "for i in range(N): # generate N I/O sets of data\n",
    "    \n",
    "    ts = 1e-2\n",
    "    T = 5\n",
    "    t = np.arange(0, T, ts)\n",
    "    u = np.random.normal(0, 10, t.shape)\n",
    "\n",
    "    # print(len(u))\n",
    "    # Perturbation factor for initial conditions\n",
    "    perturbation = 0.2\n",
    "\n",
    "    # Simulate the system trajectory using the model\n",
    "    u, y, data = simulate_simple_example_1(t, u, perturbation, save_params=True)\n",
    "    \n",
    "    print(data)\n",
    "    data_test[i] = dict(data)"
   ],
   "metadata": {
    "collapsed": false,
    "ExecuteTime": {
     "end_time": "2024-07-25T07:31:20.705611Z",
     "start_time": "2024-07-25T07:31:15.636847Z"
    }
   },
   "id": "9577df627c76dc2a",
   "outputs": [
    {
     "name": "stdout",
     "output_type": "stream",
     "text": [
      "{num_1: 1.0749818062744756, den_1: 1.1136168680112948, den_2: 2.873918298739309, den_3: 2.0796666012707368}\n",
      "{num_1: 1.1672170875634993, den_1: 0.9966213657860251, den_2: 3.35913152164009, den_3: 2.30414152922321}\n",
      "{num_1: 0.8213646324150012, den_1: 0.8555639526362453, den_2: 2.857125769560372, den_3: 2.3554465147092594}\n",
      "{num_1: 0.8618217700801611, den_1: 0.9033187377645987, den_2: 2.9965119597919085, den_3: 1.6230206155906606}\n",
      "{num_1: 0.8936991856984393, den_1: 1.1784472272774784, den_2: 3.192049706621268, den_3: 1.6710575472650475}\n",
      "{num_1: 0.8038389750287052, den_1: 1.167005939141152, den_2: 2.8212941221874743, den_3: 2.2631734370720147}\n",
      "{num_1: 0.8149125761165017, den_1: 0.9020113967134789, den_2: 2.7215871893441532, den_3: 1.7774795948066742}\n",
      "{num_1: 1.0006460319793478, den_1: 1.182691000444611, den_2: 2.450777103082622, den_3: 1.7179338922370344}\n",
      "{num_1: 1.0697902739080247, den_1: 0.9879926091377524, den_2: 2.9628578291573326, den_3: 1.6847482181429823}\n",
      "{num_1: 1.1880340573282202, den_1: 0.8840031677953731, den_2: 2.9414546153646035, den_3: 1.7625922077742882}\n"
     ]
    }
   ],
   "execution_count": 2
  },
  {
   "cell_type": "code",
   "source": [
    "import pickle as pkl\n",
    "from typing import Dict\n",
    "\n",
    "test_set = {'data_test': data_test}\n",
    "with open('../../data/control/test_set_simple_example_1_20%_perturbation.pkl', 'wb') as f:\n",
    "    pkl.dump(test_set, f)"
   ],
   "metadata": {
    "collapsed": false,
    "ExecuteTime": {
     "end_time": "2024-07-25T07:31:20.713854Z",
     "start_time": "2024-07-25T07:31:20.707176Z"
    }
   },
   "id": "48142a6935889c24",
   "outputs": [],
   "execution_count": 3
  },
  {
   "cell_type": "code",
   "source": [],
   "metadata": {
    "collapsed": false,
    "ExecuteTime": {
     "end_time": "2024-07-25T07:31:20.717464Z",
     "start_time": "2024-07-25T07:31:20.715320Z"
    }
   },
   "id": "936f91beea6c7a67",
   "outputs": [],
   "execution_count": 3
  }
 ],
 "metadata": {
  "kernelspec": {
   "display_name": "Python 3",
   "language": "python",
   "name": "python3"
  },
  "language_info": {
   "codemirror_mode": {
    "name": "ipython",
    "version": 2
   },
   "file_extension": ".py",
   "mimetype": "text/x-python",
   "name": "python",
   "nbconvert_exporter": "python",
   "pygments_lexer": "ipython2",
   "version": "2.7.6"
  }
 },
 "nbformat": 4,
 "nbformat_minor": 5
}
