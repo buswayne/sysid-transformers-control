{
 "cells": [
  {
   "cell_type": "code",
   "execution_count": 1,
   "outputs": [],
   "source": [
    "import numpy as np\n",
    "import pandas as pd\n",
    "\n",
    "from simple_example_1 import simulate_simple_example_1\n",
    "import matplotlib.pyplot as plt\n",
    "from control.matlab import *\n",
    "plt.rcParams[\"font.family\"] = \"Times New Roman\"\n",
    "plt.rcParams[\"mathtext.fontset\"] = \"cm\"\n",
    "plt.rcParams['axes.labelsize']=14\n",
    "plt.rcParams['xtick.labelsize']=11\n",
    "plt.rcParams['ytick.labelsize']=11\n",
    "plt.rcParams['axes.grid']=True\n",
    "plt.rcParams['axes.xmargin']=0"
   ],
   "metadata": {
    "collapsed": false,
    "ExecuteTime": {
     "end_time": "2024-06-20T12:12:20.001330300Z",
     "start_time": "2024-06-20T12:12:18.804093600Z"
    }
   },
   "id": "c4aac27de79c3bcd"
  },
  {
   "cell_type": "code",
   "execution_count": 2,
   "outputs": [],
   "source": [
    "N = 100 # n. of test experiments\n",
    "\n",
    "data_test = [None] * N\n",
    "\n",
    "for i in range(N): # generate N I/O sets of data\n",
    "    \n",
    "    ts = 1e-2\n",
    "    T = 5\n",
    "    t = np.arange(0, T, ts)\n",
    "    u = np.random.normal(0, 10, t.shape)\n",
    "\n",
    "    # print(len(u))\n",
    "    # Perturbation factor for initial conditions\n",
    "    perturbation = 0.05\n",
    "\n",
    "    # Simulate the system trajectory using the model\n",
    "    u, y, data = simulate_simple_example_1(t, u, perturbation, save_params=True)\n",
    "    \n",
    "    data_test[i] = dict(data)"
   ],
   "metadata": {
    "collapsed": false,
    "ExecuteTime": {
     "end_time": "2024-06-20T12:12:24.962240100Z",
     "start_time": "2024-06-20T12:12:20.004838900Z"
    }
   },
   "id": "9577df627c76dc2a"
  },
  {
   "cell_type": "code",
   "execution_count": 3,
   "outputs": [],
   "source": [
    "import pickle as pkl\n",
    "from typing import Dict\n",
    "\n",
    "test_set = {'data_test': data_test}\n",
    "with open('../../data/control/test_set_simple_example_1_5%_perturbation.pkl', 'wb') as f:\n",
    "    pkl.dump(test_set, f)"
   ],
   "metadata": {
    "collapsed": false,
    "ExecuteTime": {
     "end_time": "2024-06-20T12:12:24.965249300Z",
     "start_time": "2024-06-20T12:12:24.963277500Z"
    }
   },
   "id": "48142a6935889c24"
  },
  {
   "cell_type": "code",
   "execution_count": 3,
   "outputs": [],
   "source": [],
   "metadata": {
    "collapsed": false,
    "ExecuteTime": {
     "end_time": "2024-06-20T12:12:24.970239100Z",
     "start_time": "2024-06-20T12:12:24.969249500Z"
    }
   },
   "id": "936f91beea6c7a67"
  }
 ],
 "metadata": {
  "kernelspec": {
   "display_name": "Python 3",
   "language": "python",
   "name": "python3"
  },
  "language_info": {
   "codemirror_mode": {
    "name": "ipython",
    "version": 2
   },
   "file_extension": ".py",
   "mimetype": "text/x-python",
   "name": "python",
   "nbconvert_exporter": "python",
   "pygments_lexer": "ipython2",
   "version": "2.7.6"
  }
 },
 "nbformat": 4,
 "nbformat_minor": 5
}
