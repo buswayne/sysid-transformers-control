{
 "cells": [
  {
   "cell_type": "code",
   "source": [
    "import copy\n",
    "import time\n",
    "import numpy as np\n",
    "import pandas as pd\n",
    "import matplotlib.pyplot as plt\n",
    "import pickle as pkl\n",
    "from numba import float32, float64, jit, NumbaPerformanceWarning\n",
    "import warnings\n",
    "import os\n",
    "import yaml\n",
    "\n",
    "warnings.simplefilter('ignore', category=NumbaPerformanceWarning)\n",
    "\n",
    "from utils import simulate_onestep_campi_example_1\n",
    "\n",
    "plt.rcParams['pdf.fonttype'] = 42\n",
    "plt.rcParams['ps.fonttype'] = 42\n",
    "plt.rcParams[\"font.family\"] = \"Times New Roman\"\n",
    "plt.rcParams[\"mathtext.fontset\"] = \"cm\"\n",
    "plt.rcParams['axes.labelsize']=14\n",
    "plt.rcParams['xtick.labelsize']=11\n",
    "plt.rcParams['ytick.labelsize']=11\n",
    "plt.rcParams['axes.grid']=True\n",
    "plt.rcParams['axes.xmargin']=0\n",
    "\n",
    "from dataset_simple_example_1 import SimpleExample1Dataset"
   ],
   "metadata": {
    "collapsed": false,
    "ExecuteTime": {
     "end_time": "2024-07-25T09:05:53.283804Z",
     "start_time": "2024-07-25T09:05:53.276750Z"
    }
   },
   "id": "f1843b5eb255e7ec",
   "outputs": [],
   "execution_count": 151
  },
  {
   "cell_type": "code",
   "id": "df653a7d",
   "metadata": {
    "ExecuteTime": {
     "end_time": "2024-07-25T09:05:53.311763Z",
     "start_time": "2024-07-25T09:05:53.307608Z"
    }
   },
   "source": [
    "from pathlib import Path\n",
    "import time\n",
    "import torch\n",
    "import numpy as np\n",
    "import pandas as pd\n",
    "from torch.utils.data import DataLoader\n",
    "import matplotlib.pyplot as plt\n",
    "from transformer_onestep import GPTConfig, GPT\n",
    "import tqdm\n",
    "import argparse\n",
    "import metrics"
   ],
   "outputs": [],
   "execution_count": 152
  },
  {
   "cell_type": "code",
   "id": "e4a8b43d",
   "metadata": {
    "ExecuteTime": {
     "end_time": "2024-07-25T09:05:53.336017Z",
     "start_time": "2024-07-25T09:05:53.331937Z"
    }
   },
   "source": [
    "fig_path = Path(\"fig\")\n",
    "fig_path.mkdir(exist_ok=True)"
   ],
   "outputs": [],
   "execution_count": 153
  },
  {
   "cell_type": "code",
   "id": "1d446d6d",
   "metadata": {
    "ExecuteTime": {
     "end_time": "2024-07-25T09:05:53.343976Z",
     "start_time": "2024-07-25T09:05:53.338300Z"
    }
   },
   "source": [
    "# Fix all random sources to make script fully reproducible\n",
    "torch.manual_seed(420)\n",
    "np.random.seed(430)\n",
    "system_seed = 430 # Controls the system generation\n",
    "data_seed = 0 # Control the input generation"
   ],
   "outputs": [],
   "execution_count": 154
  },
  {
   "cell_type": "code",
   "id": "6a235fd7",
   "metadata": {
    "ExecuteTime": {
     "end_time": "2024-07-25T09:05:53.353196Z",
     "start_time": "2024-07-25T09:05:53.346244Z"
    }
   },
   "source": [
    "# Overall settings\n",
    "out_dir = \"../out\"\n",
    "\n",
    "# System settings\n",
    "nu = 1\n",
    "ny = 1\n",
    "#seq_len = 600\n",
    "batch_size = 50 # 256\n",
    "\n",
    "# Compute settings\n",
    "cuda_device = \"cuda:1\"\n",
    "no_cuda = True\n",
    "threads = 10\n",
    "compile = False\n",
    "\n",
    "# Configure compute\n",
    "torch.set_num_threads(threads) \n",
    "use_cuda = not no_cuda and torch.cuda.is_available()\n",
    "device_name  = cuda_device if use_cuda else \"cpu\"\n",
    "device = torch.device(device_name)\n",
    "device_type = 'cuda' if 'cuda' in device_name else 'cpu' # for later use in torch.autocast\n",
    "torch.set_float32_matmul_precision(\"high\")\n",
    "#torch.backends.cuda.matmul.allow_tf32 = True # allow tf32 on matmul\n",
    "#torch.backends.cudnn.allow_tf32 = True # allow tf32 on cudnn"
   ],
   "outputs": [],
   "execution_count": 155
  },
  {
   "cell_type": "code",
   "id": "69ad2d3e",
   "metadata": {
    "ExecuteTime": {
     "end_time": "2024-07-25T09:05:53.429016Z",
     "start_time": "2024-07-25T09:05:53.354919Z"
    }
   },
   "source": [
    "# Create out dir\n",
    "out_dir = Path(out_dir)\n",
    "exp_data = torch.load(out_dir/\"ckpt_controller_simple_example_1.61.pt\", map_location=device)"
   ],
   "outputs": [],
   "execution_count": 156
  },
  {
   "cell_type": "code",
   "id": "0c029f10",
   "metadata": {
    "ExecuteTime": {
     "end_time": "2024-07-25T09:05:53.435379Z",
     "start_time": "2024-07-25T09:05:53.431693Z"
    }
   },
   "source": [
    "seq_len = exp_data[\"cfg\"].seq_len\n",
    "nx = exp_data[\"cfg\"].nx"
   ],
   "outputs": [],
   "execution_count": 157
  },
  {
   "metadata": {
    "ExecuteTime": {
     "end_time": "2024-07-25T09:05:53.439612Z",
     "start_time": "2024-07-25T09:05:53.436741Z"
    }
   },
   "cell_type": "code",
   "source": "# del exp_data[\"model_args\"]['use_pi']",
   "id": "5a19bddafa792798",
   "outputs": [],
   "execution_count": 158
  },
  {
   "cell_type": "code",
   "id": "34332c1a",
   "metadata": {
    "ExecuteTime": {
     "end_time": "2024-07-25T09:05:53.477520Z",
     "start_time": "2024-07-25T09:05:53.441044Z"
    }
   },
   "source": [
    "model_args = exp_data[\"model_args\"]\n",
    "model_args['use_p'] = True\n",
    "model_args['use_i'] = True\n",
    "model_args['use_d'] = True\n",
    "gptconf = GPTConfig(**model_args)\n",
    "model = GPT(gptconf).to(device)\n",
    "\n",
    "\n",
    "state_dict = exp_data[\"model\"]\n",
    "unwanted_prefix = '_orig_mod.'\n",
    "for k,v in list(state_dict.items()):\n",
    "    if k.startswith(unwanted_prefix):\n",
    "        state_dict[k[len(unwanted_prefix):]] = state_dict.pop(k)\n",
    "model.load_state_dict(state_dict);"
   ],
   "outputs": [
    {
     "name": "stdout",
     "output_type": "stream",
     "text": [
      "number of parameters: 0.46M\n"
     ]
    }
   ],
   "execution_count": 159
  },
  {
   "cell_type": "code",
   "source": [
    "import pickle as pkl\n",
    "\n",
    "with open('../../data/control/test_set_simple_example_1_0%_perturbation.pkl', 'rb') as f:\n",
    "    test_set = pkl.load(f)\n",
    "\n",
    "data_test = test_set['data_test']"
   ],
   "metadata": {
    "collapsed": false,
    "ExecuteTime": {
     "end_time": "2024-07-25T09:05:53.484993Z",
     "start_time": "2024-07-25T09:05:53.479828Z"
    }
   },
   "id": "b84f563fe08bd4bc",
   "outputs": [],
   "execution_count": 160
  },
  {
   "cell_type": "code",
   "source": [
    "# from control.matlab import *\n",
    "# generate_from_model = True\n",
    "# \n",
    "# if generate_from_model:\n",
    "#     dtype=\"float32\"\n",
    "#     n_context = 300\n",
    "#     \n",
    "#     ts = 1e-2; fs = 1/ts\n",
    "#     s = tf('s')\n",
    "#     z = tf([1, 0], [1], dt=ts)\n",
    "#     \n",
    "#     # VRFT\n",
    "#     s = tf('s')\n",
    "#     tau = 1 # s\n",
    "#     M = 1/(1 + (tau/(2*np.pi))*s)\n",
    "#     M = c2d(M, ts, 'tustin')\n",
    "#     \n",
    "#     # Specifics for OL experiment\n",
    "#     T = 20\n",
    "#     t_exp = np.arange(0, T, ts)\n",
    "#     t = np.arange(0, n_context*ts, ts)\n",
    "#     \n",
    "#     # To store results\n",
    "#     U = np.zeros((len(data_test), n_context))\n",
    "#     Y = np.zeros((len(data_test), n_context))\n",
    "#     Y_d = np.zeros((len(data_test), n_context))\n",
    "#     E = np.zeros((len(data_test), n_context))\n",
    "#     R = np.zeros((len(data_test), n_context))\n",
    "#     \n",
    "#     for i, data in enumerate(data_test):\n",
    "#         \n",
    "#         num = [data['num_1']]\n",
    "#         den = [data['den_1'], data['den_2'], data['den_3']]\n",
    "#     \n",
    "#         G_continuous = tf(num,den)\n",
    "#         G = c2d(G_continuous, ts, 'tustin')\n",
    "#         \n",
    "#         u = np.random.normal(0, 1000, t_exp.shape)\n",
    "#         y = lsim(G, u, t_exp)[0]\n",
    "#     \n",
    "#         u_L = lsim(M, u, t_exp)[0]\n",
    "#         y_L = lsim(M, y, t_exp)[0]\n",
    "#         r_v = lsim(M**(-1), y_L, t_exp)[0]\n",
    "#         e_v = (r_v - y_L)\n",
    "#     \n",
    "#         u_L = u_L\n",
    "#     \n",
    "#         # normalize\n",
    "#         e_v = e_v / 5#2.22  # mean 0, std 10\n",
    "#         u_L = u_L / 177#62.3#118.5  # mean 0, std 17\n",
    "#     \n",
    "#     \n",
    "#         e_v = e_v[1:]\n",
    "#         u_L = u_L[:-1]\n",
    "#         y_L = y_L[1:]\n",
    "#         r_v = r_v[1:]\n",
    "#         \n",
    "#         # lunghezza contesto 5\n",
    "#         # start_idx = np.random.randint(500, len(e_v)-n_context)\n",
    "#         start_idx = 0\n",
    "#         e_v = e_v[start_idx:start_idx + n_context] # this is e(t), ... e(t+N)\n",
    "#         u_L = u_L[start_idx:start_idx + n_context] # this is u(t-1), ... u(t+N-1)\n",
    "#         y_L = y_L[start_idx:start_idx + n_context] # this is u(t-1), ... u(t+N-1)\n",
    "#         r_v = r_v[start_idx:start_idx + n_context]\n",
    "#         \n",
    "#         E[i,:] = e_v\n",
    "#         U[i,:] = u_L\n",
    "#         \n",
    "#         Y[i,:] = y_L\n",
    "#         R[i,:] = r_v\n",
    "#         Y_d[i,:] = lsim(M, r_v, t)[0]\n",
    "#         \n",
    "#     t_CL = t\n",
    "#     r_batch = R\n",
    "#     \n",
    "# else:\n",
    "#     ts = 1e-2\n",
    "#     T = 20#5#seq_len*ts\n",
    "#     t_CL = np.arange(0, T, ts)\n",
    "#     r_batch = np.zeros((batch_size, len(t_CL)))\n",
    "#     r = np.zeros(t_CL.shape)\n",
    "#     r[t_CL < 20] = 10\n",
    "#     r[(t_CL >= 2.5) & (t_CL < 5)] = -10\n",
    "#     r[(t_CL >= 5.0) & (t_CL < 7.5)] = 0\n",
    "#     r[(t_CL >= 7.5) & (t_CL < 10)] = 5\n",
    "#     r[(t_CL >= 10.) & (t_CL < 12.5)] = -5\n",
    "#     r[(t_CL >= 12.5) & (t_CL < 15.)] = 20\n",
    "#     r[(t_CL >= 15.0) & (t_CL < 17.5)] = 0\n",
    "#     r[(t_CL >= 17.5) & (t_CL < 20.0)] = -20\n",
    "#     \n",
    "#     for i in range(r_batch.shape[0]):\n",
    "#         # get virtual error\n",
    "#         r_batch[i,:] = r"
   ],
   "metadata": {
    "collapsed": false,
    "ExecuteTime": {
     "end_time": "2024-07-25T09:05:53.495471Z",
     "start_time": "2024-07-25T09:05:53.488791Z"
    }
   },
   "id": "360728335331229b",
   "outputs": [],
   "execution_count": 161
  },
  {
   "cell_type": "code",
   "source": [
    "from control.matlab import *\n",
    "# Generate the reference\n",
    "generate_from_model = False\n",
    "ts = 1e-2\n",
    "T = 20#5#seq_len*ts\n",
    "t_CL = np.arange(0, T, ts)\n",
    "r_batch = np.zeros((batch_size, len(t_CL)))\n",
    "\n",
    "if generate_from_model:\n",
    "    test_ds = SimpleExample1Dataset(seq_len=len(t_CL), normalize=True, signal='white noise', use_prefilter=True, noisy=False)\n",
    "    test_dl = DataLoader(test_ds, batch_size=batch_size)\n",
    "    batch_u, batch_e, batch_r = next(iter(test_dl))\n",
    "    for i in range(r_batch.shape[0]):\n",
    "        # get virtual error\n",
    "        r_batch[i,:] = batch_r[i,:,0]\n",
    "else:\n",
    "    r = 10*np.ones(t_CL.shape)\n",
    "    # r[t_CL < 1] = -5\n",
    "    # r[(t_CL >= 1) & (t_CL < 2)] = 5\n",
    "    # r[(t_CL >= 2) & (t_CL < 3)] = 0\n",
    "    r[(t_CL >= 2.5) & (t_CL < 5)] = -10\n",
    "    r[(t_CL >= 5.0) & (t_CL < 7.5)] = 0\n",
    "    r[(t_CL >= 7.5) & (t_CL < 10)] = 5\n",
    "    r[(t_CL >= 10.) & (t_CL < 12.5)] = -5\n",
    "    r[(t_CL >= 12.5) & (t_CL < 15.)] = 20\n",
    "    r[(t_CL >= 15.0) & (t_CL < 17.5)] = 0\n",
    "    r[(t_CL >= 17.5) & (t_CL < 20.0)] = -20\n",
    "    for i in range(r_batch.shape[0]):\n",
    "        # get virtual error\n",
    "        r_batch[i,:] = r"
   ],
   "metadata": {
    "collapsed": false,
    "ExecuteTime": {
     "end_time": "2024-07-25T09:05:53.507327Z",
     "start_time": "2024-07-25T09:05:53.497272Z"
    }
   },
   "id": "322d5a268aa6fd69",
   "outputs": [],
   "execution_count": 162
  },
  {
   "metadata": {
    "ExecuteTime": {
     "end_time": "2024-07-25T09:05:53.702525Z",
     "start_time": "2024-07-25T09:05:53.509038Z"
    }
   },
   "cell_type": "code",
   "source": "plt.plot(r_batch[0,:])",
   "id": "ab7c918c7520df6d",
   "outputs": [
    {
     "data": {
      "text/plain": [
       "[<matplotlib.lines.Line2D at 0x7f2d2d33b940>]"
      ]
     },
     "execution_count": 163,
     "metadata": {},
     "output_type": "execute_result"
    },
    {
     "data": {
      "text/plain": [
       "<Figure size 640x480 with 1 Axes>"
      ],
      "image/png": "[encoded data removed]"
     },
     "metadata": {},
     "output_type": "display_data"
    }
   ],
   "execution_count": 163
  },
  {
   "cell_type": "code",
   "source": [
    "with open('normalization_params.yaml', 'r') as file:\n",
    "    config = yaml.safe_load(file)\n",
    "    \n",
    "prefilter_key = 'prefilter'\n",
    "signal_key = 'white noise'\n",
    "signal_config = config.get(signal_key, {}).get(prefilter_key, {})\n",
    "e_std = signal_config.get('e_std')\n",
    "u_std = signal_config.get('u_std')"
   ],
   "metadata": {
    "collapsed": false,
    "ExecuteTime": {
     "end_time": "2024-07-25T09:05:53.712740Z",
     "start_time": "2024-07-25T09:05:53.704153Z"
    }
   },
   "id": "6bc59d5501e762d2",
   "outputs": [],
   "execution_count": 164
  },
  {
   "cell_type": "code",
   "source": [
    "print(e_std)\n",
    "print(u_std)"
   ],
   "metadata": {
    "collapsed": false,
    "ExecuteTime": {
     "end_time": "2024-07-25T09:05:53.717952Z",
     "start_time": "2024-07-25T09:05:53.714388Z"
    }
   },
   "id": "ceb9e28528266540",
   "outputs": [
    {
     "name": "stdout",
     "output_type": "stream",
     "text": [
      "5\n",
      "177\n"
     ]
    }
   ],
   "execution_count": 165
  },
  {
   "metadata": {
    "ExecuteTime": {
     "end_time": "2024-07-25T09:05:53.725104Z",
     "start_time": "2024-07-25T09:05:53.719304Z"
    }
   },
   "cell_type": "code",
   "source": [
    "print(model.proportional_coefficient)\n",
    "print(model.integral_coefficient)\n",
    "print(model.derivative_coefficient)"
   ],
   "id": "a5aa0b623c311257",
   "outputs": [
    {
     "name": "stdout",
     "output_type": "stream",
     "text": [
      "Parameter containing:\n",
      "tensor([2.5652], requires_grad=True)\n",
      "Parameter containing:\n",
      "tensor([6.9580e-05], requires_grad=True)\n",
      "Parameter containing:\n",
      "tensor([0.5701], requires_grad=True)\n"
     ]
    }
   ],
   "execution_count": 166
  },
  {
   "cell_type": "code",
   "source": [
    "import copy\n",
    "n_testing = 0\n",
    "H = 300\n",
    "\n",
    "y_d = np.empty((len(data_test),len(t_CL)))\n",
    "y_log = np.empty((len(data_test),len(t_CL)))\n",
    "e_log = np.empty((len(data_test),len(t_CL)))\n",
    "u_log = np.empty((len(data_test),len(t_CL)))\n",
    "\n",
    "Ts = 1e-2; Fs = 1 / Ts\n",
    "s = tf('s')\n",
    "\n",
    "# problem data\n",
    "\n",
    "# (e_t, u_{t-1}) -> Transformer -> u_t\n",
    "\n",
    "# x(0), u(-1) = 0, y(0), e(0) = r(0) - y(0)\n",
    "# VRFT\n",
    "s = tf('s')\n",
    "tau = 1 # s\n",
    "M = 1/(1 + (tau/(2*np.pi))*s)\n",
    "M = c2d(M, ts, 'tustin')\n",
    "\n",
    "with torch.no_grad():\n",
    "    for n_testing in range(1):#len(data_test)):\n",
    "        \n",
    "        print(n_testing)\n",
    "        \n",
    "        # print(n_testing)\n",
    "        \n",
    "        # e = torch.Tensor([[[]]])\n",
    "        # e_int = torch.Tensor([[[]]])\n",
    "        # u = torch.Tensor([[[]]])\n",
    "        e = np.array([])\n",
    "        # e_int = np.array([])\n",
    "        u = np.array([])\n",
    "        \n",
    "        # This is like t=0, for our model we need u(-1).\n",
    "        x_i = np.array([[0, 0]]) # x(0)\n",
    "        y_i = x_i[:,1]    # y(0)\n",
    "        u_prev = 0 # u(-1)\n",
    "\n",
    "        data = data_test[n_testing]\n",
    "        # system\n",
    "        num = [data['num_1']]\n",
    "        den = [data['den_1'], data['den_2'], data['den_3']]\n",
    "        P = tf(num, den)\n",
    "        \n",
    "        for i in range(0,len(t_CL)):#batch_u.shape[0]): # for each system\n",
    "            \n",
    "            y_d[n_testing,:] = lsim(M, r_batch[n_testing,:], t_CL)[0]\n",
    "            \n",
    "            # print(i)\n",
    "            # if i == 6:\n",
    "            #     print('e:', e[0, 0, :5])\n",
    "            #     print('u:', u[0, 0, :5])\n",
    "            #     print('u_hat:', pred[0, :5, 0])\n",
    "            #     print('y:', y_log[0, :5])\n",
    "            #     print('x:', x_i)\n",
    "\n",
    "            e_i_model = r_batch[n_testing,i] - y_i # e(t)\n",
    "            e_i = e_i_model / e_std#batch_e[n_testing,i,0]\n",
    "            \n",
    "            y_log[n_testing,i] = y_i\n",
    "            e_log[n_testing,i] = e_i_model\n",
    "            \n",
    "            # if i == 0:\n",
    "            #     e_int_i = e_i\n",
    "            # else:\n",
    "            #     e_int_i = np.cumsum(e_log[n_testing,:].flatten())[-1] + e_i\n",
    "                \n",
    "            e = np.hstack((e, e_i))#4.8320))\n",
    "            # e_int = np.hstack((e_int, e_int_i / 70))\n",
    "            u = np.hstack((u, u_prev / u_std))#175.1))\n",
    "            \n",
    "            # Convert to torch.Tensor just before feeding to model\n",
    "            e_tensor = torch.tensor(e, dtype=torch.float32).reshape(1, -1, 1)\n",
    "            u_tensor = torch.tensor(u, dtype=torch.float32).reshape(1, -1, 1)\n",
    "    \n",
    "\n",
    "            # # print(e_i.shape)\n",
    "            # e = torch.cat((e, copy.deepcopy(e_i)), 2)    #  e(0), ..., e(t)\n",
    "            # e_int = torch.cat((e_int, copy.deepcopy(e_int_i) / 70), 2)    #  e(0), ..., e(t)\n",
    "            # u = torch.cat((u, copy.deepcopy(u_prev) / 118.5), 2) # u(-1), ..., u(t-1)\n",
    "            # \n",
    "            \n",
    "            # Controller u(t) = C(e(t),u(t-1))\n",
    "            if i < H:\n",
    "                pred, _ = model(e_tensor, u_tensor)\n",
    "            else:\n",
    "                pred, _ = model(e_tensor[:, -H:, :], u_tensor[:, -H:, :])\n",
    "            # print(pred.shape)\n",
    "    \n",
    "            u_i_model = pred[:,-1,:].item() * u_std # u(t)\n",
    "            u_i = u_i_model#batch_u[n_testing,i+1,0] * u_std\n",
    "            u_log[n_testing,i] = u_i_model\n",
    "    \n",
    "            # simulation\n",
    "            y_i, t_out, x_i = lsim(P, u_i, np.array([0, Ts]), x_i[-1], return_x=True)\n",
    "            y_i = y_i[-1]  # y(t) <- y(t+1)\n",
    "            u_prev = u_i#u_i # u(t-1)"
   ],
   "metadata": {
    "collapsed": false,
    "ExecuteTime": {
     "end_time": "2024-07-25T09:06:54.516057Z",
     "start_time": "2024-07-25T09:05:53.726461Z"
    }
   },
   "id": "7d9e1d6347d417f6",
   "outputs": [
    {
     "name": "stdout",
     "output_type": "stream",
     "text": [
      "0\n"
     ]
    },
    {
     "name": "stderr",
     "output_type": "stream",
     "text": [
      "/tmp/ipykernel_4130253/1670383503.py:64: DeprecationWarning: Conversion of an array with ndim > 0 to a scalar is deprecated, and will error in future. Ensure you extract a single element from your array before performing this operation. (Deprecated NumPy 1.25.)\n",
      "  y_log[n_testing,i] = y_i\n",
      "/tmp/ipykernel_4130253/1670383503.py:65: DeprecationWarning: Conversion of an array with ndim > 0 to a scalar is deprecated, and will error in future. Ensure you extract a single element from your array before performing this operation. (Deprecated NumPy 1.25.)\n",
      "  e_log[n_testing,i] = e_i_model\n",
      "/home/rbusetto/.virtualenvs/sysid-transformers-control/lib/python3.10/site-packages/control/timeresp.py:1003: UserWarning: return_x specified for a transfer function system. Internal conversion to state space used; results may meaningless.\n",
      "  warnings.warn(\n",
      "/home/rbusetto/.virtualenvs/sysid-transformers-control/lib/python3.10/site-packages/control/timeresp.py:1009: UserWarning: Non-zero initial condition given for transfer function system. Internal conversion to state space used; may not be consistent with given X0.\n",
      "  warnings.warn(\n"
     ]
    }
   ],
   "execution_count": 167
  },
  {
   "cell_type": "code",
   "source": [
    "# print('e:', e_tensor[0, :5, 0])\n",
    "# print('u:', u_tensor[0, :5, 0])\n",
    "# print('u:', u_log[0, :5]/175.1)\n",
    "# # print('u_hat:', batch_u_pred[0, :5, 0])\n",
    "# print('y:', y_log[0, :5])\n",
    "# print('r:', r_batch[0, :5])"
   ],
   "metadata": {
    "collapsed": false,
    "ExecuteTime": {
     "end_time": "2024-07-25T09:06:54.522211Z",
     "start_time": "2024-07-25T09:06:54.518502Z"
    }
   },
   "id": "269bf318d950ea72",
   "outputs": [],
   "execution_count": 168
  },
  {
   "cell_type": "code",
   "source": [
    "fig = plt.figure(figsize=(9, 5))\n",
    "ax1 = plt.subplot(311)\n",
    "#plt.plot(t_CL, r)\n",
    "plt.plot(t_CL, r_batch[n_testing,:], label=\"$r$\", c='tab:orange')\n",
    "plt.plot(t_CL, y_log[0,:].T, label=\"$y$\", c='tab:blue', alpha=1)\n",
    "plt.plot(t_CL, y_d[0,:].T, label=\"$y_d$\", c='tab:red', alpha=1, linestyle='--')\n",
    "plt.legend(['$r$','$y$','$y_d$'])\n",
    "# plt.xlim([0, 0.43])\n",
    "# plt.ylim([0, 10])\n",
    "plt.tick_params('x', labelbottom=False)\n",
    "\n",
    "ax2 = plt.subplot(312, sharex=ax1)\n",
    "plt.plot(t_CL, u_log[0,:].T, c='tab:blue', alpha=1)\n",
    "# plt.plot(t_CL[:-1], batch_u[0,1:,0] * u_std, c='tab:green', alpha=1)\n",
    "plt.legend(['$u$', '$u_{ideal}$'])\n",
    "# plt.xlim([10, 12])\n",
    "plt.tick_params('x', labelbottom=False)\n",
    "\n",
    "ax3 = plt.subplot(313, sharex=ax1)\n",
    "plt.plot(t_CL[:-1], e_log[0,:-1], c='tab:blue', alpha=1)\n",
    "# plt.plot(t_CL, batch_e[0,:,0] * e_std, c='tab:green', alpha=1)\n",
    "plt.xlabel('$t$ [s]')\n",
    "# plt.ylim([0, 4])\n",
    "plt.legend(['$e$', '$e_{ideal}$'])\n",
    "\n",
    "# plt.savefig('transformer_controller.pdf')\n",
    "\n",
    "plt.show()"
   ],
   "metadata": {
    "collapsed": false,
    "ExecuteTime": {
     "end_time": "2024-07-25T09:06:54.817096Z",
     "start_time": "2024-07-25T09:06:54.523450Z"
    }
   },
   "id": "fd288b5a3f7dc31d",
   "outputs": [
    {
     "data": {
      "text/plain": [
       "<Figure size 900x500 with 3 Axes>"
      ],
      "image/png": "[encoded data removed]"
     },
     "metadata": {},
     "output_type": "display_data"
    }
   ],
   "execution_count": 169
  },
  {
   "cell_type": "code",
   "source": [
    "s = tf('s')\n",
    "tau = 1 # s\n",
    "M = 1/(1 + (tau/(2*np.pi))*s)\n",
    "M = c2d(M, ts, 'matched')\n",
    "\n",
    "y_d = lsim(M, r, t_CL, return_x=False)[0]\n",
    "\n",
    "fig = plt.figure(figsize=(9, 5))\n",
    "plt.plot(t_CL, r_batch[n_testing,:], color='k', linewidth=0.5, label='$r$')\n",
    "plt.plot(t_CL, y_log[0,:].T, label=r'$y^{\\mathcal{C}}$')\n",
    "plt.plot(t_CL, y_d, color='r', linestyle='--', label='$y_d$')\n",
    "plt.xlabel(\"$t$ [s]\")\n",
    "plt.ylabel(\"$y$ [-]\")\n",
    "plt.xlim([0, 10])\n",
    "plt.ylim([-25, 25])\n",
    "plt.legend()\n",
    "plt.margins(x=0)\n",
    "plt.show()"
   ],
   "metadata": {
    "collapsed": false,
    "ExecuteTime": {
     "end_time": "2024-07-25T09:06:54.967087Z",
     "start_time": "2024-07-25T09:06:54.818527Z"
    }
   },
   "id": "4fcbd26530b08fa8",
   "outputs": [
    {
     "data": {
      "text/plain": [
       "<Figure size 900x500 with 1 Axes>"
      ],
      "image/png": "[encoded data removed]"
     },
     "metadata": {},
     "output_type": "display_data"
    }
   ],
   "execution_count": 170
  },
  {
   "metadata": {
    "ExecuteTime": {
     "end_time": "2024-07-25T09:06:54.970763Z",
     "start_time": "2024-07-25T09:06:54.968482Z"
    }
   },
   "cell_type": "code",
   "source": "",
   "id": "65d0c6c3de7e60b4",
   "outputs": [],
   "execution_count": 170
  }
 ],
 "metadata": {
  "kernelspec": {
   "display_name": "Python 3 (ipykernel)",
   "language": "python",
   "name": "python3"
  },
  "language_info": {
   "codemirror_mode": {
    "name": "ipython",
    "version": 3
   },
   "file_extension": ".py",
   "mimetype": "text/x-python",
   "name": "python",
   "nbconvert_exporter": "python",
   "pygments_lexer": "ipython3",
   "version": "3.11.0"
  }
 },
 "nbformat": 4,
 "nbformat_minor": 5
}
