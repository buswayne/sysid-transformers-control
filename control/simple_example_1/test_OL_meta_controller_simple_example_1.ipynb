{
 "cells": [
  {
   "cell_type": "code",
   "execution_count": 25,
   "outputs": [],
   "source": [
    "import time\n",
    "import numpy as np\n",
    "import pandas as pd\n",
    "import matplotlib.pyplot as plt\n",
    "import pickle as pkl\n",
    "from numba import float32, float64, jit, NumbaPerformanceWarning\n",
    "import warnings\n",
    "import os\n",
    "from control.matlab import *\n",
    "\n",
    "warnings.simplefilter('ignore', category=NumbaPerformanceWarning)\n",
    "\n",
    "from utils import simulate_onestep_campi_example_1\n",
    "\n",
    "# plt.rcParams[\"font.family\"] = \"Times New Roman\"\n",
    "# plt.rcParams[\"mathtext.fontset\"] = \"cm\"\n",
    "# plt.rcParams['axes.labelsize']=14\n",
    "# plt.rcParams['xtick.labelsize']=11\n",
    "# plt.rcParams['ytick.labelsize']=11\n",
    "# plt.rcParams['axes.grid']=True\n",
    "# plt.rcParams['axes.xmargin']=0"
   ],
   "metadata": {
    "collapsed": false,
    "ExecuteTime": {
     "end_time": "2024-07-11T04:50:44.389256Z",
     "start_time": "2024-07-11T04:50:44.358040Z"
    }
   },
   "id": "f1843b5eb255e7ec"
  },
  {
   "cell_type": "code",
   "execution_count": 26,
   "id": "df653a7d",
   "metadata": {
    "ExecuteTime": {
     "end_time": "2024-07-11T04:50:44.389256Z",
     "start_time": "2024-07-11T04:50:44.358040Z"
    }
   },
   "outputs": [],
   "source": [
    "from pathlib import Path\n",
    "import time\n",
    "import torch\n",
    "import numpy as np\n",
    "import pandas as pd\n",
    "from torch.utils.data import DataLoader\n",
    "import matplotlib.pyplot as plt\n",
    "from transformer_onestep import GPTConfig, GPT\n",
    "from dataset_simple_example_1 import SimpleExample1Dataset\n",
    "import tqdm\n",
    "import argparse\n",
    "import metrics"
   ]
  },
  {
   "cell_type": "code",
   "execution_count": 27,
   "id": "e4a8b43d",
   "metadata": {
    "ExecuteTime": {
     "end_time": "2024-07-11T04:50:44.478855600Z",
     "start_time": "2024-07-11T04:50:44.478855600Z"
    }
   },
   "outputs": [],
   "source": [
    "fig_path = Path(\"fig\")\n",
    "fig_path.mkdir(exist_ok=True)"
   ]
  },
  {
   "cell_type": "code",
   "execution_count": 28,
   "id": "1d446d6d",
   "metadata": {
    "ExecuteTime": {
     "end_time": "2024-07-11T04:50:44.489933300Z",
     "start_time": "2024-07-11T04:50:44.478855600Z"
    }
   },
   "outputs": [],
   "source": [
    "# Fix all random sources to make script fully reproducible\n",
    "torch.manual_seed(420)\n",
    "np.random.seed(430)\n",
    "system_seed = 430 # Controls the system generation\n",
    "data_seed = 0 # Control the input generation"
   ]
  },
  {
   "cell_type": "code",
   "execution_count": 29,
   "id": "6a235fd7",
   "metadata": {
    "ExecuteTime": {
     "end_time": "2024-07-11T04:50:44.489933300Z",
     "start_time": "2024-07-11T04:50:44.478855600Z"
    }
   },
   "outputs": [],
   "source": [
    "# Overall settings\n",
    "out_dir = \"../out\"\n",
    "\n",
    "# System settings\n",
    "nu = 1\n",
    "ny = 1\n",
    "#seq_len = 600\n",
    "batch_size = 50 # 256\n",
    "\n",
    "# Compute settings\n",
    "cuda_device = \"cuda:1\"\n",
    "no_cuda = True\n",
    "threads = 10\n",
    "compile = False\n",
    "\n",
    "# Configure compute\n",
    "torch.set_num_threads(threads) \n",
    "use_cuda = not no_cuda and torch.cuda.is_available()\n",
    "device_name  = cuda_device if use_cuda else \"cpu\"\n",
    "device = torch.device(device_name)\n",
    "device_type = 'cuda' if 'cuda' in device_name else 'cpu' # for later use in torch.autocast\n",
    "torch.set_float32_matmul_precision(\"high\")\n",
    "#torch.backends.cuda.matmul.allow_tf32 = True # allow tf32 on matmul\n",
    "#torch.backends.cudnn.allow_tf32 = True # allow tf32 on cudnn"
   ]
  },
  {
   "cell_type": "code",
   "execution_count": 30,
   "id": "69ad2d3e",
   "metadata": {
    "ExecuteTime": {
     "end_time": "2024-07-11T04:50:44.489933300Z",
     "start_time": "2024-07-11T04:50:44.478855600Z"
    }
   },
   "outputs": [],
   "source": [
    "# Create out dir\n",
    "out_dir = Path(out_dir)\n",
    "exp_data = torch.load(out_dir/\"ckpt_controller_simple_example_1.14.pt\", map_location=device)"
   ]
  },
  {
   "cell_type": "code",
   "execution_count": 31,
   "id": "0c029f10",
   "metadata": {
    "ExecuteTime": {
     "end_time": "2024-07-11T04:50:44.614971700Z",
     "start_time": "2024-07-11T04:50:44.614971700Z"
    }
   },
   "outputs": [],
   "source": [
    "seq_len = exp_data[\"cfg\"].seq_len\n",
    "nx = exp_data[\"cfg\"].nx"
   ]
  },
  {
   "cell_type": "code",
   "execution_count": 32,
   "id": "34332c1a",
   "metadata": {
    "ExecuteTime": {
     "end_time": "2024-07-11T04:50:44.614971700Z",
     "start_time": "2024-07-11T04:50:44.614971700Z"
    }
   },
   "outputs": [
    {
     "name": "stdout",
     "output_type": "stream",
     "text": [
      "number of parameters: 2.43M\n"
     ]
    }
   ],
   "source": [
    "model_args = exp_data[\"model_args\"]\n",
    "gptconf = GPTConfig(**model_args)\n",
    "model = GPT(gptconf).to(device)\n",
    "\n",
    "\n",
    "state_dict = exp_data[\"model\"]\n",
    "unwanted_prefix = '_orig_mod.'\n",
    "for k,v in list(state_dict.items()):\n",
    "    if k.startswith(unwanted_prefix):\n",
    "        state_dict[k[len(unwanted_prefix):]] = state_dict.pop(k)\n",
    "model.load_state_dict(state_dict);"
   ]
  },
  {
   "cell_type": "code",
   "execution_count": 33,
   "outputs": [],
   "source": [
    "import pickle as pkl\n",
    "\n",
    "with open('../../data/control/test_set_simple_example_1_5%_perturbation.pkl', 'rb') as f:\n",
    "    test_set = pkl.load(f)\n",
    "\n",
    "data_test = test_set['data_test']"
   ],
   "metadata": {
    "collapsed": false,
    "ExecuteTime": {
     "end_time": "2024-07-11T04:50:44.630598800Z",
     "start_time": "2024-07-11T04:50:44.614971700Z"
    }
   },
   "id": "ec08f59876e1f7fe"
  },
  {
   "cell_type": "code",
   "execution_count": 34,
   "outputs": [],
   "source": [
    "import yaml\n",
    "\n",
    "with open('normalization_params.yaml', 'r') as file:\n",
    "    config = yaml.safe_load(file)\n",
    "    \n",
    "prefilter_key = 'prefilter'\n",
    "signal_key = 'prbs'\n",
    "signal_config = config.get(signal_key, {}).get(prefilter_key, {})\n",
    "e_std = signal_config.get('e_std')\n",
    "u_std = signal_config.get('u_std')\n",
    "normalize = True"
   ],
   "metadata": {
    "collapsed": false,
    "ExecuteTime": {
     "end_time": "2024-07-11T04:50:44.630598800Z",
     "start_time": "2024-07-11T04:50:44.630598800Z"
    }
   },
   "id": "7244f63fb8f47b58"
  },
  {
   "cell_type": "code",
   "execution_count": 35,
   "outputs": [],
   "source": [
    "from utils import *\n",
    "\n",
    "dtype=\"float32\"\n",
    "n_context = 500\n",
    "\n",
    "ts = 1e-2; fs = 1/ts\n",
    "s = tf('s')\n",
    "z = tf([1, 0], [1], dt=ts)\n",
    "\n",
    "# VRFT\n",
    "s = tf('s')\n",
    "tau = 1 # s\n",
    "M = 1/(1 + (tau/(2*np.pi))*s)\n",
    "M = c2d(M, ts, 'matched')\n",
    "M_proper = z * M\n",
    "\n",
    "# Specifics for OL experiment\n",
    "T = 5\n",
    "t_exp = np.arange(0, T, ts)\n",
    "t = np.arange(0, n_context*ts, ts)\n",
    "\n",
    "# To store results\n",
    "U = np.zeros((len(data_test), n_context))\n",
    "Y = np.zeros((len(data_test), n_context))\n",
    "Y_d = np.zeros((len(data_test), n_context))\n",
    "E = np.zeros((len(data_test), n_context))\n",
    "R = np.zeros((len(data_test), n_context))\n",
    "\n",
    "for i, data in enumerate(data_test):\n",
    "    \n",
    "    num = [data['num_1']]\n",
    "    den = [data['den_1'], data['den_2'], data['den_3']]\n",
    "\n",
    "    G_continuous = tf(num,den)\n",
    "    G = c2d(G_continuous, ts, 'matched')\n",
    "    \n",
    "    if signal_key == \"white noise\":\n",
    "        n_steps = np.random.randint(2, 50)\n",
    "        u = np.random.normal(0, 1000, t_exp.shape)\n",
    "    elif signal_key == \"prbs\":\n",
    "        u = prbs(len(t_exp))\n",
    "    elif signal_key == \"random\":\n",
    "        u = random_signal(len(t_exp))\n",
    "\n",
    "    y = lsim(G, u, t_exp)[0]\n",
    "    \n",
    "    L = M\n",
    "\n",
    "    if prefilter_key == 'prefilter':\n",
    "        u_L = lsim(L, u, t)[0]\n",
    "        y_L = lsim(L, y, t)[0]\n",
    "    else:\n",
    "        u_L = u\n",
    "        y_L = y\n",
    "\n",
    "    r_v = lsim(M_proper ** (-1), y_L, t_exp)[0]\n",
    "    e_v = (r_v - y_L)\n",
    "\n",
    "    u_L = u_L\n",
    "\n",
    "    # normalize\n",
    "    if normalize:\n",
    "        e_v = e_v / e_std\n",
    "        u_L = u_L / u_std\n",
    "        \n",
    "    \n",
    "    # lunghezza contesto 5\n",
    "    # start_idx = np.random.randint(500, len(e_v)-n_context)\n",
    "    start_idx = 0\n",
    "    e_v = e_v[start_idx:start_idx + n_context] # this is e(t), ... e(t+N)\n",
    "    u_L = np.insert(u_L, 0, 1e-6)\n",
    "    u_L = u_L[start_idx:start_idx + n_context] # this is u(t-1), ... u(t+N-1)\n",
    "    y_L = y_L[start_idx:start_idx + n_context] # this is u(t-1), ... u(t+N-1)\n",
    "    r_v = r_v[start_idx:start_idx + n_context]\n",
    "    \n",
    "    E[i,:] = e_v\n",
    "    U[i,:] = u_L\n",
    "    Y[i,:] = y_L\n",
    "    R[i,:] = r_v\n",
    "    Y_d[i,:] = lsim(M, r_v, t)[0]\n",
    "    \n",
    "E = E.astype(dtype)\n",
    "U = U.astype(dtype)"
   ],
   "metadata": {
    "collapsed": false,
    "ExecuteTime": {
     "end_time": "2024-07-11T04:50:46.840913900Z",
     "start_time": "2024-07-11T04:50:44.630598800Z"
    }
   },
   "id": "7544a7a2eeaa31ba"
  },
  {
   "cell_type": "code",
   "execution_count": 36,
   "outputs": [],
   "source": [
    "batch_e = torch.Tensor(E.reshape(len(data_test),-1,1))\n",
    "batch_u = torch.Tensor(U.reshape(len(data_test),-1,1))\n",
    "\n",
    "with torch.no_grad():\n",
    "    batch_u_pred, loss = model(batch_e, batch_u)"
   ],
   "metadata": {
    "collapsed": false,
    "ExecuteTime": {
     "end_time": "2024-07-11T04:50:48.954709600Z",
     "start_time": "2024-07-11T04:50:46.840913900Z"
    }
   },
   "id": "7f8b4ca1863a803a"
  },
  {
   "cell_type": "code",
   "execution_count": 37,
   "outputs": [],
   "source": [
    "Y_hat = np.zeros((len(data_test), n_context))\n",
    "\n",
    "for i, data in enumerate(data_test):\n",
    "    num = [data['num_1']]\n",
    "    den = [data['den_1'], data['den_2'], data['den_3']]\n",
    "\n",
    "    G_continuous = tf(num,den)\n",
    "    G = c2d(G_continuous, ts, 'matched')\n",
    "    \n",
    "    Y_hat[i,:] = lsim(G, batch_u_pred[i,:,0] * u_std, np.arange(0, n_context*ts, ts))[0]"
   ],
   "metadata": {
    "collapsed": false,
    "ExecuteTime": {
     "end_time": "2024-07-11T04:50:49.504253100Z",
     "start_time": "2024-07-11T04:50:48.954709600Z"
    }
   },
   "id": "e9cdffee4dee3242"
  },
  {
   "cell_type": "code",
   "execution_count": 38,
   "outputs": [
    {
     "name": "stderr",
     "output_type": "stream",
     "text": [
      "<>:6: DeprecationWarning: invalid escape sequence '\\h'\n",
      "<>:16: DeprecationWarning: invalid escape sequence '\\h'\n",
      "<>:24: DeprecationWarning: invalid escape sequence '\\h'\n",
      "<>:6: DeprecationWarning: invalid escape sequence '\\h'\n",
      "<>:16: DeprecationWarning: invalid escape sequence '\\h'\n",
      "<>:24: DeprecationWarning: invalid escape sequence '\\h'\n",
      "/tmp/ipykernel_121396/1472715331.py:6: DeprecationWarning: invalid escape sequence '\\h'\n",
      "  plt.plot(t[:-1], batch_u_pred.detach().numpy()[test_number, :-1, 0] * u_std, label='$\\hat{u}$')\n",
      "/tmp/ipykernel_121396/1472715331.py:16: DeprecationWarning: invalid escape sequence '\\h'\n",
      "  plt.plot(t, Y_hat[test_number,:], label='$\\hat{y}$')\n",
      "/tmp/ipykernel_121396/1472715331.py:24: DeprecationWarning: invalid escape sequence '\\h'\n",
      "  plt.plot(t[:-1], np.abs((batch_u[test_number,1:,0] - batch_u_pred[test_number,:-1,0])*u_std), label='$|u - \\hat{u}|$')\n"
     ]
    },
    {
     "data": {
      "text/plain": "<Figure size 700x400 with 3 Axes>",
      "image/png": "[encoded data removed]"
     },
     "metadata": {},
     "output_type": "display_data"
    }
   ],
   "source": [
    "test_number = 0\n",
    "\n",
    "plt.figure(figsize=(7,4))\n",
    "plt.subplot(311)\n",
    "plt.plot(t[:-1], batch_u[test_number, 1:, 0] * u_std, label='$u$')\n",
    "plt.plot(t[:-1], batch_u_pred.detach().numpy()[test_number, :-1, 0] * u_std, label='$\\hat{u}$')\n",
    "plt.tick_params('x', labelbottom=False)\n",
    "# plt.xlim([0, 1])\n",
    "# plt.ylim([-500, 2000])\n",
    "plt.legend()\n",
    "\n",
    "plt.subplot(312)\n",
    "plt.plot(t, R[test_number,:], label='$r$')\n",
    "# plt.plot(t, y_d, label='$y_d$')\n",
    "plt.plot(t, Y[test_number,:], label='$y$')\n",
    "plt.plot(t, Y_hat[test_number,:], label='$\\hat{y}$')\n",
    "plt.plot(t, Y_d[test_number,:], 'r--', label='$y^d$')\n",
    "plt.tick_params('x', labelbottom=False)\n",
    "# plt.xlim([0, 0.43])\n",
    "# plt.ylim([0, 10])\n",
    "plt.legend(ncols=4)\n",
    "\n",
    "plt.subplot(313)\n",
    "plt.plot(t[:-1], np.abs((batch_u[test_number,1:,0] - batch_u_pred[test_number,:-1,0])*u_std), label='$|u - \\hat{u}|$')\n",
    "plt.xlabel(\"$t$ [s]\")\n",
    "# plt.xlim([0, 0.43])\n",
    "# plt.ylim([0, 4])\n",
    "plt.legend()\n",
    "\n",
    "plt.show()"
   ],
   "metadata": {
    "collapsed": false,
    "ExecuteTime": {
     "end_time": "2024-07-11T04:50:50.079112900Z",
     "start_time": "2024-07-11T04:50:49.504253100Z"
    }
   },
   "id": "6943b1ec5f01545"
  },
  {
   "cell_type": "code",
   "execution_count": 39,
   "outputs": [
    {
     "ename": "SyntaxError",
     "evalue": "invalid syntax (2701612772.py, line 2)",
     "output_type": "error",
     "traceback": [
      "\u001B[0;36m  Cell \u001B[0;32mIn[39], line 2\u001B[0;36m\u001B[0m\n\u001B[0;31m    print('u:', batch_u[0, :6, 0])albea\u001B[0m\n\u001B[0m                                  ^\u001B[0m\n\u001B[0;31mSyntaxError\u001B[0m\u001B[0;31m:\u001B[0m invalid syntax\n"
     ]
    }
   ],
   "source": [
    "print('e:', batch_e[0, :5, 0])\n",
    "print('u:', batch_u[0, :6, 0])\n",
    "print('u_hat:', batch_u_pred[0, :5, 0])\n",
    "print('y:', Y[0, :5])\n",
    "print('r:', R[0, :5])"
   ],
   "metadata": {
    "collapsed": false,
    "ExecuteTime": {
     "end_time": "2024-07-11T04:50:50.079112900Z",
     "start_time": "2024-07-11T04:50:50.079112900Z"
    }
   },
   "id": "f7318954509820ce"
  },
  {
   "cell_type": "code",
   "execution_count": null,
   "outputs": [],
   "source": [
    "0.3264*175.1"
   ],
   "metadata": {
    "collapsed": false,
    "ExecuteTime": {
     "start_time": "2024-07-11T04:50:50.079112900Z"
    }
   },
   "id": "bfbcebdd4e530ce7"
  },
  {
   "cell_type": "code",
   "execution_count": null,
   "outputs": [],
   "source": [
    "# test_ds = SimpleExample1Dataset(seq_len=seq_len, normalize=True, return_y=True)\n",
    "# test_dl = DataLoader(test_ds, batch_size=batch_size)"
   ],
   "metadata": {
    "collapsed": false,
    "ExecuteTime": {
     "end_time": "2024-07-11T04:50:50.110398100Z",
     "start_time": "2024-07-11T04:50:50.079112900Z"
    }
   },
   "id": "b84f563fe08bd4bc"
  },
  {
   "cell_type": "code",
   "execution_count": null,
   "outputs": [],
   "source": [
    "# Prediction\n",
    "# batch_u, batch_e, batch_y, batch_r = next(iter(test_dl))\n",
    "with torch.no_grad():\n",
    "    batch_u_pred, loss = model(batch_e, batch_u)"
   ],
   "metadata": {
    "collapsed": false,
    "ExecuteTime": {
     "start_time": "2024-07-11T04:50:50.079112900Z"
    }
   },
   "id": "74f519b00769b7f7"
  },
  {
   "cell_type": "code",
   "execution_count": null,
   "outputs": [],
   "source": [
    "plt.figure()\n",
    "#plt.plot(batch_input[0,:,0])\n",
    "ts = 1e-2\n",
    "T = batch_e.shape[1]*ts  # ts*self.seq_len# * 2\n",
    "t = np.arange(0, T, ts)\n",
    "\n",
    "for i in range(batch_size):\n",
    "    plt.subplot(211)\n",
    "    plt.plot(t, batch_e[i, :, 0], c='tab:blue', alpha=0.2)\n",
    "    plt.legend(['$e_v$'])\n",
    "    plt.subplot(212)\n",
    "    plt.plot(t, batch_u[i, :, 0], c='tab:blue', alpha=1)\n",
    "    plt.plot(t, batch_u_pred.detach().numpy()[i, :, 0], c='tab:orange', alpha=1)\n",
    "    plt.legend(['$u$'])\n",
    "    plt.xlabel(\"$t$ [s]\")\n",
    "    # plt.xlim([2.7, 2.9])\n",
    "plt.show()"
   ],
   "metadata": {
    "collapsed": false,
    "ExecuteTime": {
     "start_time": "2024-07-11T04:50:50.079112900Z"
    }
   },
   "id": "c160ff886df0a198"
  },
  {
   "cell_type": "code",
   "execution_count": null,
   "outputs": [],
   "source": [
    "plt.plot(t, batch_r[0,:,0].T)"
   ],
   "metadata": {
    "collapsed": false,
    "ExecuteTime": {
     "start_time": "2024-07-11T04:50:50.079112900Z"
    }
   },
   "id": "9e18c7eba1026494"
  },
  {
   "cell_type": "code",
   "execution_count": null,
   "outputs": [],
   "source": [
    "s = tf('s')\n",
    "z = tf([1, 0], [1], dt=ts)\n",
    "\n",
    "# VRFT\n",
    "s = tf('s')\n",
    "tau = 1 # s\n",
    "M = 1/(1 + (tau/(2*np.pi))*s)\n",
    "M = c2d(M, ts, 'matched')\n",
    "\n",
    "y_d = lsim(M, batch_r[0,:,0], t)[0]"
   ],
   "metadata": {
    "collapsed": false,
    "ExecuteTime": {
     "start_time": "2024-07-11T04:50:50.079112900Z"
    }
   },
   "id": "dfdeea99a2ecdb11"
  },
  {
   "cell_type": "code",
   "execution_count": null,
   "outputs": [],
   "source": [
    "plt.subplot(311)\n",
    "plt.plot(t[:-1], batch_u[0, 1:, 0] * 175.1, label='$u$')\n",
    "plt.plot(t[:-1], batch_u_pred.detach().numpy()[0, :-1, 0] * 175.1, label='$\\hat{u}$')\n",
    "# plt.xlim([0, 0.43])\n",
    "# plt.ylim([-500, 2000])\n",
    "plt.legend()\n",
    "plt.subplot(312)\n",
    "plt.plot(t, batch_r[0,:,0], label='$r$')\n",
    "plt.plot(t, y_d, label='$y_d$')\n",
    "plt.plot(t, batch_y[0,:,0], label='$y$')\n",
    "# plt.plot(t, y_hat, label='$\\hat{y}$')\n",
    "# plt.xlim([0, 0.43])\n",
    "# plt.ylim([0, 10])\n",
    "plt.legend()\n",
    "plt.subplot(313)\n",
    "plt.plot(t, batch_r[0,:,0] - batch_y[0,:,0], label='$e$')\n",
    "plt.plot(t, batch_e[0,:,0] * 4.8320, label=r'$\\tilde{e}$')\n",
    "# plt.xlim([0, 0.43])\n",
    "# plt.ylim([0, 4])\n",
    "plt.legend()\n",
    "plt.show()"
   ],
   "metadata": {
    "collapsed": false,
    "ExecuteTime": {
     "start_time": "2024-07-11T04:50:50.079112900Z"
    }
   },
   "id": "9fe64eb2870189b0"
  },
  {
   "cell_type": "code",
   "execution_count": null,
   "outputs": [],
   "source": [
    "from control.matlab import *\n",
    "\n",
    "data = dict()\n",
    "\n",
    "data['num_1'] = np.float32(1)\n",
    "data['den_1'] = np.float32(1)\n",
    "data['den_2'] = np.float32(3)\n",
    "data['den_3'] = np.float32(2)\n",
    "\n",
    "\n",
    "num = [data['num_1']]\n",
    "den = [data['den_1'], data['den_2'], data['den_3']]\n",
    "\n",
    "s = tf('s')\n",
    "G = tf(num, den)\n",
    "y_hat, _, _ = lsim(G, batch_u_pred[0,:,0] * 175.1, t)\n",
    "e_hat = batch_r[0,:,0] - y_hat"
   ],
   "metadata": {
    "collapsed": false,
    "ExecuteTime": {
     "start_time": "2024-07-11T04:50:50.079112900Z"
    }
   },
   "id": "c5f7c124e86d3406"
  },
  {
   "cell_type": "code",
   "execution_count": null,
   "outputs": [],
   "source": [],
   "metadata": {
    "collapsed": false,
    "ExecuteTime": {
     "start_time": "2024-07-11T04:50:50.079112900Z"
    }
   },
   "id": "69d4c59ca82ac14a"
  },
  {
   "cell_type": "code",
   "execution_count": null,
   "outputs": [],
   "source": [],
   "metadata": {
    "collapsed": false,
    "ExecuteTime": {
     "start_time": "2024-07-11T04:50:50.079112900Z"
    }
   },
   "id": "22d7e32300911c40"
  },
  {
   "cell_type": "code",
   "execution_count": null,
   "outputs": [],
   "source": [
    "plt.subplot(311)\n",
    "plt.plot(t[:-1], batch_u[0, 1:, 0] * 175.1, label='$u$')\n",
    "plt.plot(t[:-1], batch_u_pred.detach().numpy()[0, :-1, 0] * 175.1, label='$\\hat{u}$')\n",
    "# plt.xlim([0, 0.43])\n",
    "# plt.ylim([-500, 2000])\n",
    "plt.legend()\n",
    "plt.subplot(312)\n",
    "plt.plot(t, batch_r[0,:,0], label='$r$')\n",
    "plt.plot(t, batch_y[0,:,0], label='$y$')\n",
    "plt.plot(t, y_hat, label='$\\hat{y}$')\n",
    "# plt.xlim([0, 0.43])\n",
    "# plt.ylim([0, 10])\n",
    "plt.legend()\n",
    "plt.subplot(313)\n",
    "plt.plot(t, batch_r[0,:,0] - batch_y[0,:,0], label='$e$')\n",
    "plt.plot(t, batch_e[0,:,0] * 4.8320, label=r'$\\tilde{e}$')\n",
    "# plt.xlim([0, 0.43])\n",
    "# plt.ylim([0, 4])\n",
    "plt.legend()\n",
    "plt.show()"
   ],
   "metadata": {
    "collapsed": false,
    "ExecuteTime": {
     "start_time": "2024-07-11T04:50:50.079112900Z"
    }
   },
   "id": "49a7f9786b84d0af"
  },
  {
   "cell_type": "code",
   "execution_count": null,
   "outputs": [],
   "source": [
    "plt.subplot(211)\n",
    "plt.plot(t[:-1], np.abs((batch_u[0, 1:, 0] - batch_u_pred.detach().numpy()[0, :-1, 0]) * 118.5), label='$|u - \\hat{u}|$')\n",
    "plt.legend()\n",
    "\n",
    "plt.subplot(212)\n",
    "plt.plot(t, np.abs((batch_e[0,:,0] - e_hat)), label='$|e - \\hat{e}|$')\n",
    "plt.legend()\n",
    "plt.show()"
   ],
   "metadata": {
    "collapsed": false,
    "ExecuteTime": {
     "start_time": "2024-07-11T04:50:50.079112900Z"
    }
   },
   "id": "1ae095edd73e9e62"
  },
  {
   "cell_type": "code",
   "execution_count": null,
   "outputs": [],
   "source": [],
   "metadata": {
    "collapsed": false,
    "ExecuteTime": {
     "start_time": "2024-07-11T04:50:50.079112900Z"
    }
   },
   "id": "6344024f696b3e48"
  }
 ],
 "metadata": {
  "kernelspec": {
   "display_name": "Python 3 (ipykernel)",
   "language": "python",
   "name": "python3"
  },
  "language_info": {
   "codemirror_mode": {
    "name": "ipython",
    "version": 3
   },
   "file_extension": ".py",
   "mimetype": "text/x-python",
   "name": "python",
   "nbconvert_exporter": "python",
   "pygments_lexer": "ipython3",
   "version": "3.11.0"
  }
 },
 "nbformat": 4,
 "nbformat_minor": 5
}
