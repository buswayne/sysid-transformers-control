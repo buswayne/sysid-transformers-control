{
 "cells": [
  {
   "cell_type": "code",
   "source": [
    "import time\n",
    "import numpy as np\n",
    "import pandas as pd\n",
    "import matplotlib.pyplot as plt\n",
    "import pickle as pkl\n",
    "from numba import float32, float64, jit, NumbaPerformanceWarning\n",
    "import warnings\n",
    "import os\n",
    "from control.matlab import *\n",
    "\n",
    "warnings.simplefilter('ignore', category=NumbaPerformanceWarning)\n",
    "\n",
    "from utils import simulate_onestep_campi_example_1\n",
    "\n",
    "plt.rcParams[\"font.family\"] = \"Times New Roman\"\n",
    "plt.rcParams[\"mathtext.fontset\"] = \"cm\"\n",
    "plt.rcParams['axes.labelsize']=14\n",
    "plt.rcParams['xtick.labelsize']=11\n",
    "plt.rcParams['ytick.labelsize']=11\n",
    "plt.rcParams['axes.grid']=True\n",
    "plt.rcParams['axes.xmargin']=0"
   ],
   "metadata": {
    "collapsed": false,
    "ExecuteTime": {
     "end_time": "2024-07-24T11:09:43.881236Z",
     "start_time": "2024-07-24T11:09:43.873830Z"
    }
   },
   "id": "f1843b5eb255e7ec",
   "outputs": [],
   "execution_count": 10
  },
  {
   "cell_type": "code",
   "id": "df653a7d",
   "metadata": {
    "ExecuteTime": {
     "end_time": "2024-07-24T11:09:43.935259Z",
     "start_time": "2024-07-24T11:09:43.930852Z"
    }
   },
   "source": [
    "from pathlib import Path\n",
    "import time\n",
    "import torch\n",
    "import numpy as np\n",
    "import pandas as pd\n",
    "from torch.utils.data import DataLoader\n",
    "import matplotlib.pyplot as plt\n",
    "from transformer_onestep import GPTConfig, GPT\n",
    "from dataset_simple_example_1 import SimpleExample1Dataset\n",
    "import tqdm\n",
    "import argparse\n",
    "import metrics"
   ],
   "outputs": [],
   "execution_count": 11
  },
  {
   "cell_type": "code",
   "id": "e4a8b43d",
   "metadata": {
    "ExecuteTime": {
     "end_time": "2024-07-24T11:09:43.981794Z",
     "start_time": "2024-07-24T11:09:43.978526Z"
    }
   },
   "source": [
    "fig_path = Path(\"fig\")\n",
    "fig_path.mkdir(exist_ok=True)"
   ],
   "outputs": [],
   "execution_count": 12
  },
  {
   "cell_type": "code",
   "id": "1d446d6d",
   "metadata": {
    "ExecuteTime": {
     "end_time": "2024-07-24T11:09:44.005050Z",
     "start_time": "2024-07-24T11:09:44.000139Z"
    }
   },
   "source": [
    "# Fix all random sources to make script fully reproducible\n",
    "torch.manual_seed(420)\n",
    "np.random.seed(430)\n",
    "system_seed = 430 # Controls the system generation\n",
    "data_seed = 0 # Control the input generation"
   ],
   "outputs": [],
   "execution_count": 13
  },
  {
   "cell_type": "code",
   "id": "6a235fd7",
   "metadata": {
    "ExecuteTime": {
     "end_time": "2024-07-24T11:09:44.028380Z",
     "start_time": "2024-07-24T11:09:44.023392Z"
    }
   },
   "source": [
    "# Overall settings\n",
    "out_dir = \"../out\"\n",
    "\n",
    "# System settings\n",
    "nu = 1\n",
    "ny = 1\n",
    "#seq_len = 600\n",
    "batch_size = 10 # 256\n",
    "\n",
    "# Compute settings\n",
    "cuda_device = \"cuda:0\"\n",
    "no_cuda = True\n",
    "threads = 10\n",
    "compile = False\n",
    "\n",
    "# Configure compute\n",
    "torch.set_num_threads(threads) \n",
    "use_cuda = not no_cuda and torch.cuda.is_available()\n",
    "device_name  = cuda_device if use_cuda else \"cpu\"\n",
    "device = torch.device(device_name)\n",
    "device_type = 'cuda' if 'cuda' in device_name else 'cpu' # for later use in torch.autocast\n",
    "torch.set_float32_matmul_precision(\"high\")\n",
    "#torch.backends.cuda.matmul.allow_tf32 = True # allow tf32 on matmul\n",
    "#torch.backends.cudnn.allow_tf32 = True # allow tf32 on cudnn"
   ],
   "outputs": [],
   "execution_count": 14
  },
  {
   "cell_type": "code",
   "id": "69ad2d3e",
   "metadata": {
    "ExecuteTime": {
     "end_time": "2024-07-24T11:09:44.069619Z",
     "start_time": "2024-07-24T11:09:44.044311Z"
    }
   },
   "source": [
    "# Create out dir\n",
    "out_dir = Path(out_dir)\n",
    "exp_data = torch.load(out_dir/\"ckpt_controller_simple_example_1.55.pt\", map_location=device)"
   ],
   "outputs": [],
   "execution_count": 15
  },
  {
   "cell_type": "code",
   "id": "0c029f10",
   "metadata": {
    "ExecuteTime": {
     "end_time": "2024-07-24T11:09:44.075557Z",
     "start_time": "2024-07-24T11:09:44.072119Z"
    }
   },
   "source": [
    "seq_len = exp_data[\"cfg\"].seq_len\n",
    "nx = exp_data[\"cfg\"].nx"
   ],
   "outputs": [],
   "execution_count": 16
  },
  {
   "cell_type": "code",
   "id": "34332c1a",
   "metadata": {
    "ExecuteTime": {
     "end_time": "2024-07-24T11:09:44.104226Z",
     "start_time": "2024-07-24T11:09:44.077259Z"
    }
   },
   "source": [
    "model_args = exp_data[\"model_args\"]\n",
    "gptconf = GPTConfig(**model_args)\n",
    "model = GPT(gptconf).to(device)\n",
    "\n",
    "\n",
    "state_dict = exp_data[\"model\"]\n",
    "unwanted_prefix = '_orig_mod.'\n",
    "for k,v in list(state_dict.items()):\n",
    "    if k.startswith(unwanted_prefix):\n",
    "        state_dict[k[len(unwanted_prefix):]] = state_dict.pop(k)\n",
    "model.load_state_dict(state_dict)\n",
    "model.eval()"
   ],
   "outputs": [
    {
     "name": "stdout",
     "output_type": "stream",
     "text": [
      "number of parameters: 0.41M\n"
     ]
    },
    {
     "data": {
      "text/plain": [
       "GPT(\n",
       "  (transformer): ModuleDict(\n",
       "    (wte): Linear(in_features=2, out_features=64, bias=True)\n",
       "    (wpe): Embedding(300, 64)\n",
       "    (drop): Dropout(p=0, inplace=False)\n",
       "    (h): ModuleList(\n",
       "      (0-7): 8 x Block(\n",
       "        (ln_1): LayerNorm()\n",
       "        (attn): CausalSelfAttention(\n",
       "          (c_attn): Linear(in_features=64, out_features=192, bias=False)\n",
       "          (c_proj): Linear(in_features=64, out_features=64, bias=False)\n",
       "          (attn_dropout): Dropout(p=0, inplace=False)\n",
       "          (resid_dropout): Dropout(p=0, inplace=False)\n",
       "        )\n",
       "        (ln_2): LayerNorm()\n",
       "        (mlp): MLP(\n",
       "          (c_fc): Linear(in_features=64, out_features=256, bias=False)\n",
       "          (gelu): GELU(approximate='none')\n",
       "          (c_proj): Linear(in_features=256, out_features=64, bias=False)\n",
       "          (dropout): Dropout(p=0, inplace=False)\n",
       "        )\n",
       "      )\n",
       "    )\n",
       "    (ln_f): LayerNorm()\n",
       "  )\n",
       "  (lm_head): Linear(in_features=64, out_features=1, bias=True)\n",
       ")"
      ]
     },
     "execution_count": 17,
     "metadata": {},
     "output_type": "execute_result"
    }
   ],
   "execution_count": 17
  },
  {
   "metadata": {
    "ExecuteTime": {
     "end_time": "2024-07-24T11:09:44.113007Z",
     "start_time": "2024-07-24T11:09:44.106988Z"
    }
   },
   "cell_type": "code",
   "source": "model.integral_coefficient",
   "id": "2076dcf6edebddf8",
   "outputs": [
    {
     "data": {
      "text/plain": [
       "Parameter containing:\n",
       "tensor([0.2243], requires_grad=True)"
      ]
     },
     "execution_count": 18,
     "metadata": {},
     "output_type": "execute_result"
    }
   ],
   "execution_count": 18
  },
  {
   "cell_type": "code",
   "source": [
    "test_ds = SimpleExample1Dataset(seq_len=seq_len, normalize=True, signal='white noise', use_prefilter=True, noisy=False)\n",
    "test_dl = DataLoader(test_ds, batch_size=batch_size, num_workers=16, pin_memory=True)\n",
    "batch_u, batch_e, _ = next(iter(test_dl))"
   ],
   "metadata": {
    "collapsed": false,
    "ExecuteTime": {
     "end_time": "2024-07-24T11:10:15.040846Z",
     "start_time": "2024-07-24T11:10:04.672558Z"
    }
   },
   "id": "795a4b25f73b166b",
   "outputs": [],
   "execution_count": 20
  },
  {
   "cell_type": "code",
   "source": [
    "batch_u_pred, loss = model(batch_e, batch_u)"
   ],
   "metadata": {
    "collapsed": false,
    "ExecuteTime": {
     "end_time": "2024-07-24T11:09:54.463051Z",
     "start_time": "2024-07-24T11:09:54.462101Z"
    }
   },
   "id": "58f51687902735f0",
   "outputs": [],
   "execution_count": null
  },
  {
   "cell_type": "code",
   "source": "loss",
   "metadata": {
    "collapsed": false
   },
   "id": "121a33c45c51a559",
   "outputs": [],
   "execution_count": null
  },
  {
   "cell_type": "code",
   "source": [
    "exp_data['LOSS_VAL']"
   ],
   "metadata": {
    "collapsed": false
   },
   "id": "45a542de51442e81",
   "outputs": [],
   "execution_count": null
  },
  {
   "cell_type": "code",
   "source": [
    "plt.figure()\n",
    "# plt.plot(np.arange(exp_data['iter_num']), exp_data['LOSS'])\n",
    "plt.plot(exp_data['LOSS_VAL'])\n",
    "plt.show()"
   ],
   "metadata": {
    "collapsed": false
   },
   "id": "3a836b64059756e6",
   "outputs": [],
   "execution_count": null
  },
  {
   "cell_type": "code",
   "source": [
    "E = (batch_u[:,1:,:] - batch_u_pred[:,:-1,:]).detach().numpy()"
   ],
   "metadata": {
    "collapsed": false
   },
   "id": "4e70a603e6740a8a",
   "outputs": [],
   "execution_count": null
  },
  {
   "cell_type": "code",
   "source": [
    "fig = plt.figure(figsize=(9,4))\n",
    "\n",
    "plt.plot(batch_u[0,1:,0].T, color='tab:blue', label='$u$', alpha=1)\n",
    "plt.plot(batch_u[1:,1:,0].T, color='tab:blue', label=None, alpha=1)\n",
    "plt.plot(batch_u_pred[0,:-1,0].T.detach().numpy(), color='tab:orange', label=r'$\\hat{u}$', linestyle='--', alpha=1)\n",
    "plt.plot(batch_u_pred[1:,:-1,0].T.detach().numpy(), color='tab:orange', label=None, linestyle='--', alpha=1)\n",
    "plt.plot(E[0,:,0].T, color='r', label=r'$u - \\hat{u}$')\n",
    "plt.plot(E[1:,:,0].T, color='r', label=None)\n",
    "\n",
    "plt.xlabel('$t$ [s]')\n",
    "plt.legend()\n",
    "\n",
    "plt.show()"
   ],
   "metadata": {
    "collapsed": false
   },
   "id": "4543c94ff2594239",
   "outputs": [],
   "execution_count": null
  },
  {
   "cell_type": "code",
   "source": [
    "import pickle as pkl\n",
    "\n",
    "with open('../../data/control/test_set_simple_example_1_0%_perturbation.pkl', 'rb') as f:\n",
    "    test_set = pkl.load(f)\n",
    "\n",
    "data_test = test_set['data_test']"
   ],
   "metadata": {
    "collapsed": false
   },
   "id": "ec08f59876e1f7fe",
   "outputs": [],
   "execution_count": null
  },
  {
   "cell_type": "code",
   "source": [
    "import yaml\n",
    "\n",
    "with open('normalization_params.yaml', 'r') as file:\n",
    "    config = yaml.safe_load(file)\n",
    "    \n",
    "prefilter_key = 'prefilter'\n",
    "signal_key = 'white noise'\n",
    "signal_config = config.get(signal_key, {}).get(prefilter_key, {})\n",
    "e_std = signal_config.get('e_std')\n",
    "u_std = signal_config.get('u_std')\n",
    "normalize = True"
   ],
   "metadata": {
    "collapsed": false
   },
   "id": "7244f63fb8f47b58",
   "outputs": [],
   "execution_count": null
  },
  {
   "cell_type": "code",
   "source": [
    "from utils import *\n",
    "\n",
    "dtype=\"float32\"\n",
    "n_context = 300\n",
    "\n",
    "ts = 1e-2; fs = 1/ts\n",
    "s = tf('s')\n",
    "z = tf([1, 0], [1], dt=ts)\n",
    "\n",
    "# VRFT\n",
    "s = tf('s')\n",
    "tau = 1 # s\n",
    "M = 1/(1 + (tau/(2*np.pi))*s)\n",
    "M = c2d(M, ts, 'tustin')\n",
    "\n",
    "# Specifics for OL experiment\n",
    "T = 3\n",
    "t_exp = np.arange(0, T, ts)\n",
    "t = np.arange(0, n_context*ts, ts)\n",
    "\n",
    "# To store results\n",
    "U = np.zeros((len(data_test), n_context-1))\n",
    "Y = np.zeros((len(data_test), n_context-1))\n",
    "Y_d = np.zeros((len(data_test), n_context-1))\n",
    "E = np.zeros((len(data_test), n_context-1))\n",
    "R = np.zeros((len(data_test), n_context-1))\n",
    "\n",
    "for i, data in enumerate(data_test):\n",
    "    \n",
    "    num = [data['num_1']]\n",
    "    den = [data['den_1'], data['den_2'], data['den_3']]\n",
    "\n",
    "    G = tf(num,den)\n",
    "    G = c2d(G, ts, 'matched')\n",
    "    \n",
    "    if signal_key == \"white noise\":\n",
    "        u = np.random.normal(0, 1000, t_exp.shape)\n",
    "    elif signal_key == \"prbs\":\n",
    "        u = prbs(len(t_exp))\n",
    "    elif signal_key == \"random\":\n",
    "        u = random_signal(len(t_exp))\n",
    "\n",
    "    y = lsim(G, u, t_exp)[0]\n",
    "    \n",
    "    L = M\n",
    "\n",
    "    if prefilter_key == 'prefilter':\n",
    "        u_L = lsim(L, u, t)[0]\n",
    "        y_L = lsim(L, y, t)[0]\n",
    "    else:\n",
    "        u_L = u\n",
    "        y_L = y\n",
    "\n",
    "    r_v = lsim(M**(-1), y_L, t_exp)[0]\n",
    "    e_v = (r_v - y_L)\n",
    "\n",
    "    u_L = u_L\n",
    "\n",
    "    # normalize\n",
    "    if normalize:\n",
    "        e_v = e_v / e_std\n",
    "        u_L = u_L / u_std\n",
    "        \n",
    "    e_v = e_v[1:]\n",
    "    u_L = u_L[:-1]\n",
    "    y_L = y_L[1:]\n",
    "    r_v = r_v[1:]\n",
    "        \n",
    "    # lunghezza contesto 5\n",
    "    # start_idx = np.random.randint(500, len(e_v)-n_context)\n",
    "    start_idx = 0\n",
    "    e_v = e_v[start_idx:start_idx + n_context] # this is e(t), ... e(t+N)\n",
    "    u_L = u_L[start_idx:start_idx + n_context] # this is u(t-1), ... u(t+N-1)\n",
    "    y_L = y_L[start_idx:start_idx + n_context] # this is u(t-1), ... u(t+N-1)\n",
    "    r_v = r_v[start_idx:start_idx + n_context]\n",
    "    \n",
    "    E[i,:] = e_v\n",
    "    U[i,:] = u_L\n",
    "    Y[i,:] = y_L\n",
    "    R[i,:] = r_v\n",
    "    Y_d[i,:] = lsim(M, r_v, t[:-1])[0]\n",
    "    \n",
    "E = E.astype(dtype)\n",
    "U = U.astype(dtype)"
   ],
   "metadata": {
    "collapsed": false
   },
   "id": "7544a7a2eeaa31ba",
   "outputs": [],
   "execution_count": null
  },
  {
   "cell_type": "code",
   "source": [
    "batch_e = torch.Tensor(E.reshape(len(data_test),-1,1))\n",
    "batch_u = torch.Tensor(U.reshape(len(data_test),-1,1))\n",
    "\n",
    "with torch.no_grad():\n",
    "    batch_u_pred, loss = model(batch_e, batch_u)"
   ],
   "metadata": {
    "collapsed": false
   },
   "id": "7f8b4ca1863a803a",
   "outputs": [],
   "execution_count": null
  },
  {
   "cell_type": "code",
   "source": [
    "Y_hat = np.zeros((len(data_test), n_context-1))\n",
    "\n",
    "for i, data in enumerate(data_test):\n",
    "    num = [data['num_1']]\n",
    "    den = [data['den_1'], data['den_2'], data['den_3']]\n",
    "\n",
    "    G = tf(num,den)\n",
    "    G = c2d(G, ts, 'tustin')\n",
    "    \n",
    "    Y_hat[i,:] = lsim(G, batch_u_pred[i,:,0] * u_std, np.arange(0, (n_context-1)*ts, ts))[0]"
   ],
   "metadata": {
    "collapsed": false
   },
   "id": "e9cdffee4dee3242",
   "outputs": [],
   "execution_count": null
  },
  {
   "cell_type": "code",
   "source": [
    "test_number = 0\n",
    "\n",
    "plt.figure(figsize=(7,4))\n",
    "plt.subplot(311)\n",
    "plt.plot(t[:-2], batch_u[test_number, 1:, 0] * u_std, label='$u$')\n",
    "plt.plot(t[:-2], batch_u_pred.detach().numpy()[test_number, :-1, 0] * u_std, label='$\\hat{u}$')\n",
    "plt.tick_params('x', labelbottom=False)\n",
    "# plt.xlim([0, 1])\n",
    "# plt.ylim([-500, 2000])\n",
    "plt.legend()\n",
    "\n",
    "plt.subplot(312)\n",
    "plt.plot(t, R[test_number,:], label='$r$')\n",
    "# plt.plot(t, y_d, label='$y_d$')\n",
    "plt.plot(t, Y[test_number,:], label='$y$')\n",
    "plt.plot(t, Y_hat[test_number,:], label='$\\hat{y}$')\n",
    "plt.plot(t, Y_d[test_number,:], 'r--', label='$y^d$')\n",
    "plt.tick_params('x', labelbottom=False)\n",
    "# plt.xlim([0, 0.43])\n",
    "# plt.ylim([0, 10])\n",
    "plt.legend(ncols=4)\n",
    "\n",
    "plt.subplot(313)\n",
    "plt.plot(t[:-2], np.abs((batch_u[test_number,1:,0] - batch_u_pred[test_number,:-1,0])*u_std), label='$|u - \\hat{u}|$')\n",
    "plt.xlabel(\"$t$ [s]\")\n",
    "# plt.xlim([0, 0.43])\n",
    "# plt.ylim([0, 4])\n",
    "plt.legend()\n",
    "\n",
    "plt.show()"
   ],
   "metadata": {
    "collapsed": false
   },
   "id": "6943b1ec5f01545",
   "outputs": [],
   "execution_count": null
  },
  {
   "cell_type": "code",
   "source": [
    "print('e:', batch_e[0, :5, 0])\n",
    "print('u:', batch_u[0, :6, 0])\n",
    "print('u_hat:', batch_u_pred[0, :5, 0])\n",
    "print('y:', Y[0, :5])\n",
    "print('r:', R[0, :5])"
   ],
   "metadata": {
    "collapsed": false
   },
   "id": "f7318954509820ce",
   "outputs": [],
   "execution_count": null
  },
  {
   "cell_type": "code",
   "source": [
    "0.3264*175.1"
   ],
   "metadata": {
    "collapsed": false
   },
   "id": "bfbcebdd4e530ce7",
   "outputs": [],
   "execution_count": null
  },
  {
   "cell_type": "code",
   "source": [
    "# test_ds = SimpleExample1Dataset(seq_len=seq_len, normalize=True, return_y=True)\n",
    "# test_dl = DataLoader(test_ds, batch_size=batch_size)"
   ],
   "metadata": {
    "collapsed": false
   },
   "id": "b84f563fe08bd4bc",
   "outputs": [],
   "execution_count": null
  },
  {
   "cell_type": "code",
   "source": [
    "# Prediction\n",
    "# batch_u, batch_e, batch_y, batch_r = next(iter(test_dl))\n",
    "with torch.no_grad():\n",
    "    batch_u_pred, loss = model(batch_e, batch_u)"
   ],
   "metadata": {
    "collapsed": false
   },
   "id": "74f519b00769b7f7",
   "outputs": [],
   "execution_count": null
  },
  {
   "cell_type": "code",
   "source": [
    "plt.figure()\n",
    "#plt.plot(batch_input[0,:,0])\n",
    "ts = 1e-2\n",
    "T = batch_e.shape[1]*ts  # ts*self.seq_len# * 2\n",
    "t = np.arange(0, T, ts)\n",
    "\n",
    "for i in range(batch_size):\n",
    "    plt.subplot(211)\n",
    "    plt.plot(t, batch_e[i, :, 0], c='tab:blue', alpha=0.2)\n",
    "    plt.legend(['$e_v$'])\n",
    "    plt.subplot(212)\n",
    "    plt.plot(t, batch_u[i, :, 0], c='tab:blue', alpha=1)\n",
    "    plt.plot(t, batch_u_pred.detach().numpy()[i, :, 0], c='tab:orange', alpha=1)\n",
    "    plt.legend(['$u$'])\n",
    "    plt.xlabel(\"$t$ [s]\")\n",
    "    # plt.xlim([2.7, 2.9])\n",
    "plt.show()"
   ],
   "metadata": {
    "collapsed": false
   },
   "id": "c160ff886df0a198",
   "outputs": [],
   "execution_count": null
  },
  {
   "cell_type": "code",
   "source": [
    "plt.plot(t, batch_r[0,:,0].T)"
   ],
   "metadata": {
    "collapsed": false
   },
   "id": "9e18c7eba1026494",
   "outputs": [],
   "execution_count": null
  },
  {
   "cell_type": "code",
   "source": [
    "s = tf('s')\n",
    "z = tf([1, 0], [1], dt=ts)\n",
    "\n",
    "# VRFT\n",
    "s = tf('s')\n",
    "tau = 1 # s\n",
    "M = 1/(1 + (tau/(2*np.pi))*s)\n",
    "M = c2d(M, ts, 'matched')\n",
    "\n",
    "y_d = lsim(M, batch_r[0,:,0], t)[0]"
   ],
   "metadata": {
    "collapsed": false
   },
   "id": "dfdeea99a2ecdb11",
   "outputs": [],
   "execution_count": null
  },
  {
   "cell_type": "code",
   "source": [
    "plt.subplot(311)\n",
    "plt.plot(t[:-1], batch_u[0, 1:, 0] * 175.1, label='$u$')\n",
    "plt.plot(t[:-1], batch_u_pred.detach().numpy()[0, :-1, 0] * 175.1, label='$\\hat{u}$')\n",
    "# plt.xlim([0, 0.43])\n",
    "# plt.ylim([-500, 2000])\n",
    "plt.legend()\n",
    "plt.subplot(312)\n",
    "plt.plot(t, batch_r[0,:,0], label='$r$')\n",
    "plt.plot(t, y_d, label='$y_d$')\n",
    "plt.plot(t, batch_y[0,:,0], label='$y$')\n",
    "# plt.plot(t, y_hat, label='$\\hat{y}$')\n",
    "# plt.xlim([0, 0.43])\n",
    "# plt.ylim([0, 10])\n",
    "plt.legend()\n",
    "plt.subplot(313)\n",
    "plt.plot(t, batch_r[0,:,0] - batch_y[0,:,0], label='$e$')\n",
    "plt.plot(t, batch_e[0,:,0] * 4.8320, label=r'$\\tilde{e}$')\n",
    "# plt.xlim([0, 0.43])\n",
    "# plt.ylim([0, 4])\n",
    "plt.legend()\n",
    "plt.show()"
   ],
   "metadata": {
    "collapsed": false
   },
   "id": "9fe64eb2870189b0",
   "outputs": [],
   "execution_count": null
  },
  {
   "cell_type": "code",
   "source": [
    "from control.matlab import *\n",
    "\n",
    "data = dict()\n",
    "\n",
    "data['num_1'] = np.float32(1)\n",
    "data['den_1'] = np.float32(1)\n",
    "data['den_2'] = np.float32(3)\n",
    "data['den_3'] = np.float32(2)\n",
    "\n",
    "\n",
    "num = [data['num_1']]\n",
    "den = [data['den_1'], data['den_2'], data['den_3']]\n",
    "\n",
    "s = tf('s')\n",
    "G = tf(num, den)\n",
    "y_hat, _, _ = lsim(G, batch_u_pred[0,:,0] * 175.1, t)\n",
    "e_hat = batch_r[0,:,0] - y_hat"
   ],
   "metadata": {
    "collapsed": false
   },
   "id": "c5f7c124e86d3406",
   "outputs": [],
   "execution_count": null
  },
  {
   "cell_type": "code",
   "source": [],
   "metadata": {
    "collapsed": false
   },
   "id": "69d4c59ca82ac14a",
   "outputs": [],
   "execution_count": null
  },
  {
   "cell_type": "code",
   "source": [],
   "metadata": {
    "collapsed": false
   },
   "id": "22d7e32300911c40",
   "outputs": [],
   "execution_count": null
  },
  {
   "cell_type": "code",
   "source": [
    "plt.subplot(311)\n",
    "plt.plot(t[:-1], batch_u[0, 1:, 0] * 175.1, label='$u$')\n",
    "plt.plot(t[:-1], batch_u_pred.detach().numpy()[0, :-1, 0] * 175.1, label='$\\hat{u}$')\n",
    "# plt.xlim([0, 0.43])\n",
    "# plt.ylim([-500, 2000])\n",
    "plt.legend()\n",
    "plt.subplot(312)\n",
    "plt.plot(t, batch_r[0,:,0], label='$r$')\n",
    "plt.plot(t, batch_y[0,:,0], label='$y$')\n",
    "plt.plot(t, y_hat, label='$\\hat{y}$')\n",
    "# plt.xlim([0, 0.43])\n",
    "# plt.ylim([0, 10])\n",
    "plt.legend()\n",
    "plt.subplot(313)\n",
    "plt.plot(t, batch_r[0,:,0] - batch_y[0,:,0], label='$e$')\n",
    "plt.plot(t, batch_e[0,:,0] * 4.8320, label=r'$\\tilde{e}$')\n",
    "# plt.xlim([0, 0.43])\n",
    "# plt.ylim([0, 4])\n",
    "plt.legend()\n",
    "plt.show()"
   ],
   "metadata": {
    "collapsed": false
   },
   "id": "49a7f9786b84d0af",
   "outputs": [],
   "execution_count": null
  },
  {
   "cell_type": "code",
   "source": [
    "plt.subplot(211)\n",
    "plt.plot(t[:-1], np.abs((batch_u[0, 1:, 0] - batch_u_pred.detach().numpy()[0, :-1, 0]) * 118.5), label='$|u - \\hat{u}|$')\n",
    "plt.legend()\n",
    "\n",
    "plt.subplot(212)\n",
    "plt.plot(t, np.abs((batch_e[0,:,0] - e_hat)), label='$|e - \\hat{e}|$')\n",
    "plt.legend()\n",
    "plt.show()"
   ],
   "metadata": {
    "collapsed": false
   },
   "id": "1ae095edd73e9e62",
   "outputs": [],
   "execution_count": null
  },
  {
   "cell_type": "code",
   "source": [],
   "metadata": {
    "collapsed": false
   },
   "id": "6344024f696b3e48",
   "outputs": [],
   "execution_count": null
  }
 ],
 "metadata": {
  "kernelspec": {
   "display_name": "Python 3 (ipykernel)",
   "language": "python",
   "name": "python3"
  },
  "language_info": {
   "codemirror_mode": {
    "name": "ipython",
    "version": 3
   },
   "file_extension": ".py",
   "mimetype": "text/x-python",
   "name": "python",
   "nbconvert_exporter": "python",
   "pygments_lexer": "ipython3",
   "version": "3.11.0"
  }
 },
 "nbformat": 4,
 "nbformat_minor": 5
}
