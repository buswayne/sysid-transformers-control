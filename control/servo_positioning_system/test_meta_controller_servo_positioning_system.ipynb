{
 "cells": [
  {
   "cell_type": "code",
   "execution_count": null,
   "id": "df653a7d",
   "metadata": {
    "is_executing": true
   },
   "outputs": [],
   "source": [
    "from pathlib import Path\n",
    "import time\n",
    "import torch\n",
    "import numpy as np\n",
    "import pandas as pd\n",
    "from dataset_servo_positioning_system import ServoPositioningSystemDataset\n",
    "from torch.utils.data import DataLoader\n",
    "import matplotlib.pyplot as plt\n",
    "#import plotly.graph_objects as go\n",
    "from transformer_onestep import GPTConfig, GPT\n",
    "import tqdm\n",
    "import argparse\n",
    "import metrics"
   ]
  },
  {
   "cell_type": "code",
   "execution_count": 230,
   "id": "e4a8b43d",
   "metadata": {
    "ExecuteTime": {
     "end_time": "2024-01-10T12:57:46.542415900Z",
     "start_time": "2024-01-10T12:57:46.415983800Z"
    }
   },
   "outputs": [],
   "source": [
    "fig_path = Path(\"fig\")\n",
    "fig_path.mkdir(exist_ok=True)"
   ]
  },
  {
   "cell_type": "code",
   "execution_count": 231,
   "id": "1d446d6d",
   "metadata": {
    "ExecuteTime": {
     "end_time": "2024-01-10T12:57:46.581697800Z",
     "start_time": "2024-01-10T12:57:46.420538900Z"
    }
   },
   "outputs": [],
   "source": [
    "# Fix all random sources to make script fully reproducible\n",
    "torch.manual_seed(420)\n",
    "np.random.seed(430)\n",
    "system_seed = 430 # Controls the system generation\n",
    "data_seed = 0 # Control the input generation"
   ]
  },
  {
   "cell_type": "code",
   "execution_count": 232,
   "id": "6a235fd7",
   "metadata": {
    "ExecuteTime": {
     "end_time": "2024-01-10T12:57:46.582668400Z",
     "start_time": "2024-01-10T12:57:46.437256600Z"
    }
   },
   "outputs": [],
   "source": [
    "# Overall settings\n",
    "out_dir = \"out\"\n",
    "\n",
    "# System settings\n",
    "nu = 1\n",
    "ny = 1\n",
    "#seq_len = 600\n",
    "batch_size = 50 # 256\n",
    "\n",
    "\n",
    "# Compute settings\n",
    "cuda_device = \"cuda:1\"\n",
    "no_cuda = True\n",
    "threads = 5\n",
    "compile = False\n",
    "\n",
    "# Configure compute\n",
    "torch.set_num_threads(threads) \n",
    "use_cuda = not no_cuda and torch.cuda.is_available()\n",
    "device_name  = cuda_device if use_cuda else \"cpu\"\n",
    "device = torch.device(device_name)\n",
    "device_type = 'cuda' if 'cuda' in device_name else 'cpu' # for later use in torch.autocast\n",
    "torch.set_float32_matmul_precision(\"high\")\n",
    "#torch.backends.cuda.matmul.allow_tf32 = True # allow tf32 on matmul\n",
    "#torch.backends.cudnn.allow_tf32 = True # allow tf32 on cudnn"
   ]
  },
  {
   "cell_type": "code",
   "execution_count": 233,
   "id": "69ad2d3e",
   "metadata": {
    "ExecuteTime": {
     "end_time": "2024-01-10T12:57:46.582668400Z",
     "start_time": "2024-01-10T12:57:46.439430100Z"
    }
   },
   "outputs": [],
   "source": [
    "# Create out dir\n",
    "out_dir = Path(out_dir)\n",
    "#exp_data = torch.load(out_dir/\"ckpt_onestep_wh_medium.pt\", map_location=device)\n",
    "#exp_data = torch.load(out_dir/\"ckpt_onestep_wh_large.pt\", map_location=device)\n",
    "exp_data = torch.load(out_dir/\"ckpt_controller_integral_error_no_normed_no_skip_prbs.pt\", map_location=device)"
   ]
  },
  {
   "cell_type": "code",
   "execution_count": 234,
   "outputs": [
    {
     "data": {
      "text/plain": "dict_keys(['model', 'optimizer', 'model_args', 'iter_num', 'train_time', 'LOSS', 'LOSS_VAL', 'best_val_loss', 'cfg'])"
     },
     "execution_count": 234,
     "metadata": {},
     "output_type": "execute_result"
    }
   ],
   "source": [
    "exp_data.keys()\n",
    "# np.sqrt(exp_data['best_val_loss'])\n",
    "# print(len(exp_data['LOSS']))\n",
    "# print(len(exp_data['LOSS_VAL']))"
   ],
   "metadata": {
    "collapsed": false,
    "ExecuteTime": {
     "end_time": "2024-01-10T12:57:46.582668400Z",
     "start_time": "2024-01-10T12:57:46.481763Z"
    }
   },
   "id": "6e4f2aa18125ad88"
  },
  {
   "cell_type": "code",
   "execution_count": 235,
   "outputs": [
    {
     "data": {
      "text/plain": "{'n_layer': 12,\n 'n_head': 4,\n 'n_embd': 128,\n 'n_y': 1,\n 'n_u': 1,\n 'block_size': 502,\n 'bias': False,\n 'dropout': 0.0}"
     },
     "execution_count": 235,
     "metadata": {},
     "output_type": "execute_result"
    }
   ],
   "source": [
    "exp_data['model_args']"
   ],
   "metadata": {
    "collapsed": false,
    "ExecuteTime": {
     "end_time": "2024-01-10T12:57:46.582668400Z",
     "start_time": "2024-01-10T12:57:46.487095800Z"
    }
   },
   "id": "cc3ce0eb7fe19fc5"
  },
  {
   "cell_type": "code",
   "execution_count": 236,
   "id": "0c029f10",
   "metadata": {
    "ExecuteTime": {
     "end_time": "2024-01-10T12:57:46.582668400Z",
     "start_time": "2024-01-10T12:57:46.492813200Z"
    }
   },
   "outputs": [],
   "source": [
    "seq_len = exp_data[\"cfg\"].seq_len\n",
    "nx = exp_data[\"cfg\"].nx"
   ]
  },
  {
   "cell_type": "code",
   "execution_count": 237,
   "id": "34332c1a",
   "metadata": {
    "ExecuteTime": {
     "end_time": "2024-01-10T12:57:46.585702900Z",
     "start_time": "2024-01-10T12:57:46.496322400Z"
    }
   },
   "outputs": [
    {
     "name": "stdout",
     "output_type": "stream",
     "text": [
      "number of parameters: 2.43M\n"
     ]
    }
   ],
   "source": [
    "model_args = exp_data[\"model_args\"]\n",
    "gptconf = GPTConfig(**model_args)\n",
    "model = GPT(gptconf).to(device)\n",
    "\n",
    "\n",
    "state_dict = exp_data[\"model\"]\n",
    "unwanted_prefix = '_orig_mod.'\n",
    "for k,v in list(state_dict.items()):\n",
    "    if k.startswith(unwanted_prefix):\n",
    "        state_dict[k[len(unwanted_prefix):]] = state_dict.pop(k)\n",
    "model.load_state_dict(state_dict);"
   ]
  },
  {
   "cell_type": "code",
   "execution_count": 238,
   "id": "25e08b76",
   "metadata": {
    "ExecuteTime": {
     "end_time": "2024-01-10T12:57:46.601759800Z",
     "start_time": "2024-01-10T12:57:46.545939100Z"
    }
   },
   "outputs": [],
   "source": [
    "# # Create data loader\n",
    "# load_test_ds = False\n",
    "# \n",
    "# # if load_test_ds:\n",
    "# #     test_dl = torch.load('dataloader_cstr_np_normed_no_skip.pt')\n",
    "# # else:\n",
    "# test_ds = ServoPositioningSystemDataset(nx=nx, nu=nu, ny=ny, seq_len=seq_len, system_seed=system_seed, data_seed=data_seed, fixed_system=False)\n",
    "# test_dl = DataLoader(test_ds, batch_size=batch_size, num_workers=threads)\n",
    "# batch_y, batch_u = next(iter(test_dl))"
   ]
  },
  {
   "cell_type": "code",
   "execution_count": 239,
   "outputs": [],
   "source": [
    "# plt.plot(batch_u[:,:,0].T, c='k', alpha=0.2)\n",
    "# plt.ylabel('$e_{V}$')\n",
    "# plt.show()"
   ],
   "metadata": {
    "collapsed": false,
    "ExecuteTime": {
     "end_time": "2024-01-10T12:57:46.602760500Z",
     "start_time": "2024-01-10T12:57:46.550978600Z"
    }
   },
   "id": "9d9b96c8c8daf37a"
  },
  {
   "cell_type": "code",
   "execution_count": 240,
   "outputs": [],
   "source": [
    "# with torch.no_grad():\n",
    "#     batch_y_pred, loss = model(batch_u, batch_y)\n",
    "#     batch_y_pred = batch_y_pred.detach().numpy()\n",
    "#     batch_y = batch_y.detach().numpy()\n",
    "#     batch_u = batch_u.detach().numpy()"
   ],
   "metadata": {
    "collapsed": false,
    "ExecuteTime": {
     "end_time": "2024-01-10T12:57:46.602760500Z",
     "start_time": "2024-01-10T12:57:46.554683200Z"
    }
   },
   "id": "b6c72302ece53729"
  },
  {
   "cell_type": "code",
   "execution_count": 241,
   "outputs": [],
   "source": [
    "# plt.subplot(211)\n",
    "# plt.plot(batch_y[5,:])\n",
    "# plt.plot(batch_y_pred[5,:])\n",
    "# plt.subplot(212)\n",
    "# plt.plot(batch_y[5,:] - batch_y_pred[5,:])"
   ],
   "metadata": {
    "collapsed": false,
    "ExecuteTime": {
     "end_time": "2024-01-10T12:57:46.602760500Z",
     "start_time": "2024-01-10T12:57:46.559707Z"
    }
   },
   "id": "28bae8339ca83245"
  },
  {
   "cell_type": "code",
   "execution_count": 242,
   "outputs": [],
   "source": [
    "import pickle as pkl\n",
    "with open('../data/control/test_set_prbs.pkl', 'rb') as f:\n",
    "    test_set = pkl.load(f)\n",
    "u_test = test_set['u_test']\n",
    "x_test = test_set['x_test']\n",
    "# e_v_test = test_set['e_v_test']\n",
    "y_test = test_set['y_test']\n",
    "data_test = test_set['data_test']\n",
    "\n",
    "batch_u = torch.Tensor(u_test)\n",
    "batch_y = torch.Tensor(y_test[:,:,0])"
   ],
   "metadata": {
    "collapsed": false,
    "ExecuteTime": {
     "end_time": "2024-01-10T12:57:46.602760500Z",
     "start_time": "2024-01-10T12:57:46.567476500Z"
    }
   },
   "id": "b84f563fe08bd4bc"
  },
  {
   "cell_type": "code",
   "execution_count": 243,
   "outputs": [
    {
     "data": {
      "text/plain": "[<matplotlib.lines.Line2D at 0x1e69a63f1d0>]"
     },
     "execution_count": 243,
     "metadata": {},
     "output_type": "execute_result"
    },
    {
     "data": {
      "text/plain": "<Figure size 640x480 with 1 Axes>",
      "image/png": "[encoded data removed]"
     },
     "metadata": {},
     "output_type": "display_data"
    }
   ],
   "source": [
    "# reference\n",
    "Ts = 0.01\n",
    "t_CL = np.arange(0, 5, Ts)\n",
    "r = np.zeros(t_CL.shape)\n",
    "# r[t_CL < 1] = 2.7\n",
    "# r[(t_CL >= 1) & (t_CL < 2)] = -2.7\n",
    "# r[(t_CL >= 2) & (t_CL < 3.5)] = 5\n",
    "# r[(t_CL >= 3.5) & (t_CL < 5)] = 0\n",
    "r[t_CL < 5] = 2.7\n",
    "r[(t_CL >= 5) & (t_CL < 10)] = 3.6\n",
    "r[(t_CL >= 10) & (t_CL < 15)] = 4.1\n",
    "r[(t_CL >= 15) & (t_CL < 25)] = 3.8\n",
    "r[(t_CL >= 25) & (t_CL < 35)] = 2.1\n",
    "r[(t_CL >= 35)] = 4.1\n",
    "\n",
    "plt.plot(r)"
   ],
   "metadata": {
    "collapsed": false,
    "ExecuteTime": {
     "end_time": "2024-01-10T12:57:46.734685100Z",
     "start_time": "2024-01-10T12:57:46.574126Z"
    }
   },
   "id": "e32471b8052e8f27"
  },
  {
   "cell_type": "code",
   "execution_count": 244,
   "outputs": [
    {
     "name": "stdout",
     "output_type": "stream",
     "text": [
      "0\n",
      "1\n",
      "2\n",
      "3\n",
      "4\n",
      "5\n",
      "6\n",
      "7\n",
      "8\n",
      "9\n",
      "10\n",
      "11\n",
      "12\n",
      "13\n",
      "14\n",
      "15\n",
      "16\n",
      "17\n",
      "18\n",
      "19\n",
      "20\n",
      "21\n",
      "22\n",
      "23\n",
      "24\n",
      "25\n",
      "26\n",
      "27\n",
      "28\n",
      "29\n",
      "30\n",
      "31\n",
      "32\n",
      "33\n",
      "34\n",
      "35\n",
      "36\n",
      "37\n",
      "38\n",
      "39\n",
      "40\n",
      "41\n",
      "42\n",
      "43\n",
      "44\n",
      "45\n",
      "46\n",
      "47\n",
      "48\n",
      "49\n",
      "50\n",
      "51\n",
      "52\n",
      "53\n",
      "54\n",
      "55\n",
      "56\n",
      "57\n",
      "58\n",
      "59\n",
      "60\n",
      "61\n",
      "62\n",
      "63\n",
      "64\n",
      "65\n",
      "66\n",
      "67\n",
      "68\n",
      "69\n",
      "70\n",
      "71\n",
      "72\n",
      "73\n",
      "74\n",
      "75\n",
      "76\n",
      "77\n",
      "78\n",
      "79\n",
      "80\n",
      "81\n",
      "82\n",
      "83\n",
      "84\n",
      "85\n",
      "86\n",
      "87\n",
      "88\n",
      "89\n",
      "90\n",
      "91\n",
      "92\n",
      "93\n",
      "94\n",
      "95\n",
      "96\n",
      "97\n",
      "98\n",
      "99\n",
      "100\n",
      "101\n",
      "102\n",
      "103\n",
      "104\n",
      "105\n",
      "106\n",
      "107\n",
      "108\n",
      "109\n",
      "110\n",
      "111\n",
      "112\n",
      "113\n",
      "114\n",
      "115\n",
      "116\n",
      "117\n",
      "118\n",
      "119\n",
      "120\n",
      "121\n",
      "122\n",
      "123\n",
      "124\n",
      "125\n",
      "126\n",
      "127\n",
      "128\n",
      "129\n",
      "130\n",
      "131\n",
      "132\n",
      "133\n",
      "134\n",
      "135\n",
      "136\n",
      "137\n",
      "138\n",
      "139\n",
      "140\n",
      "141\n",
      "142\n",
      "143\n",
      "144\n",
      "145\n",
      "146\n",
      "147\n",
      "148\n",
      "149\n",
      "150\n",
      "151\n",
      "152\n",
      "153\n",
      "154\n",
      "155\n",
      "156\n",
      "157\n",
      "158\n",
      "159\n",
      "160\n",
      "161\n",
      "162\n",
      "163\n",
      "164\n",
      "165\n",
      "166\n",
      "167\n",
      "168\n",
      "169\n",
      "170\n",
      "171\n",
      "172\n",
      "173\n",
      "174\n",
      "175\n",
      "176\n",
      "177\n",
      "178\n",
      "179\n",
      "180\n",
      "181\n",
      "182\n",
      "183\n",
      "184\n",
      "185\n",
      "186\n",
      "187\n",
      "188\n",
      "189\n",
      "190\n",
      "191\n",
      "192\n",
      "193\n",
      "194\n",
      "195\n",
      "196\n",
      "197\n",
      "198\n",
      "199\n",
      "200\n",
      "201\n",
      "202\n",
      "203\n",
      "204\n",
      "205\n",
      "206\n",
      "207\n",
      "208\n",
      "209\n",
      "210\n",
      "211\n",
      "212\n",
      "213\n",
      "214\n",
      "215\n",
      "216\n",
      "217\n",
      "218\n",
      "219\n",
      "220\n",
      "221\n",
      "222\n",
      "223\n",
      "224\n",
      "225\n",
      "226\n",
      "227\n",
      "228\n",
      "229\n",
      "230\n",
      "231\n",
      "232\n",
      "233\n",
      "234\n",
      "235\n",
      "236\n",
      "237\n",
      "238\n",
      "239\n",
      "240\n",
      "241\n",
      "242\n",
      "243\n",
      "244\n",
      "245\n",
      "246\n",
      "247\n",
      "248\n",
      "249\n",
      "250\n",
      "251\n",
      "252\n",
      "253\n",
      "254\n",
      "255\n",
      "256\n",
      "257\n",
      "258\n",
      "259\n",
      "260\n",
      "261\n",
      "262\n",
      "263\n",
      "264\n",
      "265\n",
      "266\n",
      "267\n",
      "268\n",
      "269\n",
      "270\n",
      "271\n",
      "272\n",
      "273\n",
      "274\n",
      "275\n",
      "276\n",
      "277\n",
      "278\n",
      "279\n",
      "280\n",
      "281\n",
      "282\n",
      "283\n",
      "284\n",
      "285\n",
      "286\n",
      "287\n",
      "288\n",
      "289\n",
      "290\n",
      "291\n",
      "292\n",
      "293\n",
      "294\n",
      "295\n",
      "296\n",
      "297\n",
      "298\n",
      "299\n",
      "300\n",
      "301\n",
      "302\n",
      "303\n",
      "304\n",
      "305\n",
      "306\n",
      "307\n",
      "308\n",
      "309\n",
      "310\n",
      "311\n",
      "312\n",
      "313\n",
      "314\n",
      "315\n",
      "316\n",
      "317\n",
      "318\n",
      "319\n",
      "320\n",
      "321\n",
      "322\n",
      "323\n",
      "324\n",
      "325\n",
      "326\n",
      "327\n",
      "328\n",
      "329\n",
      "330\n",
      "331\n",
      "332\n",
      "333\n",
      "334\n",
      "335\n",
      "336\n",
      "337\n",
      "338\n",
      "339\n",
      "340\n",
      "341\n",
      "342\n",
      "343\n",
      "344\n",
      "345\n",
      "346\n",
      "347\n",
      "348\n",
      "349\n",
      "350\n",
      "351\n",
      "352\n",
      "353\n",
      "354\n",
      "355\n",
      "356\n",
      "357\n",
      "358\n",
      "359\n",
      "360\n",
      "361\n",
      "362\n",
      "363\n",
      "364\n",
      "365\n",
      "366\n",
      "367\n",
      "368\n",
      "369\n",
      "370\n",
      "371\n",
      "372\n",
      "373\n",
      "374\n",
      "375\n",
      "376\n",
      "377\n",
      "378\n",
      "379\n",
      "380\n",
      "381\n",
      "382\n",
      "383\n",
      "384\n",
      "385\n",
      "386\n",
      "387\n",
      "388\n",
      "389\n",
      "390\n",
      "391\n",
      "392\n",
      "393\n",
      "394\n",
      "395\n",
      "396\n",
      "397\n",
      "398\n",
      "399\n",
      "400\n",
      "401\n",
      "402\n",
      "403\n",
      "404\n",
      "405\n",
      "406\n",
      "407\n",
      "408\n",
      "409\n",
      "410\n",
      "411\n",
      "412\n",
      "413\n",
      "414\n",
      "415\n",
      "416\n",
      "417\n",
      "418\n",
      "419\n",
      "420\n",
      "421\n",
      "422\n",
      "423\n",
      "424\n",
      "425\n",
      "426\n",
      "427\n",
      "428\n",
      "429\n",
      "430\n",
      "431\n",
      "432\n",
      "433\n",
      "434\n",
      "435\n",
      "436\n",
      "437\n",
      "438\n",
      "439\n",
      "440\n",
      "441\n",
      "442\n",
      "443\n",
      "444\n",
      "445\n",
      "446\n",
      "447\n",
      "448\n",
      "449\n",
      "450\n",
      "451\n",
      "452\n",
      "453\n",
      "454\n",
      "455\n",
      "456\n",
      "457\n",
      "458\n",
      "459\n",
      "460\n",
      "461\n",
      "462\n",
      "463\n",
      "464\n",
      "465\n",
      "466\n",
      "467\n",
      "468\n",
      "469\n",
      "470\n",
      "471\n",
      "472\n",
      "473\n",
      "474\n",
      "475\n",
      "476\n",
      "477\n",
      "478\n",
      "479\n",
      "480\n",
      "481\n",
      "482\n",
      "483\n",
      "484\n",
      "485\n",
      "486\n",
      "487\n",
      "488\n",
      "489\n",
      "490\n",
      "491\n",
      "492\n",
      "493\n",
      "494\n",
      "495\n",
      "496\n",
      "497\n",
      "498\n",
      "499\n"
     ]
    }
   ],
   "source": [
    "from servo_positioning_system_chatgpt import servo_motor, simulate_servo_positioning_system\n",
    "from numba import float32, float64, jit, NumbaWarning, NumbaPerformanceWarning, NumbaDeprecationWarning\n",
    "import numba\n",
    "from numba.typed import Dict\n",
    "import time\n",
    "#batch_y, batch_u = next(iter(test_dl))\n",
    "batch_y = batch_y.to(device)\n",
    "batch_u = batch_u.to(device)\n",
    "batch_y_pred= torch.Tensor(batch_y.shape)\n",
    "\n",
    "n_testing = 5\n",
    "\n",
    "time_vec = []\n",
    "\n",
    "Ts_simulation = 1e-4\n",
    "e = torch.Tensor([[[]]])\n",
    "u = torch.Tensor([[[]]])\n",
    "\n",
    "x_i = np.array([1e-3, 1e-3, 1e-3])\n",
    "y_i = x_i[0]\n",
    "u_i = 1e-3\n",
    "e_integral_i = 0\n",
    "\n",
    "y_log = np.zeros(len(t_CL))\n",
    "e_log = np.zeros(len(t_CL))\n",
    "u_log = np.zeros(len(t_CL))\n",
    "\n",
    "data = Dict()\n",
    "for k, v in data_test[n_testing].items():\n",
    "    data[k] = v\n",
    "\n",
    "with torch.no_grad():\n",
    "    for i in range(len(t_CL)):#batch_u.shape[0]): # for each system\n",
    "        print(i)\n",
    "        \n",
    "        e_i = torch.Tensor([[[r[i] - y_i]]])\n",
    "        e_integral_i += e_i\n",
    "        e_log[i] = e_integral_i\n",
    "        \n",
    "        # e = e_i\n",
    "        # u = torch.Tensor([[[u_i]]])\n",
    "        e = torch.cat((e,e_integral_i),2)\n",
    "        u = torch.cat((u,torch.Tensor([[[u_i]]])),2)\n",
    "        # \n",
    "        # Controller\n",
    "        pred, _ = model(e.reshape(1,-1,1), u.reshape(1,-1,1))\n",
    "\n",
    "        u_i = pred[:,-1,:].item()\n",
    "        u_log[i] = u_i\n",
    "        \n",
    "        \n",
    "        u_tmp = np.ones(int(Ts/Ts_simulation)) * u_i\n",
    "    \n",
    "        s = x_i\n",
    "        \n",
    "        for ii in range(len(u_tmp)):\n",
    "            a = u_tmp[ii]\n",
    "            # Runge-Kutta\n",
    "            k1 = Ts_simulation * servo_motor(s, a, data)\n",
    "            k2 = Ts_simulation * servo_motor(s + 0.5 * k1, a, data)\n",
    "            s = s + k2\n",
    "\n",
    "        x_i = s\n",
    "        y_i = x_i[0]\n",
    "        y_log[i] = y_i\n",
    "        \n",
    "        # apply the input to the system\n",
    "        \n",
    "        \n",
    "        \n",
    "    #     pred, _ = model(batch_u[i:i+1, -500:,:], batch_y[i:i+1, -500:, :])\n",
    "    #     batch_y_pred[i, -500:, :] = pred\n",
    "    #     \n",
    "    # batch_y_pred = batch_y_pred.to(\"cpu\").detach().numpy()\n",
    "    # batch_y = batch_y.to(\"cpu\").detach().numpy()\n",
    "    # batch_u = batch_u.to(\"cpu\").detach().numpy()\n",
    "#elapsed_time = time.time() - start\n",
    "#print(elapsed_time)"
   ],
   "metadata": {
    "collapsed": false,
    "ExecuteTime": {
     "end_time": "2024-01-10T12:58:02.903665300Z",
     "start_time": "2024-01-10T12:57:46.702627400Z"
    }
   },
   "id": "7d9e1d6347d417f6"
  },
  {
   "cell_type": "code",
   "execution_count": 245,
   "outputs": [
    {
     "data": {
      "text/plain": "<matplotlib.legend.Legend at 0x1e69a70ed10>"
     },
     "execution_count": 245,
     "metadata": {},
     "output_type": "execute_result"
    },
    {
     "data": {
      "text/plain": "<Figure size 640x480 with 3 Axes>",
      "image/png": "[encoded data removed]"
     },
     "metadata": {},
     "output_type": "display_data"
    }
   ],
   "source": [
    "plt.subplot(311)\n",
    "#plt.plot(t_CL, r)\n",
    "plt.plot(t_CL, y_log)\n",
    "plt.legend(['$y$'])\n",
    "plt.subplot(312)\n",
    "plt.plot(t_CL, u_log)\n",
    "plt.legend(['$u$'])\n",
    "plt.subplot(313)\n",
    "plt.plot(t_CL, e_log)\n",
    "plt.legend(['$e$'])"
   ],
   "metadata": {
    "collapsed": false,
    "ExecuteTime": {
     "end_time": "2024-01-10T12:58:03.217287300Z",
     "start_time": "2024-01-10T12:58:02.905666400Z"
    }
   },
   "id": "fd288b5a3f7dc31d"
  },
  {
   "cell_type": "code",
   "execution_count": 17,
   "outputs": [
    {
     "data": {
      "text/plain": "torch.Size([50, 500, 1])"
     },
     "execution_count": 17,
     "metadata": {},
     "output_type": "execute_result"
    }
   ],
   "source": [
    "batch_u.shape"
   ],
   "metadata": {
    "collapsed": false,
    "ExecuteTime": {
     "end_time": "2024-01-10T08:02:52.340219600Z",
     "start_time": "2024-01-10T08:02:52.327967800Z"
    }
   },
   "id": "9f18bd4bf12c991a"
  },
  {
   "cell_type": "code",
   "execution_count": 18,
   "outputs": [
    {
     "ename": "AttributeError",
     "evalue": "",
     "output_type": "error",
     "traceback": [
      "\u001B[1;31m---------------------------------------------------------------------------\u001B[0m",
      "\u001B[1;31mModuleNotFoundError\u001B[0m                       Traceback (most recent call last)",
      "File \u001B[1;32m~\\anaconda3\\envs\\sysid-transformers-control\\Lib\\site-packages\\numba\\typed\\__init__.py:18\u001B[0m, in \u001B[0;36m__getattr__\u001B[1;34m(name)\u001B[0m\n\u001B[0;32m     17\u001B[0m \u001B[38;5;28;01mtry\u001B[39;00m:\n\u001B[1;32m---> 18\u001B[0m     \u001B[38;5;28;01mreturn\u001B[39;00m importlib\u001B[38;5;241m.\u001B[39mimport_module(\u001B[38;5;124mf\u001B[39m\u001B[38;5;124m\"\u001B[39m\u001B[38;5;124m.\u001B[39m\u001B[38;5;132;01m{\u001B[39;00mname\u001B[38;5;132;01m}\u001B[39;00m\u001B[38;5;124m\"\u001B[39m, \u001B[38;5;18m__name__\u001B[39m)\n\u001B[0;32m     19\u001B[0m \u001B[38;5;28;01mexcept\u001B[39;00m \u001B[38;5;167;01mModuleNotFoundError\u001B[39;00m:\n",
      "File \u001B[1;32m~\\anaconda3\\envs\\sysid-transformers-control\\Lib\\importlib\\__init__.py:126\u001B[0m, in \u001B[0;36mimport_module\u001B[1;34m(name, package)\u001B[0m\n\u001B[0;32m    125\u001B[0m         level \u001B[38;5;241m+\u001B[39m\u001B[38;5;241m=\u001B[39m \u001B[38;5;241m1\u001B[39m\n\u001B[1;32m--> 126\u001B[0m \u001B[38;5;28;01mreturn\u001B[39;00m _bootstrap\u001B[38;5;241m.\u001B[39m_gcd_import(name[level:], package, level)\n",
      "File \u001B[1;32m<frozen importlib._bootstrap>:1204\u001B[0m, in \u001B[0;36m_gcd_import\u001B[1;34m(name, package, level)\u001B[0m\n",
      "File \u001B[1;32m<frozen importlib._bootstrap>:1176\u001B[0m, in \u001B[0;36m_find_and_load\u001B[1;34m(name, import_)\u001B[0m\n",
      "File \u001B[1;32m<frozen importlib._bootstrap>:1140\u001B[0m, in \u001B[0;36m_find_and_load_unlocked\u001B[1;34m(name, import_)\u001B[0m\n",
      "\u001B[1;31mModuleNotFoundError\u001B[0m: No module named 'numba.typed.dict'",
      "\nDuring handling of the above exception, another exception occurred:\n",
      "\u001B[1;31mAttributeError\u001B[0m                            Traceback (most recent call last)",
      "Cell \u001B[1;32mIn[18], line 1\u001B[0m\n\u001B[1;32m----> 1\u001B[0m numba\u001B[38;5;241m.\u001B[39mtyped\u001B[38;5;241m.\u001B[39mdict(data_test[n_testing])\n",
      "File \u001B[1;32m~\\anaconda3\\envs\\sysid-transformers-control\\Lib\\site-packages\\numba\\typed\\__init__.py:20\u001B[0m, in \u001B[0;36m__getattr__\u001B[1;34m(name)\u001B[0m\n\u001B[0;32m     18\u001B[0m     \u001B[38;5;28;01mreturn\u001B[39;00m importlib\u001B[38;5;241m.\u001B[39mimport_module(\u001B[38;5;124mf\u001B[39m\u001B[38;5;124m\"\u001B[39m\u001B[38;5;124m.\u001B[39m\u001B[38;5;132;01m{\u001B[39;00mname\u001B[38;5;132;01m}\u001B[39;00m\u001B[38;5;124m\"\u001B[39m, \u001B[38;5;18m__name__\u001B[39m)\n\u001B[0;32m     19\u001B[0m \u001B[38;5;28;01mexcept\u001B[39;00m \u001B[38;5;167;01mModuleNotFoundError\u001B[39;00m:\n\u001B[1;32m---> 20\u001B[0m     \u001B[38;5;28;01mraise\u001B[39;00m \u001B[38;5;167;01mAttributeError\u001B[39;00m\n",
      "\u001B[1;31mAttributeError\u001B[0m: "
     ]
    }
   ],
   "source": [
    "numba.typed.dict(data_test[n_testing])"
   ],
   "metadata": {
    "collapsed": false,
    "ExecuteTime": {
     "end_time": "2024-01-10T08:02:54.669982500Z",
     "start_time": "2024-01-10T08:02:52.333127300Z"
    }
   },
   "id": "b2f0ef09d5e2307"
  },
  {
   "cell_type": "code",
   "execution_count": null,
   "outputs": [],
   "source": [
    "numba.typed.Dict"
   ],
   "metadata": {
    "collapsed": false,
    "ExecuteTime": {
     "end_time": "2024-01-10T08:02:54.672488900Z",
     "start_time": "2024-01-10T08:02:54.670983200Z"
    }
   },
   "id": "e1c1315764c7abc3"
  },
  {
   "cell_type": "code",
   "execution_count": null,
   "outputs": [],
   "source": [
    "Ts/Ts_simulation"
   ],
   "metadata": {
    "collapsed": false,
    "ExecuteTime": {
     "start_time": "2024-01-10T08:02:54.672488900Z"
    }
   },
   "id": "381b51fe9ee29608"
  },
  {
   "cell_type": "code",
   "execution_count": null,
   "outputs": [],
   "source": [
    "model(e, u)"
   ],
   "metadata": {
    "collapsed": false,
    "ExecuteTime": {
     "end_time": "2024-01-10T08:02:54.676500700Z",
     "start_time": "2024-01-10T08:02:54.674501Z"
    }
   },
   "id": "aa501bbd9bd00f73"
  },
  {
   "cell_type": "code",
   "execution_count": null,
   "id": "8f80625a",
   "metadata": {
    "ExecuteTime": {
     "start_time": "2024-01-10T08:02:54.676500700Z"
    }
   },
   "outputs": [],
   "source": [
    "import time\n",
    "#batch_y, batch_u = next(iter(test_dl))\n",
    "batch_y = batch_y.to(device)\n",
    "batch_u = batch_u.to(device)\n",
    "batch_y_pred= torch.Tensor(batch_y.shape)\n",
    "\n",
    "ell = 500\n",
    "\n",
    "time_vec = []\n",
    "with torch.no_grad():\n",
    "    for i in range(2):#batch_u.shape[0]): # for each system\n",
    "        print(i)\n",
    "        for t in range(0, batch_u.shape[1]):\n",
    "            #print(t)\n",
    "            start = time.time()\n",
    "            \n",
    "            if t < ell:\n",
    "                pred, _ = model(batch_u[i:i+1,:t+1,:], batch_y[i:i+1, :t+1,:])\n",
    "            else:\n",
    "                pred, _ = model(batch_u[i:i+1,t-ell+1:t+1,:], batch_y[i:i+1,t-ell+1:t+1,:])\n",
    "            print('time:',t)\n",
    "            print('shape:',pred.shape)\n",
    "            time_vec.append(time.time() - start)\n",
    "            \n",
    "            batch_y_pred[i, t, :] = pred[:, -1, :]\n",
    "            #print(pred.shape)\n",
    "            #break\n",
    "        #break\n",
    "        #batch_y_pred[i] = pred # last sample\n",
    "        #start = time.time()\n",
    "        #batch_y_pred[i], _ = model(batch_u[i:i+1], batch_y[i:i+1])\n",
    "        #time_vec.append(time.time() - start)\n",
    "    batch_y_pred = batch_y_pred.to(\"cpu\").detach().numpy()\n",
    "    batch_y = batch_y.to(\"cpu\").detach().numpy()\n",
    "    batch_u = batch_u.to(\"cpu\").detach().numpy()\n",
    "#elapsed_time = time.time() - start\n",
    "#print(elapsed_time)"
   ]
  },
  {
   "cell_type": "code",
   "execution_count": null,
   "outputs": [],
   "source": [
    "batch_y_pred.shape"
   ],
   "metadata": {
    "collapsed": false,
    "ExecuteTime": {
     "start_time": "2024-01-10T08:02:54.677503Z"
    }
   },
   "id": "9b0d7d210774a41f"
  },
  {
   "cell_type": "code",
   "execution_count": null,
   "outputs": [],
   "source": [
    "time_vec"
   ],
   "metadata": {
    "collapsed": false,
    "ExecuteTime": {
     "end_time": "2024-01-10T08:02:54.694457800Z",
     "start_time": "2024-01-10T08:02:54.680501100Z"
    }
   },
   "id": "d63afe54252fc60b"
  },
  {
   "cell_type": "code",
   "execution_count": null,
   "outputs": [],
   "source": [
    "np.std(time_vec)/500 * 1000"
   ],
   "metadata": {
    "collapsed": false,
    "ExecuteTime": {
     "start_time": "2024-01-10T08:02:54.681500800Z"
    }
   },
   "id": "1ff3a6e5ebc5aa98"
  },
  {
   "cell_type": "code",
   "execution_count": null,
   "id": "fa6dd590",
   "metadata": {
    "ExecuteTime": {
     "start_time": "2024-01-10T08:02:54.683717200Z"
    }
   },
   "outputs": [],
   "source": [
    "# batch_y_target = batch_y[:, 1:, :] # target @ time k: y_{k+1}\n",
    "# batch_y_pred = batch_y_pred[:, :-1, :] # prediction @ time k: y_{k+1|k} / filter @ time k: y_{k|k}\n",
    "# batch_y_pred_dummy = batch_y[:, :-1, :] # dummy estimator: y_{k+1} \\approx y_{k}\n",
    "# batch_pred_err = batch_y_target - batch_y_pred\n",
    "# batch_pred_err_dummy = batch_y_target - batch_y_pred_dummy\n",
    "batch_pred_err = batch_y - batch_y_pred\n",
    "# batch_pred_err_dummy = batch_y_target - batch_y_pred_dummy"
   ]
  },
  {
   "cell_type": "code",
   "execution_count": null,
   "id": "da53a0ee",
   "metadata": {
    "ExecuteTime": {
     "start_time": "2024-01-10T08:02:54.685716300Z"
    }
   },
   "outputs": [],
   "source": [
    "t = np.arange(1, batch_y.shape[1]+1)"
   ]
  },
  {
   "cell_type": "code",
   "execution_count": null,
   "outputs": [],
   "source": [
    "test_idx = 0\n",
    "plt.plot(batch_y[test_idx,:,1], label='true')\n",
    "plt.plot(batch_y_pred[test_idx,:,1], label='estimated')\n",
    "#plt.xlim([200, 300])\n",
    "plt.legend()\n",
    "plt.show()"
   ],
   "metadata": {
    "collapsed": false,
    "ExecuteTime": {
     "start_time": "2024-01-10T08:02:54.688424300Z"
    }
   },
   "id": "fdabaaa56633b4b0"
  },
  {
   "cell_type": "code",
   "execution_count": null,
   "outputs": [],
   "source": [
    "transformer_data = {'t': t,\n",
    "            'u1': u_test[:, :, 0],\n",
    "            'u2': u_test[:, :, 1],\n",
    "            'x1_n': x_n_test[:, :, 0],\n",
    "            'x2_n': x_n_test[:, :, 1],\n",
    "            'x1': x_test[:, :, 0],\n",
    "            'x2': x_test[:, :, 1],\n",
    "            'y1': y_test[:, :, 0],\n",
    "            'y2': y_test[:, :, 1],\n",
    "            'x1_hat': batch_y_pred[:, :, 0],\n",
    "            'x2_hat': batch_y_pred[:, :, 1],\n",
    "            'time': np.reshape(time_vec, (u_test.shape[0], -1))\n",
    "            }\n",
    "\n",
    "with open(\"data/transformer_prbs_data2.pkl\", \"wb\") as f:\n",
    "    pkl.dump(transformer_data, f)"
   ],
   "metadata": {
    "collapsed": false,
    "ExecuteTime": {
     "start_time": "2024-01-10T08:02:54.689933900Z"
    }
   },
   "id": "ca3aa5a5a6dd7050"
  },
  {
   "cell_type": "code",
   "execution_count": null,
   "outputs": [],
   "source": [],
   "metadata": {
    "collapsed": false,
    "ExecuteTime": {
     "start_time": "2024-01-10T08:02:54.693457300Z"
    }
   },
   "id": "676078b7a4f8b9af"
  },
  {
   "cell_type": "code",
   "execution_count": null,
   "outputs": [],
   "source": [
    "batch_y_pred[0, -1, :]"
   ],
   "metadata": {
    "collapsed": false,
    "ExecuteTime": {
     "end_time": "2024-01-10T08:02:54.696458200Z",
     "start_time": "2024-01-10T08:02:54.695456800Z"
    }
   },
   "id": "cf57324ba869ff1e"
  },
  {
   "cell_type": "code",
   "execution_count": null,
   "outputs": [],
   "source": [
    "x1_n_mean = batch_y[:,:,0].mean(axis=0)\n",
    "# x1_mean = x_test[:,:,0].mean(axis=0)\n",
    "x1_hat_mean = batch_y_pred[:,:,0].mean(axis=0)\n",
    "x1_err_mean = np.sqrt(np.power(batch_y[:,:,0] - batch_y_pred[:,:,0], 2).mean(axis=0))\n",
    "x2_n_mean = batch_y[:,:,1].mean(axis=0)\n",
    "# x2_mean = x_test[:,:,1].mean(axis=0)\n",
    "x2_hat_mean = batch_y_pred[:,:,1].mean(axis=0)\n",
    "x2_err_mean = np.sqrt(np.power(batch_y[:,:,1] - batch_y_pred[:,:,1], 2).mean(axis=0))\n",
    "# y2_mean = y_test[:,:,1].mean(axis=0)\n",
    "\n",
    "fig = plt.figure(figsize=(5,4))\n",
    "\n",
    "ax1 = plt.subplot(221)\n",
    "# plt.plot(t, x1_mean, label='$\\overline{x}_1$')\n",
    "plt.plot(t, x1_n_mean, label='$\\overline{x}^{\\mathrm{o}}_1$')\n",
    "plt.plot(t, x1_hat_mean, label='$\\overline{\\hat{x}}_1$')\n",
    "plt.tick_params('x', labelbottom=False)\n",
    "plt.ylabel('$X_2$')\n",
    "plt.legend(loc=\"lower right\")\n",
    "\n",
    "ax2 = plt.subplot(223, sharex=ax1)\n",
    "plt.plot(x1_err_mean, c='r', label='$RMSE(x^{\\mathrm{o}}_1 - \\hat{x}_1)$')\n",
    "plt.xlabel('$t$ [s]')\n",
    "plt.ylabel('$X_2$')\n",
    "plt.ylim([0, 10])\n",
    "plt.legend()\n",
    "\n",
    "ax3 = plt.subplot(222)\n",
    "# plt.plot(t, y2_mean, label='$\\overline{y}$')\n",
    "# plt.plot(t, x2_mean, label='$\\overline{x}_2$')\n",
    "plt.plot(t, x2_n_mean, label='$\\overline{x}^{\\mathrm{o}}_2$')\n",
    "plt.plot(t, x2_hat_mean, label='$\\overline{\\hat{x}}_2$')\n",
    "plt.tick_params('x', labelbottom=False)\n",
    "plt.ylabel('$P_2$')\n",
    "plt.legend(loc=\"upper right\")\n",
    "\n",
    "ax4 = plt.subplot(224, sharex=ax1)\n",
    "plt.plot(x2_err_mean, c='r', label='$RMSE(x^{\\mathrm{o}}_2 - \\hat{x}_2)$')\n",
    "plt.xlabel('$t$ [s]')\n",
    "plt.ylabel('$P_2$')\n",
    "plt.ylim([0, 10])\n",
    "plt.legend()\n",
    "\n",
    "plt.tight_layout()\n",
    "#plt.savefig('transformer_2.pdf')\n",
    "plt.show()"
   ],
   "metadata": {
    "collapsed": false,
    "ExecuteTime": {
     "start_time": "2024-01-10T08:02:54.698457900Z"
    }
   },
   "id": "a358b7614d495ab3"
  },
  {
   "cell_type": "code",
   "execution_count": null,
   "id": "c1e22489",
   "metadata": {
    "ExecuteTime": {
     "start_time": "2024-01-10T08:02:54.701458600Z"
    }
   },
   "outputs": [],
   "source": [
    "plt.figure(figsize=(10, 2.5))\n",
    "\n",
    "idx = 31\n",
    "plt.subplot(121)\n",
    "plt.plot(t, batch_y[idx,:,1], 'k', label=\"$y$\")\n",
    "plt.plot(t, batch_y_pred[idx,:,1], 'b', label=\"$\\hat y$\")\n",
    "#plt.plot(batch_y_pred_dummy[idx], 'm', label=\"Pred dummy\")\n",
    "plt.plot(t, batch_y[idx,:,1] - batch_y_pred[idx,:,1], 'r', label=\"$y - \\hat y$\")\n",
    "#plt.plot(batch_y_target[idx] - batch_y_pred_dummy[idx], 'm', label=\"Err dummy\")\n",
    "#plt.legend(loc=\"upper right\")\n",
    "plt.legend(bbox_to_anchor=(1.05, 1), loc=2, borderaxespad=0.)\n",
    "plt.grid()\n",
    "#plt.xlim([0, 100]);\n",
    "#plt.ylim([-3, 3]);\n",
    "plt.xlabel(\"time step (-)\")\n",
    "\n",
    "# plt.subplot(122)\n",
    "# plt.plot(t, batch_y_target[idx,:,1], 'k', label=\"$y$\")\n",
    "# plt.plot(t, batch_y_pred[idx,:,1], 'b', label=\"$\\hat y$\")\n",
    "# #plt.plot(batch_y_pred_dummy[idx], 'm', label=\"Pred dummy\")\n",
    "# plt.plot(t, batch_y_target[idx,:,1] - batch_y_pred[idx,:,1], 'r', label=\"$y - \\hat y$\")\n",
    "# #plt.plot(batch_y_target[idx] - batch_y_pred_dummy[idx], 'm', label=\"Err dummy\")\n",
    "# #plt.legend(loc=\"upper right\")\n",
    "# plt.legend(bbox_to_anchor=(1.05, 1), loc=2, borderaxespad=0.)\n",
    "# plt.grid()\n",
    "# #plt.xlim([0, 100]);\n",
    "# #plt.ylim([-3, 3]);\n",
    "# plt.xlabel(\"time step (-)\")\n",
    "\n",
    "plt.tight_layout()\n",
    "#plt.savefig(fig_path / \"cstr_one_step_single.pdf\")"
   ]
  },
  {
   "cell_type": "code",
   "execution_count": null,
   "outputs": [],
   "source": [
    "batch_y"
   ],
   "metadata": {
    "collapsed": false,
    "ExecuteTime": {
     "start_time": "2024-01-10T08:02:54.702457800Z"
    }
   },
   "id": "232909bcbc02543f"
  },
  {
   "cell_type": "code",
   "execution_count": null,
   "outputs": [],
   "source": [
    "x1_mean = y[:,:,0].mean(axis=0)\n",
    "x1_hat_mean = y_hat[:,:, 0].mean(axis=0)\n",
    "x1_err_mean = np.sqrt(np.power(y[:,:,0] - y_hat[:,:,0], 2).mean(axis=0))\n",
    "x2_mean = y[:,:,1].mean(axis=0)\n",
    "x2_hat_mean = y_hat[:,:,1].mean(axis=0)\n",
    "x2_err_mean = np.sqrt(np.power(y[:,:,1] - y_hat[:,:,1], 2).mean(axis=0))\n",
    "\n",
    "fig = plt.figure(figsize=(5,3))\n",
    "\n",
    "ax1 = plt.subplot(221)\n",
    "plt.plot(t, x1_mean, label='$\\overline{x}_1$')\n",
    "plt.plot(t, x1_hat_mean, label='$\\overline{\\hat{x}}_1$')\n",
    "plt.tick_params('x', labelbottom=False)\n",
    "plt.ylabel('$X_2$')\n",
    "plt.legend(loc=\"lower right\")\n",
    "\n",
    "ax2 = plt.subplot(223, sharex=ax1)\n",
    "plt.plot(x1_err_mean, c='r', label='$RMSE(x_1 - \\hat{x}_1)$')\n",
    "plt.xlabel('$t$ [s]')\n",
    "plt.ylabel('$X_2$')\n",
    "plt.legend()\n",
    "\n",
    "ax3 = plt.subplot(222)\n",
    "plt.plot(t, x2_mean, label='$\\overline{y} = \\overline{x}_2$')\n",
    "plt.plot(t, x2_hat_mean, label='$\\overline{\\hat{x}}_2$')\n",
    "plt.tick_params('x', labelbottom=False)\n",
    "plt.ylabel('$P_2$')\n",
    "plt.legend(loc=\"upper right\")\n",
    "\n",
    "ax4 = plt.subplot(224, sharex=ax1)\n",
    "plt.plot(x2_err_mean, c='r', label='$RMSE(x_2 - \\hat{x}_2)$')\n",
    "plt.xlabel('$t$ [s]')\n",
    "plt.ylabel('$P_2$')\n",
    "plt.legend()\n",
    "\n",
    "plt.tight_layout()\n",
    "#plt.savefig('ekf_2.pdf')\n",
    "plt.show()"
   ],
   "metadata": {
    "collapsed": false,
    "ExecuteTime": {
     "start_time": "2024-01-10T08:02:54.703970Z"
    }
   },
   "id": "c71039904d2b238b"
  },
  {
   "cell_type": "code",
   "execution_count": null,
   "id": "f2aab2c2",
   "metadata": {
    "ExecuteTime": {
     "start_time": "2024-01-10T08:02:54.704970300Z"
    }
   },
   "outputs": [],
   "source": [
    "plt.figure(figsize=(9, 6))\n",
    "#plt.title(\"Prediction error $y - \\hat y$ on 256 sequences\")\n",
    "plt.subplot(211)\n",
    "plt.plot(t, batch_y[:,:,0].squeeze().T, \"k\", alpha=0.5);\n",
    "plt.plot(t, batch_y_pred[:,:,0].squeeze().T, \"b\", alpha=0.5);\n",
    "plt.plot(t, np.nan*np.zeros(t.shape), \"k\", alpha=1.0, label=\"$y$\")\n",
    "plt.plot(t, np.nan*np.zeros(t.shape), \"b\", alpha=1.0, label=\"$\\hat y$\")\n",
    "#plt.plot(t, np.nan*np.zeros(t.shape), \"r\", alpha=1.0, label=\"$y - \\hat y$\")\n",
    "plt.grid(True)\n",
    "plt.margins(x=0)\n",
    "#plt.legend(loc=\"upper right\")\n",
    "plt.legend()\n",
    "#plt.legend(bbox_to_anchor=(1.05, 1), loc=2, borderaxespad=0.)\n",
    "plt.xlabel(\"time step (-)\")\n",
    "\n",
    "plt.subplot(212)\n",
    "plt.plot(t, batch_pred_err[:,:,0].squeeze().T, \"r\", alpha=0.2)\n",
    "plt.plot(t, np.nan*np.zeros(t.shape), \"r\", alpha=1.0, label=\"$y - \\hat y$\")\n",
    "plt.legend(bbox_to_anchor=(1.05, 1), loc=2, borderaxespad=0.)\n",
    "plt.xlabel(\"time step (-)\")\n",
    "# plt.plot(t, batch_y_target[:,:,1].squeeze().T, \"k\", alpha=0.5);\n",
    "# plt.plot(t, np.nan*np.zeros(t.shape), \"k\", alpha=1.0, label=\"$y$\")\n",
    "# plt.plot(t, batch_pred_err[:,:,1].squeeze().T, \"r\", alpha=0.2);\n",
    "# plt.plot(t, np.nan*np.zeros(t.shape), \"r\", alpha=1.0, label=\"$y - \\hat y$\");\n",
    "plt.grid(True)\n",
    "plt.margins(x=0)\n",
    "plt.legend(loc=\"upper right\")\n",
    "# plt.legend(bbox_to_anchor=(1.05, 1), loc=2, borderaxespad=0.)\n",
    "# plt.xlabel(\"time step (-)\")\n",
    "\n",
    "plt.tight_layout()\n",
    "#plt.xlabel(\"Time step $k$\");\n",
    "plt.savefig(fig_path / \"cstr_one_step_batch.pdf\")"
   ]
  },
  {
   "cell_type": "code",
   "execution_count": null,
   "id": "f34481aa",
   "metadata": {
    "ExecuteTime": {
     "end_time": "2024-01-10T08:02:54.718501400Z",
     "start_time": "2024-01-10T08:02:54.705972700Z"
    }
   },
   "outputs": [],
   "source": [
    "skip = 200\n",
    "rmse_transformer = metrics.rmse(batch_y_target[:, skip:, :], batch_y_pred[:, skip:, :], time_axis=1)\n",
    "rmse_dummy = metrics.rmse(batch_y_target[:, skip:, :], batch_y_pred_dummy[:, skip:, :], time_axis=1)"
   ]
  },
  {
   "cell_type": "code",
   "execution_count": null,
   "id": "ece7fa16",
   "metadata": {
    "ExecuteTime": {
     "start_time": "2024-01-10T08:02:54.707973100Z"
    }
   },
   "outputs": [],
   "source": [
    "print(f'iterations: {exp_data[\"cfg\"].max_iters}')\n",
    "print(f'train_time: {exp_data[\"train_time\"] / 3600 / 24} days')\n",
    "print(f'rmse: {rmse_transformer.mean()}')"
   ]
  },
  {
   "cell_type": "code",
   "execution_count": null,
   "outputs": [],
   "source": [],
   "metadata": {
    "collapsed": false,
    "ExecuteTime": {
     "start_time": "2024-01-10T08:02:54.708973200Z"
    }
   },
   "id": "4fcbd26530b08fa8"
  }
 ],
 "metadata": {
  "kernelspec": {
   "display_name": "Python 3 (ipykernel)",
   "language": "python",
   "name": "python3"
  },
  "language_info": {
   "codemirror_mode": {
    "name": "ipython",
    "version": 3
   },
   "file_extension": ".py",
   "mimetype": "text/x-python",
   "name": "python",
   "nbconvert_exporter": "python",
   "pygments_lexer": "ipython3",
   "version": "3.11.0"
  }
 },
 "nbformat": 4,
 "nbformat_minor": 5
}
