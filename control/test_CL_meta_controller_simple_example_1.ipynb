{
 "cells": [
  {
   "cell_type": "code",
   "execution_count": 59,
   "outputs": [],
   "source": [
    "import copy\n",
    "import time\n",
    "import numpy as np\n",
    "import pandas as pd\n",
    "import matplotlib.pyplot as plt\n",
    "import pickle as pkl\n",
    "from numba import float32, float64, jit, NumbaPerformanceWarning\n",
    "import warnings\n",
    "import os\n",
    "\n",
    "warnings.simplefilter('ignore', category=NumbaPerformanceWarning)\n",
    "\n",
    "from utils import simulate_onestep_campi_example_1\n",
    "\n",
    "plt.rcParams['pdf.fonttype'] = 42\n",
    "plt.rcParams['ps.fonttype'] = 42\n",
    "plt.rcParams[\"font.family\"] = \"Times New Roman\"\n",
    "plt.rcParams[\"mathtext.fontset\"] = \"cm\"\n",
    "plt.rcParams['axes.labelsize']=14\n",
    "plt.rcParams['xtick.labelsize']=11\n",
    "plt.rcParams['ytick.labelsize']=11\n",
    "plt.rcParams['axes.grid']=True\n",
    "plt.rcParams['axes.xmargin']=0\n",
    "\n",
    "from dataset_simple_example_1 import SimpleExample1Dataset"
   ],
   "metadata": {
    "collapsed": false,
    "ExecuteTime": {
     "end_time": "2024-06-12T15:56:52.635865Z",
     "start_time": "2024-06-12T15:56:52.560985400Z"
    }
   },
   "id": "f1843b5eb255e7ec"
  },
  {
   "cell_type": "code",
   "execution_count": 60,
   "id": "df653a7d",
   "metadata": {
    "ExecuteTime": {
     "end_time": "2024-06-12T15:56:52.635865Z",
     "start_time": "2024-06-12T15:56:52.617993100Z"
    }
   },
   "outputs": [],
   "source": [
    "from pathlib import Path\n",
    "import time\n",
    "import torch\n",
    "import numpy as np\n",
    "import pandas as pd\n",
    "from torch.utils.data import DataLoader\n",
    "import matplotlib.pyplot as plt\n",
    "from transformer_onestep import GPTConfig, GPT\n",
    "import tqdm\n",
    "import argparse\n",
    "import metrics"
   ]
  },
  {
   "cell_type": "code",
   "execution_count": 61,
   "id": "e4a8b43d",
   "metadata": {
    "ExecuteTime": {
     "end_time": "2024-06-12T15:56:52.635865Z",
     "start_time": "2024-06-12T15:56:52.617993100Z"
    }
   },
   "outputs": [],
   "source": [
    "fig_path = Path(\"fig\")\n",
    "fig_path.mkdir(exist_ok=True)"
   ]
  },
  {
   "cell_type": "code",
   "execution_count": 62,
   "id": "1d446d6d",
   "metadata": {
    "ExecuteTime": {
     "end_time": "2024-06-12T15:56:52.635865Z",
     "start_time": "2024-06-12T15:56:52.617993100Z"
    }
   },
   "outputs": [],
   "source": [
    "# Fix all random sources to make script fully reproducible\n",
    "torch.manual_seed(420)\n",
    "np.random.seed(430)\n",
    "system_seed = 430 # Controls the system generation\n",
    "data_seed = 0 # Control the input generation"
   ]
  },
  {
   "cell_type": "code",
   "execution_count": 63,
   "id": "6a235fd7",
   "metadata": {
    "ExecuteTime": {
     "end_time": "2024-06-12T15:56:52.635865Z",
     "start_time": "2024-06-12T15:56:52.617993100Z"
    }
   },
   "outputs": [],
   "source": [
    "# Overall settings\n",
    "out_dir = \"out\"\n",
    "\n",
    "# System settings\n",
    "nu = 1\n",
    "ny = 1\n",
    "#seq_len = 600\n",
    "batch_size = 50 # 256\n",
    "\n",
    "# Compute settings\n",
    "cuda_device = \"cuda:1\"\n",
    "no_cuda = True\n",
    "threads = 10\n",
    "compile = False\n",
    "\n",
    "# Configure compute\n",
    "torch.set_num_threads(threads) \n",
    "use_cuda = not no_cuda and torch.cuda.is_available()\n",
    "device_name  = cuda_device if use_cuda else \"cpu\"\n",
    "device = torch.device(device_name)\n",
    "device_type = 'cuda' if 'cuda' in device_name else 'cpu' # for later use in torch.autocast\n",
    "torch.set_float32_matmul_precision(\"high\")\n",
    "#torch.backends.cuda.matmul.allow_tf32 = True # allow tf32 on matmul\n",
    "#torch.backends.cudnn.allow_tf32 = True # allow tf32 on cudnn"
   ]
  },
  {
   "cell_type": "code",
   "execution_count": 64,
   "id": "69ad2d3e",
   "metadata": {
    "ExecuteTime": {
     "end_time": "2024-06-12T15:56:52.647383400Z",
     "start_time": "2024-06-12T15:56:52.617993100Z"
    }
   },
   "outputs": [],
   "source": [
    "# Create out dir\n",
    "out_dir = Path(out_dir)\n",
    "exp_data = torch.load(out_dir/\"ckpt_controller_simple_example_1.6.pt\", map_location=device)"
   ]
  },
  {
   "cell_type": "code",
   "execution_count": 65,
   "id": "0c029f10",
   "metadata": {
    "ExecuteTime": {
     "end_time": "2024-06-12T15:56:52.698262100Z",
     "start_time": "2024-06-12T15:56:52.649385100Z"
    }
   },
   "outputs": [],
   "source": [
    "seq_len = exp_data[\"cfg\"].seq_len\n",
    "nx = exp_data[\"cfg\"].nx"
   ]
  },
  {
   "cell_type": "code",
   "execution_count": 66,
   "id": "34332c1a",
   "metadata": {
    "ExecuteTime": {
     "end_time": "2024-06-12T15:56:52.753399800Z",
     "start_time": "2024-06-12T15:56:52.695023Z"
    }
   },
   "outputs": [
    {
     "name": "stdout",
     "output_type": "stream",
     "text": [
      "number of parameters: 2.43M\n"
     ]
    }
   ],
   "source": [
    "model_args = exp_data[\"model_args\"]\n",
    "gptconf = GPTConfig(**model_args)\n",
    "model = GPT(gptconf).to(device)\n",
    "\n",
    "\n",
    "state_dict = exp_data[\"model\"]\n",
    "unwanted_prefix = '_orig_mod.'\n",
    "for k,v in list(state_dict.items()):\n",
    "    if k.startswith(unwanted_prefix):\n",
    "        state_dict[k[len(unwanted_prefix):]] = state_dict.pop(k)\n",
    "model.load_state_dict(state_dict);"
   ]
  },
  {
   "cell_type": "code",
   "execution_count": 67,
   "outputs": [],
   "source": [
    "import pickle as pkl\n",
    "\n",
    "with open('../data/control/test_set_simple_example_1.pkl', 'rb') as f:\n",
    "    test_set = pkl.load(f)\n",
    "\n",
    "data_test = test_set['data_test']"
   ],
   "metadata": {
    "collapsed": false,
    "ExecuteTime": {
     "end_time": "2024-06-12T15:56:52.801637700Z",
     "start_time": "2024-06-12T15:56:52.753399800Z"
    }
   },
   "id": "b84f563fe08bd4bc"
  },
  {
   "cell_type": "code",
   "execution_count": 67,
   "outputs": [],
   "source": [],
   "metadata": {
    "collapsed": false,
    "ExecuteTime": {
     "end_time": "2024-06-12T15:56:52.801637700Z",
     "start_time": "2024-06-12T15:56:52.799639200Z"
    }
   },
   "id": "bdfe871a4ce9228f"
  },
  {
   "cell_type": "code",
   "execution_count": 68,
   "outputs": [],
   "source": [
    "from control.matlab import *\n",
    "# Generate the reference\n",
    "generate_from_model = False\n",
    "ts = 1e-2\n",
    "T = 20#seq_len*ts\n",
    "t_CL = np.arange(0, T, ts)\n",
    "r_batch = np.zeros((batch_size, len(t_CL)))\n",
    "\n",
    "if generate_from_model:\n",
    "    test_ds = SimpleExample1Dataset(seq_len=len(t_CL), normalize=True, return_y=True)\n",
    "    test_dl = DataLoader(test_ds, batch_size=batch_size)\n",
    "    batch_u, batch_e, batch_y, batch_r = next(iter(test_dl))\n",
    "    for i in range(r_batch.shape[0]):\n",
    "        # get virtual error\n",
    "        r_batch[i,:] = batch_r[i,:,0]\n",
    "else:\n",
    "    r = np.zeros(t_CL.shape)\n",
    "    r[t_CL < 10] = 10\n",
    "    r[(t_CL >= 2.5) & (t_CL < 5)] = -10\n",
    "    r[(t_CL >= 5.0) & (t_CL < 7.5)] = 0\n",
    "    r[(t_CL >= 7.5) & (t_CL < 10)] = 5\n",
    "    r[(t_CL >= 10.) & (t_CL < 12.5)] = -5\n",
    "    r[(t_CL >= 12.5) & (t_CL < 15.)] = 20\n",
    "    r[(t_CL >= 15.0) & (t_CL < 17.5)] = 0\n",
    "    r[(t_CL >= 17.5) & (t_CL < 20.0)] = -20\n",
    "    for i in range(r_batch.shape[0]):\n",
    "        # get virtual error\n",
    "        r_batch[i,:] = r"
   ],
   "metadata": {
    "collapsed": false,
    "ExecuteTime": {
     "end_time": "2024-06-12T15:56:52.801637700Z",
     "start_time": "2024-06-12T15:56:52.800637500Z"
    }
   },
   "id": "322d5a268aa6fd69"
  },
  {
   "cell_type": "code",
   "execution_count": 69,
   "outputs": [
    {
     "data": {
      "text/plain": "[<matplotlib.lines.Line2D at 0x7f1666662260>]"
     },
     "execution_count": 69,
     "metadata": {},
     "output_type": "execute_result"
    },
    {
     "name": "stderr",
     "output_type": "stream",
     "text": [
      "findfont: Font family 'Times New Roman' not found.\n",
      "findfont: Font family 'Times New Roman' not found.\n",
      "findfont: Font family 'Times New Roman' not found.\n",
      "findfont: Font family 'Times New Roman' not found.\n",
      "findfont: Font family 'Times New Roman' not found.\n",
      "findfont: Font family 'Times New Roman' not found.\n",
      "findfont: Font family 'Times New Roman' not found.\n",
      "findfont: Font family 'Times New Roman' not found.\n",
      "findfont: Font family 'Times New Roman' not found.\n",
      "findfont: Font family 'Times New Roman' not found.\n",
      "findfont: Font family 'Times New Roman' not found.\n",
      "findfont: Font family 'Times New Roman' not found.\n",
      "findfont: Font family 'Times New Roman' not found.\n",
      "findfont: Font family 'Times New Roman' not found.\n",
      "findfont: Font family 'Times New Roman' not found.\n",
      "findfont: Font family 'Times New Roman' not found.\n",
      "findfont: Font family 'Times New Roman' not found.\n",
      "findfont: Font family 'Times New Roman' not found.\n",
      "findfont: Font family 'Times New Roman' not found.\n",
      "findfont: Font family 'Times New Roman' not found.\n",
      "findfont: Font family 'Times New Roman' not found.\n",
      "findfont: Font family 'Times New Roman' not found.\n",
      "findfont: Font family 'Times New Roman' not found.\n",
      "findfont: Font family 'Times New Roman' not found.\n",
      "findfont: Font family 'Times New Roman' not found.\n",
      "findfont: Font family 'Times New Roman' not found.\n",
      "findfont: Font family 'Times New Roman' not found.\n",
      "findfont: Font family 'Times New Roman' not found.\n",
      "findfont: Font family 'Times New Roman' not found.\n",
      "findfont: Font family 'Times New Roman' not found.\n",
      "findfont: Font family 'Times New Roman' not found.\n",
      "findfont: Font family 'Times New Roman' not found.\n",
      "findfont: Font family 'Times New Roman' not found.\n",
      "findfont: Font family 'Times New Roman' not found.\n",
      "findfont: Font family 'Times New Roman' not found.\n",
      "findfont: Font family 'Times New Roman' not found.\n",
      "findfont: Font family 'Times New Roman' not found.\n",
      "findfont: Font family 'Times New Roman' not found.\n",
      "findfont: Font family 'Times New Roman' not found.\n",
      "findfont: Font family 'Times New Roman' not found.\n",
      "findfont: Font family 'Times New Roman' not found.\n",
      "findfont: Font family 'Times New Roman' not found.\n",
      "findfont: Font family 'Times New Roman' not found.\n",
      "findfont: Font family 'Times New Roman' not found.\n",
      "findfont: Font family 'Times New Roman' not found.\n",
      "findfont: Font family 'Times New Roman' not found.\n",
      "findfont: Font family 'Times New Roman' not found.\n",
      "findfont: Font family 'Times New Roman' not found.\n",
      "findfont: Font family 'Times New Roman' not found.\n",
      "findfont: Font family 'Times New Roman' not found.\n",
      "findfont: Font family 'Times New Roman' not found.\n",
      "findfont: Font family 'Times New Roman' not found.\n",
      "findfont: Font family 'Times New Roman' not found.\n",
      "findfont: Font family 'Times New Roman' not found.\n",
      "findfont: Font family 'Times New Roman' not found.\n",
      "findfont: Font family 'Times New Roman' not found.\n",
      "findfont: Font family 'Times New Roman' not found.\n",
      "findfont: Font family 'Times New Roman' not found.\n",
      "findfont: Font family 'Times New Roman' not found.\n",
      "findfont: Font family 'Times New Roman' not found.\n",
      "findfont: Font family 'Times New Roman' not found.\n",
      "findfont: Font family 'Times New Roman' not found.\n",
      "findfont: Font family 'Times New Roman' not found.\n",
      "findfont: Font family 'Times New Roman' not found.\n",
      "findfont: Font family 'Times New Roman' not found.\n",
      "findfont: Font family 'Times New Roman' not found.\n",
      "findfont: Font family 'Times New Roman' not found.\n",
      "findfont: Font family 'Times New Roman' not found.\n"
     ]
    },
    {
     "data": {
      "text/plain": "<Figure size 640x480 with 1 Axes>",
      "image/png": "[encoded data removed]"
     },
     "metadata": {},
     "output_type": "display_data"
    }
   ],
   "source": [
    "plt.plot(r_batch[0,:])"
   ],
   "metadata": {
    "collapsed": false,
    "ExecuteTime": {
     "end_time": "2024-06-12T15:56:53.102035Z",
     "start_time": "2024-06-12T15:56:52.826043800Z"
    }
   },
   "id": "20ecce0e87bdc6c1"
  },
  {
   "cell_type": "code",
   "execution_count": null,
   "outputs": [
    {
     "name": "stderr",
     "output_type": "stream",
     "text": [
      "/home/rbusetto/.virtualenvs/sysid-transformers-control/lib/python3.10/site-packages/control/timeresp.py:1003: UserWarning: return_x specified for a transfer function system. Internal conversion to state space used; results may meaningless.\n",
      "  warnings.warn(\n",
      "/home/rbusetto/.virtualenvs/sysid-transformers-control/lib/python3.10/site-packages/control/timeresp.py:1009: UserWarning: Non-zero initial condition given for transfer function system. Internal conversion to state space used; may not be consistent with given X0.\n",
      "  warnings.warn(\n"
     ]
    }
   ],
   "source": [
    "import copy\n",
    "n_testing = 0\n",
    "H = 500\n",
    "\n",
    "y_log = np.empty((len(data_test),len(t_CL)))\n",
    "e_log = np.empty((len(data_test),len(t_CL)))\n",
    "u_log = np.empty((len(data_test),len(t_CL)))\n",
    "\n",
    "Ts = 1e-2; Fs = 1 / Ts\n",
    "s = tf('s')\n",
    "\n",
    "# problem data\n",
    "\n",
    "# (e_t, u_{t-1}) -> Transformer -> u_t\n",
    "\n",
    "# x(0), u(-1) = 0, y(0), e(0) = r(0) - y(0)\n",
    "\n",
    "with torch.no_grad():\n",
    "    for n_testing in range(1):#len(data_test)):\n",
    "        \n",
    "        # print(n_testing)\n",
    "        \n",
    "        e = torch.Tensor([[[]]])\n",
    "        u = torch.Tensor([[[]]])\n",
    "        \n",
    "        # This is like t=0, for our model we need u(-1).\n",
    "        x_i = np.array([[0, 0]]) # x(0)\n",
    "        y_i = 0    # y(0)\n",
    "        u_prev = 1e-6 # u(-1)\n",
    "\n",
    "        data = data_test[n_testing]\n",
    "        # system\n",
    "        num = [data['num_1']]\n",
    "        den = [data['den_1'], data['den_2'], data['den_3']]\n",
    "        P = tf(num, den)\n",
    "        \n",
    "        for i in range(0,len(t_CL)):#batch_u.shape[0]): # for each system\n",
    "            # if i == 6:\n",
    "            #     print('e:', e[0, 0, :5])\n",
    "            #     print('u:', u[0, 0, :5])\n",
    "            #     print('u_hat:', pred[0, :5, 0])\n",
    "            #     print('y:', y_log[0, :5])\n",
    "            #     print('x:', x_i)\n",
    "\n",
    "            e_i = torch.Tensor([[[r_batch[n_testing,i] - y_i]]]) # e(t)\n",
    "            \n",
    "            y_log[n_testing,i] = y_i\n",
    "            e_log[n_testing,i] = e_i\n",
    "    \n",
    "            u_prev = torch.Tensor([[[u_prev]]])   # first you add u(t-1)\n",
    "\n",
    "            \n",
    "            e = torch.cat((e, copy.deepcopy(e_i) / 2.22), 2)    #  e(0), ..., e(t)\n",
    "            u = torch.cat((u, copy.deepcopy(u_prev) / 118.5), 2) # u(-1), ..., u(t-1)\n",
    "            \n",
    "            \n",
    "            # Controller u(t) = C(e(t),u(t-1))\n",
    "            if i < H:\n",
    "                pred, _ = model(e.reshape(1,-1,1), u.reshape(1,-1,1))\n",
    "            else:\n",
    "                e_tmp = e.reshape(1,-1,1)\n",
    "                u_tmp = u.reshape(1,-1,1)\n",
    "                pred, _ = model(e_tmp[:,-H:,:], u_tmp[:,-H:,:])\n",
    "    \n",
    "            u_i = pred[:,-1,:].item() * 118.5 # u(t)\n",
    "            u_log[n_testing,i] = u_i\n",
    "    \n",
    "            # simulation\n",
    "            y_i, t_out, x_i = lsim(P, u_i, np.array([0, Ts]), x_i[-1], return_x=True)\n",
    "            y_i = y_i[-1]  # y(t) <- y(t+1)\n",
    "            u_prev = u_i # u(t-1)"
   ],
   "metadata": {
    "collapsed": false,
    "is_executing": true,
    "ExecuteTime": {
     "start_time": "2024-06-12T15:56:53.112426800Z"
    }
   },
   "id": "7d9e1d6347d417f6"
  },
  {
   "cell_type": "code",
   "execution_count": null,
   "outputs": [],
   "source": [
    "fig = plt.figure(figsize=(7, 5))\n",
    "ax1 = plt.subplot(311)\n",
    "#plt.plot(t_CL, r)\n",
    "plt.plot(t_CL, r_batch[n_testing,:], label=\"$r$\", c='tab:orange')\n",
    "plt.plot(t_CL, y_log[0,:].T, label=\"$y$\", c='tab:blue', alpha=1)\n",
    "plt.legend(['$r$','$y$'])\n",
    "# plt.xlim([0, 0.43])\n",
    "# plt.ylim([0, 10])\n",
    "plt.tick_params('x', labelbottom=False)\n",
    "\n",
    "ax2 = plt.subplot(312, sharex=ax1)\n",
    "plt.plot(t_CL, u_log[0,:].T, c='tab:blue', alpha=1)\n",
    "plt.legend(['$u$'])\n",
    "# plt.ylim([-500, 2000])\n",
    "plt.tick_params('x', labelbottom=False)\n",
    "\n",
    "ax3 = plt.subplot(313, sharex=ax1)\n",
    "plt.plot(t_CL, e_log[0,:].T, c='tab:blue', alpha=1)\n",
    "plt.xlabel('$t$ [s]')\n",
    "# plt.ylim([0, 4])\n",
    "plt.legend(['$e$'])\n",
    "\n",
    "# plt.savefig('transformer_controller.pdf')\n",
    "\n",
    "plt.show()"
   ],
   "metadata": {
    "collapsed": false,
    "is_executing": true
   },
   "id": "fd288b5a3f7dc31d"
  },
  {
   "cell_type": "code",
   "execution_count": null,
   "outputs": [],
   "source": [
    "s = tf('s')\n",
    "tau = 1 # s\n",
    "M = 1/(1 + (tau/(2*np.pi))*s)\n",
    "M = c2d(M, ts, 'matched')\n",
    "\n",
    "y_d = lsim(M, r, t_CL, return_x=False)[0]\n",
    "\n",
    "plt.plot(t_CL, r_batch[n_testing,:], color='k', linewidth=0.5, label='$r$')\n",
    "plt.plot(t_CL, y_log[0,:].T, label=r'$y^{\\mathcal{C}}$')\n",
    "plt.plot(t_CL, y_d, color='r', linestyle='--', label='$y_d$')\n",
    "plt.xlabel(\"$t$ [s]\")\n",
    "plt.ylabel(\"$y$ [-]\")\n",
    "plt.legend()\n",
    "plt.margins(x=0)\n",
    "plt.show()"
   ],
   "metadata": {
    "collapsed": false,
    "is_executing": true
   },
   "id": "4fcbd26530b08fa8"
  },
  {
   "cell_type": "code",
   "execution_count": null,
   "outputs": [],
   "source": [],
   "metadata": {
    "collapsed": false,
    "is_executing": true
   },
   "id": "e7462ecc1523f182"
  }
 ],
 "metadata": {
  "kernelspec": {
   "display_name": "Python 3 (ipykernel)",
   "language": "python",
   "name": "python3"
  },
  "language_info": {
   "codemirror_mode": {
    "name": "ipython",
    "version": 3
   },
   "file_extension": ".py",
   "mimetype": "text/x-python",
   "name": "python",
   "nbconvert_exporter": "python",
   "pygments_lexer": "ipython3",
   "version": "3.11.0"
  }
 },
 "nbformat": 4,
 "nbformat_minor": 5
}
