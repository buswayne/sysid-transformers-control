{
 "cells": [
  {
   "cell_type": "code",
   "execution_count": 1,
   "outputs": [],
   "source": [
    "import time\n",
    "import numpy as np\n",
    "import pandas as pd\n",
    "import matplotlib.pyplot as plt\n",
    "import pickle as pkl\n",
    "from numba import float32, float64, jit, NumbaPerformanceWarning\n",
    "import warnings\n",
    "import os\n",
    "from lti import drss_matrices, dlsim\n",
    "from wh_simulate import simulate_wh\n",
    "\n",
    "warnings.simplefilter('ignore', category=NumbaPerformanceWarning)\n",
    "\n",
    "from utils import simulate_onestep_campi_example_1\n",
    "\n",
    "plt.rcParams[\"font.family\"] = \"Times New Roman\"\n",
    "plt.rcParams[\"mathtext.fontset\"] = \"cm\"\n",
    "plt.rcParams['axes.labelsize']=14\n",
    "plt.rcParams['xtick.labelsize']=11\n",
    "plt.rcParams['ytick.labelsize']=11\n",
    "plt.rcParams['axes.grid']=True\n",
    "plt.rcParams['axes.xmargin']=0"
   ],
   "metadata": {
    "collapsed": false,
    "ExecuteTime": {
     "end_time": "2024-07-23T10:03:14.452480Z",
     "start_time": "2024-07-23T10:03:13.792121Z"
    }
   },
   "id": "f1843b5eb255e7ec"
  },
  {
   "cell_type": "code",
   "execution_count": 2,
   "id": "df653a7d",
   "metadata": {
    "ExecuteTime": {
     "end_time": "2024-07-23T10:03:16.310857Z",
     "start_time": "2024-07-23T10:03:14.455667Z"
    }
   },
   "outputs": [],
   "source": [
    "from pathlib import Path\n",
    "import time\n",
    "import torch\n",
    "import numpy as np\n",
    "import pandas as pd\n",
    "from torch.utils.data import DataLoader\n",
    "import matplotlib.pyplot as plt\n",
    "from transformer_onestep import GPTConfig, GPT\n",
    "from wh_dataset import WHDataset\n",
    "import tqdm\n",
    "import argparse\n",
    "import metrics"
   ]
  },
  {
   "cell_type": "code",
   "execution_count": 3,
   "id": "e4a8b43d",
   "metadata": {
    "ExecuteTime": {
     "end_time": "2024-07-23T10:03:16.315935Z",
     "start_time": "2024-07-23T10:03:16.312683Z"
    }
   },
   "outputs": [],
   "source": [
    "fig_path = Path(\"fig\")\n",
    "fig_path.mkdir(exist_ok=True)"
   ]
  },
  {
   "cell_type": "code",
   "execution_count": 4,
   "id": "1d446d6d",
   "metadata": {
    "ExecuteTime": {
     "end_time": "2024-07-23T10:03:16.322269Z",
     "start_time": "2024-07-23T10:03:16.317288Z"
    }
   },
   "outputs": [],
   "source": [
    "# Fix all random sources to make script fully reproducible\n",
    "torch.manual_seed(420)\n",
    "np.random.seed(430)\n",
    "system_seed = 430 # Controls the system generation\n",
    "data_seed = 0 # Control the input generation"
   ]
  },
  {
   "cell_type": "code",
   "execution_count": 5,
   "id": "6a235fd7",
   "metadata": {
    "ExecuteTime": {
     "end_time": "2024-07-23T10:03:16.386435Z",
     "start_time": "2024-07-23T10:03:16.323890Z"
    }
   },
   "outputs": [],
   "source": [
    "# Overall settings\n",
    "out_dir = \"out\"\n",
    "\n",
    "# System settings\n",
    "nu = 1\n",
    "ny = 1\n",
    "#seq_len = 600\n",
    "batch_size = 50 # 256\n",
    "\n",
    "# Compute settings\n",
    "cuda_device = \"cuda:1\"\n",
    "no_cuda = True\n",
    "threads = 10\n",
    "compile = False\n",
    "\n",
    "# Configure compute\n",
    "torch.set_num_threads(threads) \n",
    "use_cuda = not no_cuda and torch.cuda.is_available()\n",
    "device_name  = cuda_device if use_cuda else \"cpu\"\n",
    "device = torch.device(device_name)\n",
    "device_type = 'cuda' if 'cuda' in device_name else 'cpu' # for later use in torch.autocast\n",
    "torch.set_float32_matmul_precision(\"high\")\n",
    "#torch.backends.cuda.matmul.allow_tf32 = True # allow tf32 on matmul\n",
    "#torch.backends.cudnn.allow_tf32 = True # allow tf32 on cudnn"
   ]
  },
  {
   "cell_type": "code",
   "execution_count": 6,
   "id": "69ad2d3e",
   "metadata": {
    "ExecuteTime": {
     "end_time": "2024-07-23T10:03:16.434827Z",
     "start_time": "2024-07-23T10:03:16.388751Z"
    }
   },
   "outputs": [],
   "source": [
    "# Create out dir\n",
    "out_dir = Path(out_dir)\n",
    "exp_data = torch.load(out_dir/\"ckpt_wh1_f.pt\", map_location=device)"
   ]
  },
  {
   "cell_type": "code",
   "execution_count": 7,
   "id": "0c029f10",
   "metadata": {
    "ExecuteTime": {
     "end_time": "2024-07-23T10:03:16.443339Z",
     "start_time": "2024-07-23T10:03:16.439415Z"
    }
   },
   "outputs": [],
   "source": [
    "seq_len = exp_data[\"cfg\"].seq_len\n",
    "nx = exp_data[\"cfg\"].nx"
   ]
  },
  {
   "cell_type": "code",
   "execution_count": 8,
   "id": "34332c1a",
   "metadata": {
    "ExecuteTime": {
     "end_time": "2024-07-23T10:03:16.533659Z",
     "start_time": "2024-07-23T10:03:16.445119Z"
    }
   },
   "outputs": [
    {
     "name": "stdout",
     "output_type": "stream",
     "text": [
      "number of parameters: 2.43M\n"
     ]
    }
   ],
   "source": [
    "model_args = exp_data[\"model_args\"]\n",
    "gptconf = GPTConfig(**model_args)\n",
    "model = GPT(gptconf).to(device)\n",
    "\n",
    "\n",
    "state_dict = exp_data[\"model\"]\n",
    "unwanted_prefix = '_orig_mod.'\n",
    "for k,v in list(state_dict.items()):\n",
    "    if k.startswith(unwanted_prefix):\n",
    "        state_dict[k[len(unwanted_prefix):]] = state_dict.pop(k)\n",
    "model.load_state_dict(state_dict);"
   ]
  },
  {
   "cell_type": "code",
   "outputs": [],
   "source": [
    "from control.matlab import *\n",
    "import control"
   ],
   "metadata": {
    "collapsed": false,
    "ExecuteTime": {
     "end_time": "2024-07-23T10:03:16.540374Z",
     "start_time": "2024-07-23T10:03:16.535129Z"
    }
   },
   "id": "5417d37e63028ab2",
   "execution_count": 9
  },
  {
   "cell_type": "code",
   "outputs": [],
   "source": [
    "ts = 1e-2\n",
    "T = 20\n",
    "t = np.arange(0, T, ts)\n",
    "#n_skip = 200\n",
    "u = np.random.default_rng(0).normal(size=(2000, 1))\n",
    "u = u.reshape(-1, 1)"
   ],
   "metadata": {
    "collapsed": false,
    "ExecuteTime": {
     "end_time": "2024-07-23T10:03:16.547433Z",
     "start_time": "2024-07-23T10:03:16.542435Z"
    }
   },
   "id": "84206dcc52c5da24",
   "execution_count": 10
  },
  {
   "cell_type": "code",
   "outputs": [],
   "source": [
    "u, y, A1, B1, C1, D1, A2, B2, C2, D2, w1, b1, w2, b2 = simulate_wh(t,u)"
   ],
   "metadata": {
    "collapsed": false,
    "ExecuteTime": {
     "end_time": "2024-07-23T10:03:16.581538Z",
     "start_time": "2024-07-23T10:03:16.549201Z"
    }
   },
   "id": "7ce72dcb23639a0a",
   "execution_count": 11
  },
  {
   "cell_type": "code",
   "outputs": [],
   "source": [
    "w1 =w1[0]\n",
    "w1= np.array(w1)\n",
    "w1 = w1.flatten()\n",
    "w1 = w1.reshape(-1,1)\n",
    "b1 = b1[0]\n",
    "w2= w2[0]\n",
    "w2 = np.array(w2)\n",
    "b2 = b2[0]\n",
    "\n",
    "G1 = (A1, B1, C1, D1)\n",
    "G1 = (\n",
    "    np.array(G1[0][0]),  # Convert first element\n",
    "    np.array(G1[1][0]),  # Convert second element\n",
    "    np.array(G1[2][0]),  # Convert third element\n",
    "    np.array(G1[3][0])   # Convert fourth element\n",
    ")\n",
    "\n",
    "G2 = (A2, B2, C2, D2)\n",
    "G2 = (\n",
    "    np.array(G2[0][0]),  # Convert first element\n",
    "    np.array(G2[1][0]),  # Convert second element\n",
    "    np.array(G2[2][0]),  # Convert third element\n",
    "    np.array(G2[3][0])   # Convert fourth element\n",
    ")\n",
    "\n",
    "#this actually creates the same system as in wh_dataset"
   ],
   "metadata": {
    "collapsed": false,
    "ExecuteTime": {
     "end_time": "2024-07-23T10:03:16.592107Z",
     "start_time": "2024-07-23T10:03:16.583484Z"
    }
   },
   "id": "7a167edab884279d",
   "execution_count": 12
  },
  {
   "cell_type": "code",
   "outputs": [
    {
     "name": "stdout",
     "output_type": "stream",
     "text": [
      "[array([-2.25014117]), array([0.])]\n"
     ]
    }
   ],
   "source": [
    "print(B1)"
   ],
   "metadata": {
    "collapsed": false,
    "ExecuteTime": {
     "end_time": "2024-07-23T10:03:16.597564Z",
     "start_time": "2024-07-23T10:03:16.593408Z"
    }
   },
   "id": "d773432e9324e60b",
   "execution_count": 13
  },
  {
   "cell_type": "code",
   "execution_count": 14,
   "outputs": [
    {
     "data": {
      "text/plain": "[<matplotlib.lines.Line2D at 0x7f7deae34e20>]"
     },
     "execution_count": 14,
     "metadata": {},
     "output_type": "execute_result"
    },
    {
     "data": {
      "text/plain": "<Figure size 640x480 with 1 Axes>",
      "image/png": "[encoded data removed]"
     },
     "metadata": {},
     "output_type": "display_data"
    }
   ],
   "source": [
    "# reference\n",
    "Ts = 1e-2\n",
    "#t_CL = np.arange(0, 5, Ts)\n",
    "\n",
    "s = tf('s')\n",
    "tau = 1 # s\n",
    "M = 1/(1 + (tau/(2*np.pi))*s)\n",
    "M = M*(1 + 1e-2*(tau/(2*np.pi))*s) # add a high freq zero for inversion\n",
    "T_cl = 5.5\n",
    "t_CL = np.arange(0, T_cl, Ts)\n",
    "\n",
    "r = np.zeros(t_CL.shape)\n",
    "#only one ref should be chosen\n",
    "steps_1 = 0\n",
    "steps_10 = 1\n",
    "steps_100 = 0\n",
    "\n",
    "ramp1 = 0\n",
    "ramp10 = 0\n",
    "ramp100 = 0 # actually 25 (?)\n",
    "ramp_minus10 = 0\n",
    "ramp_minus100 = 0 \n",
    "\n",
    "parabolic1 = 0\n",
    "parabolic10 = 0\n",
    "parabolic100 = 0 # interesting\n",
    "\n",
    "sine_1 = 0 # A = 1 , one period\n",
    "sine_2 = 0 # A = 50 , one period \n",
    "sine_3 = 0 # A = 1 , 10 periods\n",
    "sine_4 = 0 # A =50, 10 periods , this can't be tracked at all\n",
    "sine_5 = 0 # A = 1, 4 periods , qui si vede che è lento, in ritardo\n",
    "sine_6 = 0 # A = 50 , 4 periods\n",
    "\n",
    "impulse1 = 0 # si vede che c' è sempre un oscillazione assoluta\n",
    "impulse10 = 0  # l impulso dura 10 istanti,anche più, ma non se ne accorge proprio\n",
    "impulse100 = 0\n",
    "\n",
    "\n",
    "\n",
    "if steps_1 or ramp1 or parabolic1 or sine_1 or sine_3 or sine_5 or impulse1: value = 1\n",
    "if steps_10 or ramp10 or parabolic10 or impulse10: value = 10\n",
    "if  sine_2 or sine_4 or sine_6 : value = 50\n",
    "if steps_100 or ramp100 or parabolic100 or impulse100 : value = 100\n",
    "if ramp_minus100 : value = -100\n",
    "if ramp_minus10: value = -10\n",
    "if sine_1 or sine_2 : freq = 1/T_cl\n",
    "if sine_3 or sine_4 : freq = 2\n",
    "if sine_5 or sine_6 : freq = 4/T_cl\n",
    "\n",
    "if (steps_1 or steps_10 or steps_100) :\n",
    "    r[t_CL < T_cl/2] = value\n",
    "    r[(t_CL >= T_cl/2) & (t_CL < T_cl)] = - value\n",
    "\n",
    "if (ramp1 or ramp10 or ramp100 or ramp_minus100 or ramp_minus10) :\n",
    "    ramp_up_indices = t_CL <= T_cl/2\n",
    "    r[ramp_up_indices] = t_CL[ramp_up_indices]*value / T_cl/2\n",
    "    ramp_down_indices = (t_CL > T_cl/2) & (t_CL <= T_cl)\n",
    "    r[ramp_down_indices] = (T_cl - t_CL[ramp_down_indices])*value / T_cl/2\n",
    "    \n",
    "if ( parabolic1 or parabolic10 or parabolic100 ) :\n",
    "    ramp_up_indices = t_CL <= T_cl/2\n",
    "    r[ramp_up_indices] = (t_CL[ramp_up_indices]**2)*value / (T_cl/2**2)\n",
    "    ramp_down_indices = (t_CL > T_cl/2) & (t_CL <= T_cl)\n",
    "    r[ramp_down_indices] = ((T_cl - t_CL[ramp_down_indices])**2)*value / (T_cl/2**2)\n",
    "    \n",
    "if (sine_1 or sine_2 or sine_3 or sine_4 or sine_5 or sine_6 ):\n",
    "    r = value * np.sin(2 * np.pi * freq * t_CL)\n",
    "\n",
    "if( impulse1 or impulse100 or impulse10 ):\n",
    "    r[((len(t_CL) // 2)-10) : ((len(t_CL) // 2)+10)] = value\n",
    "\n",
    "plt.plot(r)"
   ],
   "metadata": {
    "collapsed": false,
    "ExecuteTime": {
     "end_time": "2024-07-23T10:03:16.834857Z",
     "start_time": "2024-07-23T10:03:16.599368Z"
    }
   },
   "id": "e32471b8052e8f27"
  },
  {
   "cell_type": "code",
   "outputs": [],
   "source": [
    "##In the prediction cyclr i don't want to use the custom function dlsim, but lsim instead, i need G1 and G2 in tf form\n",
    "# Unpack the matrices\n",
    "A1 = np.squeeze(A1)\n",
    "B1 = np.squeeze(B1)\n",
    "C1 = np.squeeze(C1)\n",
    "D1 = np.squeeze(D1)\n",
    "# Create the state-space system\n",
    "G1_ss = control.ss(A1, B1, C1, D1)\n",
    "# Convert the state-space system to a transfer function\n",
    "G1_tf = control.ss2tf(G1_ss)\n",
    "\n",
    "A2 = np.squeeze(A2)\n",
    "B2 = np.squeeze(B2)\n",
    "C2 = np.squeeze(C2)\n",
    "D2 = np.squeeze(D2)\n",
    "G2_ss = control.ss(A2, B2, C2, D2)\n",
    "G2_tf = control.ss2tf(G2_ss)"
   ],
   "metadata": {
    "collapsed": false,
    "ExecuteTime": {
     "end_time": "2024-07-23T10:03:16.844515Z",
     "start_time": "2024-07-23T10:03:16.836596Z"
    }
   },
   "id": "9a7106b4d6f9b48b",
   "execution_count": 15
  },
  {
   "cell_type": "code",
   "outputs": [
    {
     "data": {
      "text/plain": "TransferFunction(array([ 2.66453526e-15,  3.49649771e-02, -2.89752452e-02, -5.24642431e-03,\n        6.04727777e-03]), array([ 1.        , -3.52215798,  4.9123766 , -3.39403348,  1.16251935,\n       -0.15802009]))",
      "text/latex": "$$\\frac{2.665 \\times 10^{-15} s^4 + 0.03496 s^3 - 0.02898 s^2 - 0.005246 s + 0.006047}{s^5 - 3.522 s^4 + 4.912 s^3 - 3.394 s^2 + 1.163 s - 0.158}$$"
     },
     "execution_count": 16,
     "metadata": {},
     "output_type": "execute_result"
    }
   ],
   "source": [
    "G2_tf"
   ],
   "metadata": {
    "collapsed": false,
    "ExecuteTime": {
     "end_time": "2024-07-23T10:03:16.852244Z",
     "start_time": "2024-07-23T10:03:16.845986Z"
    }
   },
   "id": "e024bdb5f33d1a09",
   "execution_count": 16
  },
  {
   "cell_type": "code",
   "outputs": [],
   "source": [
    "    def nn_fun(x):\n",
    "        out = x @ w1.transpose() + b1\n",
    "        out = np.tanh(out)\n",
    "        out = out @ w2.transpose() + b2\n",
    "        return out"
   ],
   "metadata": {
    "collapsed": false,
    "ExecuteTime": {
     "end_time": "2024-07-23T10:03:16.859095Z",
     "start_time": "2024-07-23T10:03:16.854475Z"
    }
   },
   "id": "eb991747799b5203",
   "execution_count": 17
  },
  {
   "cell_type": "code",
   "outputs": [
    {
     "name": "stdout",
     "output_type": "stream",
     "text": [
      "1.0001974842956707\n",
      "-0.028025585855856277\n"
     ]
    }
   ],
   "source": [
    "print(u.std())\n",
    "print(u.mean())"
   ],
   "metadata": {
    "collapsed": false,
    "ExecuteTime": {
     "end_time": "2024-07-23T10:03:16.865439Z",
     "start_time": "2024-07-23T10:03:16.860917Z"
    }
   },
   "id": "7898a66b54a0a621",
   "execution_count": 18
  },
  {
   "cell_type": "code",
   "outputs": [
    {
     "name": "stdout",
     "output_type": "stream",
     "text": [
      "0\n"
     ]
    }
   ],
   "source": [
    "n_testing = 1\n",
    "H = 5\n",
    "\n",
    "y_log = np.zeros((n_testing,len(t_CL)))\n",
    "e_log = np.zeros((n_testing,len(t_CL)))\n",
    "u_log = np.zeros((n_testing,len(t_CL)))\n",
    "\n",
    "Ts = 1e-2; Fs = 1 / Ts\n",
    "s = tf('s')\n",
    "# problem data\n",
    "\n",
    "with torch.no_grad():\n",
    "    for n_testing in range(n_testing):#len(data_test)):\n",
    "        print(n_testing)\n",
    "        \n",
    "        e = torch.Tensor([[[]]])\n",
    "        u = torch.Tensor([[[]]])\n",
    "        \n",
    "        # This is like t=0, for our model we need u(-1).\n",
    "        u_i = 1e-6 # u(-1)\n",
    "        x_1_i = np.array([[1e-6, 1e-6]])  #G1 has 2 states\n",
    "        x_2_i = np.array([[1e-6, 1e-6, 1e-6, 1e-6, 1e-6,]]) #G2 has 5 states\n",
    "        y_i = 1e-6\n",
    "        \n",
    "        u_log[n_testing,0] = u_i\n",
    "        y_log[n_testing,0] = y_i\n",
    "        \n",
    "        for i in range(0,len(t_CL)):#batch_u.shape[0]): # for each system\n",
    "            \n",
    "            u_i = torch.Tensor([[[u_i]]])   # first you add u(t)\n",
    "            u = torch.cat((u,u_i / 1),2)    # u dovrebbe essere già normalizzato\n",
    "            \n",
    "            e_i = torch.Tensor([[[r[i] - y_i]]]) # e(t)\n",
    "            e = torch.cat((e,e_i / 1.8),2)  \n",
    "            \n",
    "            if i < H:\n",
    "                pred, _ = model(e.reshape(1,-1,1), u.reshape(1,-1,1))\n",
    "            else:\n",
    "                e_tmp = e.reshape(1,-1,1)\n",
    "                u_tmp = u.reshape(1,-1,1)\n",
    "                pred, _ = model(e_tmp[:,-H:,:], u_tmp[:,-H:,:])\n",
    "            \n",
    "            u_i = pred[:,-1,:].item() * 1 # u(t)\n",
    "            \n",
    "            # Controller u(t) = C(e(t-1),u(t-1))\n",
    "            \n",
    "            ##SOMETHING TO FIX HERE\n",
    "            #G1\n",
    "            y_1_i, _, x_1_i = lsim(G1_tf, u_i, np.array([0.0,Ts]), x_1_i[-1], return_x = True)\n",
    "            y_1_i = y_1_i[-1]\n",
    "            y_1_i = (y_1_i - 0.05) / 1.86 # nn_fun riceve y1 normalizzato\n",
    "            y_1_i = y_1_i.reshape(-1, 1)\n",
    "            \n",
    "            # F\n",
    "            y_2_i = nn_fun(y_1_i)\n",
    "            #y_2_i = y_2_i.reshape(-1,1)\n",
    "            y_2_i = y_2_i[0]\n",
    "            \n",
    "            # G2\n",
    "            y_3_i, _, x_2_i = lsim(G2_tf, y_2_i, np.array([0.0,Ts]), x_2_i[-1], return_x = True)\n",
    "            y_3_i = y_3_i[-1]\n",
    "            \n",
    "            y_i = y_3_i\n",
    "        \n",
    "            e_log[n_testing,i] = e_i\n",
    "            if (i+1) < len(t_CL) :\n",
    "              u_log[n_testing,i+1] = u_i\n",
    "              y_log[n_testing,i+1] = y_i"
   ],
   "metadata": {
    "collapsed": false,
    "ExecuteTime": {
     "end_time": "2024-07-23T10:15:47.826128Z",
     "start_time": "2024-07-23T10:15:42.493950Z"
    }
   },
   "id": "b70ef237d8cbfd83",
   "execution_count": 26
  },
  {
   "cell_type": "code",
   "outputs": [
    {
     "data": {
      "text/plain": "<Figure size 700x500 with 1 Axes>",
      "image/png": "[encoded data removed]"
     },
     "metadata": {},
     "output_type": "display_data"
    }
   ],
   "source": [
    "y_d = lsim(M, r,t_CL )[0]\n",
    "\n",
    "\n",
    "fig = plt.figure(figsize=(7, 5))\n",
    "\n",
    "plt.plot(t_CL, r, label=\"$r$\", c='tab:orange')\n",
    "plt.plot(t_CL, y_log.T, label=\"$y$\", c='tab:blue', alpha=1)\n",
    "plt.plot(t_CL, y_d, label=\"$y_d$\", c='tab:green', alpha= 0.5)\n",
    "plt.legend(['$reference$','$y_{controlled}$', '$y_{d}$'], loc = 'upper right', prop={'size': 14})\n",
    "plt.tick_params('x', labelbottom=False)"
   ],
   "metadata": {
    "collapsed": false,
    "ExecuteTime": {
     "end_time": "2024-07-23T10:15:48.795905Z",
     "start_time": "2024-07-23T10:15:48.574516Z"
    }
   },
   "id": "cbe68741c8e45dd0",
   "execution_count": 27
  },
  {
   "cell_type": "code",
   "execution_count": 21,
   "outputs": [
    {
     "data": {
      "text/plain": "<Figure size 700x500 with 2 Axes>",
      "image/png": "[encoded data removed]"
     },
     "metadata": {},
     "output_type": "display_data"
    }
   ],
   "source": [
    "fig = plt.figure(figsize=(7, 5))\n",
    "\n",
    "plt.subplot(211)\n",
    "plt.plot(t_CL, u_log.T, c='tab:blue', alpha=1)\n",
    "plt.legend(['$u$'] , loc = 'upper right', prop={'size': 14})\n",
    "plt.tick_params('x', labelbottom=False)\n",
    "\n",
    "plt.subplot(212)\n",
    "plt.plot(t_CL, e_log.T, c='tab:blue', alpha=1)\n",
    "plt.xlabel('$t$ [s]')\n",
    "plt.legend(['$e$'], loc = 'upper right',prop={'size': 14})\n",
    "\n",
    "# plt.savefig('transformer_controller.pdf')\n",
    "\n",
    "plt.show()"
   ],
   "metadata": {
    "collapsed": false,
    "ExecuteTime": {
     "end_time": "2024-07-23T10:03:21.870082Z",
     "start_time": "2024-07-23T10:03:21.415522Z"
    }
   },
   "id": "fd288b5a3f7dc31d"
  },
  {
   "cell_type": "code",
   "outputs": [
    {
     "name": "stdout",
     "output_type": "stream",
     "text": [
      "MSE (r,y) : 303.08058\n",
      "MSE (y_d,y): 291.40077\n"
     ]
    }
   ],
   "source": [
    "e_log = e_log.reshape(-1)\n",
    "\n",
    "## CALCULATE MSE (r, y) \n",
    "error_tot = 0\n",
    "for k in range(len(e_log)):\n",
    "    squared_error = e_log[k] * e_log[k]\n",
    "    error_tot += squared_error \n",
    "MSE = error_tot / len(e_log)\n",
    "print(f\"MSE (r,y) : {MSE:.5f}\")\n",
    "y_log = y_log.reshape(-1)\n",
    "\n",
    "##CALCULATE MSE ( y_d , y )\n",
    "\n",
    "Mr_error = y_d - y_log\n",
    "mr_error_tot = 0\n",
    "for k in range(len(Mr_error)):\n",
    "    mr_squared_error = Mr_error[k] * Mr_error[k]\n",
    "    mr_error_tot += mr_squared_error \n",
    "MSE2 = mr_error_tot / len(Mr_error)\n",
    "print(f\"MSE (y_d,y): {MSE2:.5f}\")\n"
   ],
   "metadata": {
    "collapsed": false,
    "ExecuteTime": {
     "end_time": "2024-07-23T10:03:21.882010Z",
     "start_time": "2024-07-23T10:03:21.874904Z"
    }
   },
   "id": "6a72ee765388b371",
   "execution_count": 22
  },
  {
   "cell_type": "code",
   "outputs": [
    {
     "data": {
      "text/plain": "<matplotlib.legend.Legend at 0x7f7de848af20>"
     },
     "execution_count": 23,
     "metadata": {},
     "output_type": "execute_result"
    },
    {
     "data": {
      "text/plain": "<Figure size 640x480 with 1 Axes>",
      "image/png": "[encoded data removed]"
     },
     "metadata": {},
     "output_type": "display_data"
    }
   ],
   "source": [
    "plt.plot(t_CL, Mr_error)\n",
    "plt.plot(t_CL, e_log, c='tab:orange')\n",
    "plt.legend(['$MRerror$','$RtoYerror$'])"
   ],
   "metadata": {
    "collapsed": false,
    "ExecuteTime": {
     "end_time": "2024-07-23T10:03:22.077745Z",
     "start_time": "2024-07-23T10:03:21.883475Z"
    }
   },
   "id": "e4af859d0db40971",
   "execution_count": 23
  },
  {
   "cell_type": "markdown",
   "source": [
    "\n",
    "PLOT DISTRIBUTION OF E AND U \n",
    "\n"
   ],
   "metadata": {
    "collapsed": false
   },
   "id": "6e9fd3dfb05ac8df"
  },
  {
   "cell_type": "code",
   "outputs": [],
   "source": [
    "import seaborn as sns\n",
    "import matplotlib.pyplot as plt\n",
    "plot_distributions = False\n",
    "if plot_distributions :\n",
    "    # Example signal u\n",
    "    e = e_log.T\n",
    "    \n",
    "    # Plot histogram and KDE using Seaborn\n",
    "    sns.histplot(e, kde=True)\n",
    "    plt.title('Distribution of Signal e')\n",
    "    plt.xlabel('Value')\n",
    "    plt.ylabel('Frequency')\n",
    "    plt.xlim(-50, 50)\n",
    "    plt.show()"
   ],
   "metadata": {
    "collapsed": false,
    "ExecuteTime": {
     "end_time": "2024-07-23T10:03:22.083600Z",
     "start_time": "2024-07-23T10:03:22.079328Z"
    }
   },
   "id": "2c2db247aa63ff14",
   "execution_count": 24
  },
  {
   "cell_type": "code",
   "outputs": [],
   "source": [
    "import seaborn as sns\n",
    "import matplotlib.pyplot as plt\n",
    "if plot_distributions :\n",
    "    # Example signal u\n",
    "    u = u_log.T\n",
    "    \n",
    "    # Plot histogram and KDE using Seaborn\n",
    "    sns.histplot(u, kde=True)\n",
    "    plt.title('Distribution of Signal u')\n",
    "    plt.xlabel('Value')\n",
    "    plt.ylabel('Frequency')\n",
    "    plt.show()"
   ],
   "metadata": {
    "collapsed": false,
    "ExecuteTime": {
     "end_time": "2024-07-23T10:03:22.088409Z",
     "start_time": "2024-07-23T10:03:22.084949Z"
    }
   },
   "id": "643db15d92fcf1d9",
   "execution_count": 25
  }
 ],
 "metadata": {
  "kernelspec": {
   "display_name": "Python 3 (ipykernel)",
   "language": "python",
   "name": "python3"
  },
  "language_info": {
   "codemirror_mode": {
    "name": "ipython",
    "version": 3
   },
   "file_extension": ".py",
   "mimetype": "text/x-python",
   "name": "python",
   "nbconvert_exporter": "python",
   "pygments_lexer": "ipython3",
   "version": "3.11.0"
  }
 },
 "nbformat": 4,
 "nbformat_minor": 5
}
