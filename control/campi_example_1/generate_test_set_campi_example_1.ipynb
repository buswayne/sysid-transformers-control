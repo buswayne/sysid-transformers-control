{
 "cells": [
  {
   "cell_type": "code",
   "execution_count": 1,
   "outputs": [],
   "source": [
    "import numpy as np\n",
    "import pandas as pd\n",
    "\n",
    "from campi_example_1 import simulate_campi_example_1\n",
    "import matplotlib.pyplot as plt\n",
    "from control.matlab import *\n",
    "plt.rcParams[\"font.family\"] = \"Times New Roman\"\n",
    "plt.rcParams[\"mathtext.fontset\"] = \"cm\"\n",
    "plt.rcParams['axes.labelsize']=14\n",
    "plt.rcParams['xtick.labelsize']=11\n",
    "plt.rcParams['ytick.labelsize']=11\n",
    "plt.rcParams['axes.grid']=True\n",
    "plt.rcParams['axes.xmargin']=0"
   ],
   "metadata": {
    "collapsed": false,
    "ExecuteTime": {
     "end_time": "2024-02-09T14:14:02.146363300Z",
     "start_time": "2024-02-09T14:14:00.814354700Z"
    }
   },
   "id": "c4aac27de79c3bcd"
  },
  {
   "cell_type": "code",
   "execution_count": 2,
   "outputs": [
    {
     "name": "stdout",
     "output_type": "stream",
     "text": [
      "/var/data/rbusetto/transformers-control/control\n"
     ]
    }
   ],
   "source": [
    "import os\n",
    "print(os.getcwd())"
   ],
   "metadata": {
    "collapsed": false,
    "ExecuteTime": {
     "end_time": "2024-02-09T14:14:02.152353700Z",
     "start_time": "2024-02-09T14:14:02.149363300Z"
    }
   },
   "id": "8850a301c6a8c874"
  },
  {
   "cell_type": "code",
   "execution_count": 3,
   "outputs": [
    {
     "name": "stderr",
     "output_type": "stream",
     "text": [
      "/home/rbusetto/.conda/envs/transformers-control/lib/python3.10/site-packages/control/timeresp.py:940: UserWarning: return_x specified for a transfer function system. Internal conversion to state space used; results may meaningless.\n",
      "  warnings.warn(\n"
     ]
    }
   ],
   "source": [
    "N = 50 # n. of test experiments\n",
    "\n",
    "data_test = [None] * N\n",
    "\n",
    "for i in range(N): # generate N I/O sets of data \n",
    "    # Perturbation factor for initial conditions\n",
    "    perturbation = 0.0\n",
    "\n",
    "    # Simulate the system trajectory using the model\n",
    "    t, x, u, y, data = simulate_campi_example_1(perturbation=perturbation)\n",
    "    \n",
    "    data_test[i] = dict(data)"
   ],
   "metadata": {
    "collapsed": false,
    "ExecuteTime": {
     "end_time": "2024-02-09T14:14:03.361989300Z",
     "start_time": "2024-02-09T14:14:02.163112Z"
    }
   },
   "id": "9577df627c76dc2a"
  },
  {
   "cell_type": "code",
   "execution_count": 4,
   "outputs": [],
   "source": [
    "import pickle as pkl\n",
    "from typing import Dict\n",
    "\n",
    "test_set = {'data_test': data_test}\n",
    "with open('data/test_set_campi_example_1.pkl', 'wb') as f:\n",
    "    pkl.dump(test_set, f)"
   ],
   "metadata": {
    "collapsed": false,
    "ExecuteTime": {
     "end_time": "2024-02-09T14:14:03.370962900Z",
     "start_time": "2024-02-09T14:14:03.364982700Z"
    }
   },
   "id": "48142a6935889c24"
  }
 ],
 "metadata": {
  "kernelspec": {
   "display_name": "Python 3",
   "language": "python",
   "name": "python3"
  },
  "language_info": {
   "codemirror_mode": {
    "name": "ipython",
    "version": 2
   },
   "file_extension": ".py",
   "mimetype": "text/x-python",
   "name": "python",
   "nbconvert_exporter": "python",
   "pygments_lexer": "ipython2",
   "version": "2.7.6"
  }
 },
 "nbformat": 4,
 "nbformat_minor": 5
}
